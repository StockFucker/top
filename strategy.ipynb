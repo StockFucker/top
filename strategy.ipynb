{
 "cells": [
  {
   "cell_type": "code",
   "execution_count": 1,
   "metadata": {
    "collapsed": false
   },
   "outputs": [
    {
     "data": {
      "application/javascript": [
       "IPython.OutputArea.prototype._should_scroll = function(lines) {\n",
       "    return false;\n",
       "}"
      ],
      "text/plain": [
       "<IPython.core.display.Javascript object>"
      ]
     },
     "metadata": {},
     "output_type": "display_data"
    }
   ],
   "source": [
    "%%javascript\n",
    "IPython.OutputArea.prototype._should_scroll = function(lines) {\n",
    "    return false;\n",
    "}"
   ]
  },
  {
   "cell_type": "code",
   "execution_count": 2,
   "metadata": {
    "collapsed": false
   },
   "outputs": [
    {
     "name": "stdout",
     "output_type": "stream",
     "text": [
      "Populating the interactive namespace from numpy and matplotlib\n"
     ]
    }
   ],
   "source": [
    "import pandas as pd\n",
    "from utils import *\n",
    "%pylab inline --no-import-all"
   ]
  },
  {
   "cell_type": "code",
   "execution_count": null,
   "metadata": {
    "collapsed": true
   },
   "outputs": [],
   "source": []
  },
  {
   "cell_type": "code",
   "execution_count": null,
   "metadata": {
    "collapsed": true
   },
   "outputs": [],
   "source": []
  },
  {
   "cell_type": "code",
   "execution_count": 3,
   "metadata": {
    "collapsed": true
   },
   "outputs": [],
   "source": [
    "filters_names = [\"jump2-~foot1-small_volume-yz0-~opentop1-top1\",'~jump1-jump2-foot1-foot2-~isnew-~small_capq-small_volume-~opentop1-2']"
   ]
  },
  {
   "cell_type": "code",
   "execution_count": 13,
   "metadata": {
    "collapsed": false
   },
   "outputs": [],
   "source": [
    "filter1 = getFilter('~opentop2-jump1-jump2-small_volume-yz0')\n",
    "filter2 = getFilter('yz0-yz1-~opentop2-isnew-~small_volume')"
   ]
  },
  {
   "cell_type": "code",
   "execution_count": 5,
   "metadata": {
    "collapsed": true
   },
   "outputs": [],
   "source": [
    "filter3 = data_df[\"open1\"] > data_df[\"high_limit1\"] * 0.99"
   ]
  },
  {
   "cell_type": "code",
   "execution_count": 71,
   "metadata": {
    "collapsed": false
   },
   "outputs": [
    {
     "name": "stderr",
     "output_type": "stream",
     "text": [
      "/usr/local/lib/python2.7/site-packages/ipykernel/__main__.py:2: UserWarning: Boolean Series key will be reindexed to match DataFrame index.\n",
      "  from ipykernel import kernelapp as app\n"
     ]
    }
   ],
   "source": []
  },
  {
   "cell_type": "code",
   "execution_count": 176,
   "metadata": {
    "collapsed": false
   },
   "outputs": [
    {
     "name": "stderr",
     "output_type": "stream",
     "text": [
      "/usr/local/lib/python2.7/site-packages/ipykernel/__main__.py:2: UserWarning: Boolean Series key will be reindexed to match DataFrame index.\n",
      "  from ipykernel import kernelapp as app\n"
     ]
    }
   ],
   "source": [
    "filter2 = top0 & yz1\n",
    "valid_df = data_df[filter2]\n",
    "# valid_df = valid_df[valid_df[\"open2\"] < valid_df[\"close1\"] * 1.08]\n",
    "# valid_df = valid_df[valid_df[\"open2\"] > valid_df[\"close1\"] * 1.03]\n",
    "# valid_df = valid_df[valid_df[\"low2\"] < valid_df[\"close1\"] * 1.05]\n",
    "# valid_df = valid_df[valid_df[\"low2\"] < valid_df[\"high_limit2\"]]\n",
    "valid_df = valid_df[valid_df[\"low2\"] > valid_df[\"close1\"] * 1.02]\n",
    "# valid_df = valid_df[valid_df[\"low2\"] < valid_df[\"close1\"] * 1.04]\n",
    "valid_df = valid_df[valid_df[\"volume0\"] > valid_df[\"volume2\"] * 0.5]\n",
    "# valid_df = valid_df[valid_df[\"volume0\"] < valid_df[\"volume2\"] * 0.5]\n",
    "# valid_df[\"low/close\"] = valid_df[\"low2\"]/valid_df[\"close1\"]\n",
    "# valid_df[\"volume0/volume2\"] = valid_df[\"volume0\"]/valid_df[\"volume2\"]\n",
    "\n",
    "# valid_df = valid_df[valid_df[\"volume1\"] < valid_df[\"volume0\"] * 0.3]"
   ]
  },
  {
   "cell_type": "code",
   "execution_count": 177,
   "metadata": {
    "collapsed": false
   },
   "outputs": [
    {
     "data": {
      "text/plain": [
       "(0.7272727272727273, 44, 1.0333623384528865)"
      ]
     },
     "execution_count": 177,
     "metadata": {},
     "output_type": "execute_result"
    }
   ],
   "source": [
    "# valid_df = data_df[filter2]\n",
    "# valid_df = valid_df[isnew]\n",
    "valid_df = valid_df.sort_values(\"minute\")\n",
    "valid_df = valid_df.groupby(\"date\").first()\n",
    "result(valid_df)"
   ]
  },
  {
   "cell_type": "code",
   "execution_count": null,
   "metadata": {
    "collapsed": true
   },
   "outputs": [],
   "source": []
  },
  {
   "cell_type": "code",
   "execution_count": null,
   "metadata": {
    "collapsed": true
   },
   "outputs": [],
   "source": []
  },
  {
   "cell_type": "code",
   "execution_count": null,
   "metadata": {
    "collapsed": true
   },
   "outputs": [],
   "source": []
  },
  {
   "cell_type": "code",
   "execution_count": null,
   "metadata": {
    "collapsed": true
   },
   "outputs": [],
   "source": []
  },
  {
   "cell_type": "code",
   "execution_count": 12,
   "metadata": {
    "collapsed": false
   },
   "outputs": [
    {
     "name": "stderr",
     "output_type": "stream",
     "text": [
      "/usr/local/lib/python2.7/site-packages/ipykernel/__main__.py:1: UserWarning: Boolean Series key will be reindexed to match DataFrame index.\n",
      "  if __name__ == '__main__':\n"
     ]
    },
    {
     "data": {
      "text/plain": [
       "(0.3425414364640884, 181, 0.9835036263589388)"
      ]
     },
     "execution_count": 12,
     "metadata": {},
     "output_type": "execute_result"
    }
   ],
   "source": [
    "valid_df = data_df[filter2]\n",
    "valid_df = valid_df.sort_values(\"minute\")\n",
    "valid_df = valid_df.groupby(\"date\").first()\n",
    "result(valid_df)"
   ]
  },
  {
   "cell_type": "code",
   "execution_count": null,
   "metadata": {
    "collapsed": true
   },
   "outputs": [],
   "source": []
  },
  {
   "cell_type": "code",
   "execution_count": 3,
   "metadata": {
    "collapsed": false
   },
   "outputs": [
    {
     "data": {
      "text/plain": [
       "25443"
      ]
     },
     "execution_count": 3,
     "metadata": {},
     "output_type": "execute_result"
    }
   ],
   "source": [
    "len(data_df)"
   ]
  },
  {
   "cell_type": "code",
   "execution_count": 4,
   "metadata": {
    "collapsed": false
   },
   "outputs": [
    {
     "name": "stdout",
     "output_type": "stream",
     "text": [
      "            mean  count\n",
      "recent                 \n",
      "1.0     0.996727  21637\n",
      "2.0     0.989731   2559\n",
      "3.0     0.993462    586\n",
      "4.0     1.003634    204\n",
      "5.0     0.997963    108\n",
      "6.0     0.984693     55\n",
      "7.0     0.994334     34\n",
      "8.0     0.984509     28\n",
      "9.0     0.973326     27\n",
      "10.0    0.984798     22\n",
      "11.0    0.972756     22\n",
      "12.0    0.990512     25\n",
      "13.0    0.993861     21\n",
      "14.0    1.011669     22\n",
      "15.0    0.973038     16\n",
      "16.0    0.997969     10\n",
      "17.0    1.005700     14\n",
      "18.0    0.999206     13\n",
      "19.0    0.987460     13\n",
      "20.0    0.992932      9\n",
      "21.0    0.978134      5\n",
      "22.0    0.991685      3\n",
      "23.0    1.003554      4\n",
      "24.0    0.991221      2\n",
      "0.445977282553 25443 0.995893999589\n"
     ]
    }
   ],
   "source": [
    "result(data_df)"
   ]
  },
  {
   "cell_type": "code",
   "execution_count": null,
   "metadata": {
    "collapsed": true
   },
   "outputs": [],
   "source": []
  },
  {
   "cell_type": "code",
   "execution_count": 90,
   "metadata": {
    "collapsed": false
   },
   "outputs": [
    {
     "name": "stdout",
     "output_type": "stream",
     "text": [
      "            mean  count\n",
      "recent                 \n",
      "1.0     1.000546    143\n",
      "2.0     1.006267     30\n",
      "3.0     1.020639      7\n",
      "4.0     1.051529      3\n",
      "5.0     1.033567      2\n",
      "0.553191489362 188 1.0031850611\n"
     ]
    }
   ],
   "source": [
    "filter1 = (data_df[\"index_minchange\"] < -0.001) \n",
    "valid_df = data_df[filter1]\n",
    "valid_df = valid_df.sort_values(\"minute\")\n",
    "valid_df = valid_df.groupby(\"date\").first()\n",
    "result(valid_df)"
   ]
  },
  {
   "cell_type": "code",
   "execution_count": 69,
   "metadata": {
    "collapsed": false
   },
   "outputs": [
    {
     "name": "stdout",
     "output_type": "stream",
     "text": [
      "            mean  count\n",
      "recent                 \n",
      "1.0     0.999518     52\n",
      "2.0     1.006354     32\n",
      "3.0     0.953146      8\n",
      "0.484210526316 95 0.998990257111\n"
     ]
    }
   ],
   "source": [
    "filter1 = (data_df[\"index_change\"] < 1.01) & (data_df[\"index_minchange\"] > 0.002)\n",
    "valid_df = data_df[filter1]\n",
    "valid_df = valid_df.sort_values(\"minute\")\n",
    "valid_df = valid_df.groupby(\"date\").first()\n",
    "result(valid_df)"
   ]
  },
  {
   "cell_type": "code",
   "execution_count": 70,
   "metadata": {
    "collapsed": false
   },
   "outputs": [
    {
     "name": "stdout",
     "output_type": "stream",
     "text": [
      "            mean  count\n",
      "recent                 \n",
      "1.0     0.993504     21\n",
      "2.0     0.992456     16\n",
      "3.0     0.964112      4\n",
      "0.52380952381 42 0.991224172185\n"
     ]
    }
   ],
   "source": [
    "filter1 = (data_df[\"top_change\"] < 1.02) & (data_df[\"top_change\"] < 1.01) & (data_df[\"index_minchange\"] > 0.002)\n",
    "valid_df = data_df[filter1]\n",
    "valid_df = valid_df.sort_values(\"minute\")\n",
    "valid_df = valid_df.groupby(\"date\").first()\n",
    "result(valid_df)"
   ]
  },
  {
   "cell_type": "code",
   "execution_count": 154,
   "metadata": {
    "collapsed": false
   },
   "outputs": [
    {
     "data": {
      "text/plain": [
       "<matplotlib.collections.PathCollection at 0x10bc71210>"
      ]
     },
     "execution_count": 154,
     "metadata": {},
     "output_type": "execute_result"
    },
    {
     "data": {
      "image/png": "[encoded data removed]",
      "text/plain": [
       "<matplotlib.figure.Figure at 0x10a31be10>"
      ]
     },
     "metadata": {},
     "output_type": "display_data"
    }
   ],
   "source": [
    "fig, ax = plt.subplots(figsize=(14,8))\n",
    "valid_df = valid_df[valid_df[\"volume0/volume2\"] < 2]\n",
    "ax.scatter(x=valid_df[\"volume0/volume2\"],y=valid_df[\"change\"],alpha=0.3,s=3)"
   ]
  },
  {
   "cell_type": "code",
   "execution_count": 136,
   "metadata": {
    "collapsed": false
   },
   "outputs": [
    {
     "data": {
      "text/html": [
       "<div>\n",
       "<table border=\"1\" class=\"dataframe\">\n",
       "  <thead>\n",
       "    <tr style=\"text-align: right;\">\n",
       "      <th></th>\n",
       "      <th>change</th>\n",
       "      <th>last_day</th>\n",
       "      <th>stock</th>\n",
       "      <th>close0</th>\n",
       "      <th>high0</th>\n",
       "      <th>high_limit0</th>\n",
       "      <th>low0</th>\n",
       "      <th>open0</th>\n",
       "      <th>volume0</th>\n",
       "      <th>day0</th>\n",
       "      <th>...</th>\n",
       "      <th>nearby</th>\n",
       "      <th>wave</th>\n",
       "      <th>vol5</th>\n",
       "      <th>volume_mean</th>\n",
       "      <th>recent_high</th>\n",
       "      <th>volume_high</th>\n",
       "      <th>recent_low</th>\n",
       "      <th>st</th>\n",
       "      <th>isnew</th>\n",
       "      <th>top_change</th>\n",
       "    </tr>\n",
       "    <tr>\n",
       "      <th>date</th>\n",
       "      <th></th>\n",
       "      <th></th>\n",
       "      <th></th>\n",
       "      <th></th>\n",
       "      <th></th>\n",
       "      <th></th>\n",
       "      <th></th>\n",
       "      <th></th>\n",
       "      <th></th>\n",
       "      <th></th>\n",
       "      <th></th>\n",
       "      <th></th>\n",
       "      <th></th>\n",
       "      <th></th>\n",
       "      <th></th>\n",
       "      <th></th>\n",
       "      <th></th>\n",
       "      <th></th>\n",
       "      <th></th>\n",
       "      <th></th>\n",
       "      <th></th>\n",
       "    </tr>\n",
       "  </thead>\n",
       "  <tbody>\n",
       "    <tr>\n",
       "      <th>2007-06-11 00:00:00</th>\n",
       "      <td>1.100398</td>\n",
       "      <td>2007-06-08 00:00:00</td>\n",
       "      <td>000590.XSHE</td>\n",
       "      <td>10.38</td>\n",
       "      <td>10.38</td>\n",
       "      <td>10.38</td>\n",
       "      <td>9.86</td>\n",
       "      <td>10.07</td>\n",
       "      <td>5268814.0</td>\n",
       "      <td>55.0</td>\n",
       "      <td>...</td>\n",
       "      <td>8.0</td>\n",
       "      <td>0</td>\n",
       "      <td>0.100742</td>\n",
       "      <td>4.761426e+06</td>\n",
       "      <td>13.68</td>\n",
       "      <td>28392144.0</td>\n",
       "      <td>2.58</td>\n",
       "      <td>False</td>\n",
       "      <td>0.0</td>\n",
       "      <td>1.015307</td>\n",
       "    </tr>\n",
       "    <tr>\n",
       "      <th>2008-01-11 00:00:00</th>\n",
       "      <td>1.006977</td>\n",
       "      <td>2008-01-10 00:00:00</td>\n",
       "      <td>600836.XSHG</td>\n",
       "      <td>3.55</td>\n",
       "      <td>3.55</td>\n",
       "      <td>3.55</td>\n",
       "      <td>3.31</td>\n",
       "      <td>3.31</td>\n",
       "      <td>19883446.0</td>\n",
       "      <td>240.0</td>\n",
       "      <td>...</td>\n",
       "      <td>0.0</td>\n",
       "      <td>0</td>\n",
       "      <td>0.101408</td>\n",
       "      <td>8.658242e+06</td>\n",
       "      <td>3.33</td>\n",
       "      <td>30445789.0</td>\n",
       "      <td>2.22</td>\n",
       "      <td>False</td>\n",
       "      <td>0.0</td>\n",
       "      <td>1.012387</td>\n",
       "    </tr>\n",
       "    <tr>\n",
       "      <th>2010-11-30 00:00:00</th>\n",
       "      <td>1.029135</td>\n",
       "      <td>2010-11-29 00:00:00</td>\n",
       "      <td>002006.XSHE</td>\n",
       "      <td>9.64</td>\n",
       "      <td>9.64</td>\n",
       "      <td>9.64</td>\n",
       "      <td>8.67</td>\n",
       "      <td>8.89</td>\n",
       "      <td>37747748.0</td>\n",
       "      <td>907.0</td>\n",
       "      <td>...</td>\n",
       "      <td>5.0</td>\n",
       "      <td>0</td>\n",
       "      <td>0.100943</td>\n",
       "      <td>1.830212e+07</td>\n",
       "      <td>9.84</td>\n",
       "      <td>72900667.0</td>\n",
       "      <td>3.25</td>\n",
       "      <td>False</td>\n",
       "      <td>0.0</td>\n",
       "      <td>1.010258</td>\n",
       "    </tr>\n",
       "    <tr>\n",
       "      <th>2013-07-15 00:00:00</th>\n",
       "      <td>1.061495</td>\n",
       "      <td>2013-07-12 00:00:00</td>\n",
       "      <td>300226.XSHE</td>\n",
       "      <td>11.83</td>\n",
       "      <td>11.83</td>\n",
       "      <td>11.83</td>\n",
       "      <td>10.58</td>\n",
       "      <td>10.66</td>\n",
       "      <td>10472983.0</td>\n",
       "      <td>363.0</td>\n",
       "      <td>...</td>\n",
       "      <td>4.0</td>\n",
       "      <td>0</td>\n",
       "      <td>0.100465</td>\n",
       "      <td>2.698897e+06</td>\n",
       "      <td>11.15</td>\n",
       "      <td>14175127.0</td>\n",
       "      <td>5.66</td>\n",
       "      <td>False</td>\n",
       "      <td>0.0</td>\n",
       "      <td>1.025855</td>\n",
       "    </tr>\n",
       "    <tr>\n",
       "      <th>2014-03-21 00:00:00</th>\n",
       "      <td>1.024341</td>\n",
       "      <td>2014-03-20 00:00:00</td>\n",
       "      <td>000687.XSHE</td>\n",
       "      <td>4.07</td>\n",
       "      <td>4.07</td>\n",
       "      <td>4.07</td>\n",
       "      <td>3.65</td>\n",
       "      <td>3.65</td>\n",
       "      <td>39285456.0</td>\n",
       "      <td>528.0</td>\n",
       "      <td>...</td>\n",
       "      <td>1.0</td>\n",
       "      <td>0</td>\n",
       "      <td>0.100737</td>\n",
       "      <td>3.842583e+06</td>\n",
       "      <td>4.27</td>\n",
       "      <td>44072876.0</td>\n",
       "      <td>2.92</td>\n",
       "      <td>False</td>\n",
       "      <td>0.0</td>\n",
       "      <td>0.992316</td>\n",
       "    </tr>\n",
       "    <tr>\n",
       "      <th>2014-06-30 00:00:00</th>\n",
       "      <td>0.998883</td>\n",
       "      <td>2014-06-27 00:00:00</td>\n",
       "      <td>600285.XSHG</td>\n",
       "      <td>7.39</td>\n",
       "      <td>7.39</td>\n",
       "      <td>7.39</td>\n",
       "      <td>6.75</td>\n",
       "      <td>6.82</td>\n",
       "      <td>70592313.0</td>\n",
       "      <td>580.0</td>\n",
       "      <td>...</td>\n",
       "      <td>0.0</td>\n",
       "      <td>0</td>\n",
       "      <td>0.100861</td>\n",
       "      <td>5.222783e+06</td>\n",
       "      <td>6.83</td>\n",
       "      <td>41074239.0</td>\n",
       "      <td>5.70</td>\n",
       "      <td>False</td>\n",
       "      <td>0.0</td>\n",
       "      <td>1.029202</td>\n",
       "    </tr>\n",
       "    <tr>\n",
       "      <th>2015-04-13 00:00:00</th>\n",
       "      <td>1.028025</td>\n",
       "      <td>2015-04-10 00:00:00</td>\n",
       "      <td>300053.XSHE</td>\n",
       "      <td>12.10</td>\n",
       "      <td>12.10</td>\n",
       "      <td>12.10</td>\n",
       "      <td>11.13</td>\n",
       "      <td>11.15</td>\n",
       "      <td>35803047.0</td>\n",
       "      <td>685.0</td>\n",
       "      <td>...</td>\n",
       "      <td>1.0</td>\n",
       "      <td>0</td>\n",
       "      <td>0.101001</td>\n",
       "      <td>2.139403e+07</td>\n",
       "      <td>11.52</td>\n",
       "      <td>50341207.0</td>\n",
       "      <td>6.52</td>\n",
       "      <td>False</td>\n",
       "      <td>0.0</td>\n",
       "      <td>1.032674</td>\n",
       "    </tr>\n",
       "    <tr>\n",
       "      <th>2015-05-27 00:00:00</th>\n",
       "      <td>1.099614</td>\n",
       "      <td>2015-05-26 00:00:00</td>\n",
       "      <td>002427.XSHE</td>\n",
       "      <td>19.24</td>\n",
       "      <td>19.24</td>\n",
       "      <td>19.24</td>\n",
       "      <td>18.49</td>\n",
       "      <td>18.51</td>\n",
       "      <td>14867240.0</td>\n",
       "      <td>813.0</td>\n",
       "      <td>...</td>\n",
       "      <td>0.0</td>\n",
       "      <td>0</td>\n",
       "      <td>0.100312</td>\n",
       "      <td>6.465714e+06</td>\n",
       "      <td>17.50</td>\n",
       "      <td>25173547.0</td>\n",
       "      <td>8.31</td>\n",
       "      <td>False</td>\n",
       "      <td>0.0</td>\n",
       "      <td>1.032881</td>\n",
       "    </tr>\n",
       "    <tr>\n",
       "      <th>2015-06-03 00:00:00</th>\n",
       "      <td>1.071639</td>\n",
       "      <td>2015-06-02 00:00:00</td>\n",
       "      <td>000723.XSHE</td>\n",
       "      <td>8.42</td>\n",
       "      <td>8.42</td>\n",
       "      <td>8.42</td>\n",
       "      <td>7.79</td>\n",
       "      <td>7.90</td>\n",
       "      <td>16275094.0</td>\n",
       "      <td>736.0</td>\n",
       "      <td>...</td>\n",
       "      <td>1.0</td>\n",
       "      <td>0</td>\n",
       "      <td>0.100654</td>\n",
       "      <td>2.150079e+07</td>\n",
       "      <td>8.75</td>\n",
       "      <td>57798973.0</td>\n",
       "      <td>4.11</td>\n",
       "      <td>False</td>\n",
       "      <td>0.0</td>\n",
       "      <td>1.027177</td>\n",
       "    </tr>\n",
       "    <tr>\n",
       "      <th>2015-07-13 00:00:00</th>\n",
       "      <td>1.072930</td>\n",
       "      <td>2015-07-10 00:00:00</td>\n",
       "      <td>300469.XSHE</td>\n",
       "      <td>46.80</td>\n",
       "      <td>46.80</td>\n",
       "      <td>46.80</td>\n",
       "      <td>41.41</td>\n",
       "      <td>41.41</td>\n",
       "      <td>1267612.0</td>\n",
       "      <td>19.0</td>\n",
       "      <td>...</td>\n",
       "      <td>0.0</td>\n",
       "      <td>0</td>\n",
       "      <td>0.100042</td>\n",
       "      <td>7.951865e+06</td>\n",
       "      <td>64.20</td>\n",
       "      <td>11447948.0</td>\n",
       "      <td>13.34</td>\n",
       "      <td>False</td>\n",
       "      <td>1.0</td>\n",
       "      <td>1.058627</td>\n",
       "    </tr>\n",
       "    <tr>\n",
       "      <th>2015-07-14 00:00:00</th>\n",
       "      <td>0.984166</td>\n",
       "      <td>2015-07-13 00:00:00</td>\n",
       "      <td>600325.XSHG</td>\n",
       "      <td>6.79</td>\n",
       "      <td>6.79</td>\n",
       "      <td>6.79</td>\n",
       "      <td>5.55</td>\n",
       "      <td>5.55</td>\n",
       "      <td>95878361.0</td>\n",
       "      <td>844.0</td>\n",
       "      <td>...</td>\n",
       "      <td>2.0</td>\n",
       "      <td>0</td>\n",
       "      <td>0.100536</td>\n",
       "      <td>8.810206e+07</td>\n",
       "      <td>12.72</td>\n",
       "      <td>209531355.0</td>\n",
       "      <td>6.17</td>\n",
       "      <td>False</td>\n",
       "      <td>0.0</td>\n",
       "      <td>1.002549</td>\n",
       "    </tr>\n",
       "    <tr>\n",
       "      <th>2015-07-17 00:00:00</th>\n",
       "      <td>1.063604</td>\n",
       "      <td>2015-07-16 00:00:00</td>\n",
       "      <td>002663.XSHE</td>\n",
       "      <td>7.02</td>\n",
       "      <td>7.02</td>\n",
       "      <td>7.02</td>\n",
       "      <td>5.74</td>\n",
       "      <td>5.74</td>\n",
       "      <td>114246428.0</td>\n",
       "      <td>733.0</td>\n",
       "      <td>...</td>\n",
       "      <td>1.0</td>\n",
       "      <td>0</td>\n",
       "      <td>0.100313</td>\n",
       "      <td>5.383877e+07</td>\n",
       "      <td>16.04</td>\n",
       "      <td>177008357.0</td>\n",
       "      <td>5.54</td>\n",
       "      <td>False</td>\n",
       "      <td>0.0</td>\n",
       "      <td>1.064013</td>\n",
       "    </tr>\n",
       "    <tr>\n",
       "      <th>2015-07-21 00:00:00</th>\n",
       "      <td>1.013309</td>\n",
       "      <td>2015-07-20 00:00:00</td>\n",
       "      <td>300328.XSHE</td>\n",
       "      <td>13.66</td>\n",
       "      <td>13.66</td>\n",
       "      <td>13.66</td>\n",
       "      <td>12.88</td>\n",
       "      <td>12.98</td>\n",
       "      <td>10723456.0</td>\n",
       "      <td>731.0</td>\n",
       "      <td>...</td>\n",
       "      <td>4.0</td>\n",
       "      <td>1</td>\n",
       "      <td>0.100725</td>\n",
       "      <td>1.065778e+07</td>\n",
       "      <td>32.49</td>\n",
       "      <td>31596591.0</td>\n",
       "      <td>10.26</td>\n",
       "      <td>False</td>\n",
       "      <td>0.0</td>\n",
       "      <td>0.984340</td>\n",
       "    </tr>\n",
       "    <tr>\n",
       "      <th>2015-11-11 00:00:00</th>\n",
       "      <td>1.025445</td>\n",
       "      <td>2015-11-10 00:00:00</td>\n",
       "      <td>002772.XSHE</td>\n",
       "      <td>19.49</td>\n",
       "      <td>19.49</td>\n",
       "      <td>19.49</td>\n",
       "      <td>16.88</td>\n",
       "      <td>17.25</td>\n",
       "      <td>25530240.0</td>\n",
       "      <td>84.0</td>\n",
       "      <td>...</td>\n",
       "      <td>5.0</td>\n",
       "      <td>1</td>\n",
       "      <td>0.100051</td>\n",
       "      <td>1.439430e+07</td>\n",
       "      <td>25.37</td>\n",
       "      <td>39244624.0</td>\n",
       "      <td>7.55</td>\n",
       "      <td>False</td>\n",
       "      <td>1.0</td>\n",
       "      <td>1.025428</td>\n",
       "    </tr>\n",
       "    <tr>\n",
       "      <th>2017-04-11 00:00:00</th>\n",
       "      <td>0.987728</td>\n",
       "      <td>2017-04-10 00:00:00</td>\n",
       "      <td>603969.XSHG</td>\n",
       "      <td>20.87</td>\n",
       "      <td>20.87</td>\n",
       "      <td>20.87</td>\n",
       "      <td>19.35</td>\n",
       "      <td>19.51</td>\n",
       "      <td>24872311.0</td>\n",
       "      <td>515.0</td>\n",
       "      <td>...</td>\n",
       "      <td>1.0</td>\n",
       "      <td>0</td>\n",
       "      <td>0.100174</td>\n",
       "      <td>4.344463e+06</td>\n",
       "      <td>18.97</td>\n",
       "      <td>57072394.0</td>\n",
       "      <td>12.81</td>\n",
       "      <td>False</td>\n",
       "      <td>0.0</td>\n",
       "      <td>1.035219</td>\n",
       "    </tr>\n",
       "  </tbody>\n",
       "</table>\n",
       "<p>15 rows × 46 columns</p>\n",
       "</div>"
      ],
      "text/plain": [
       "                       change             last_day        stock  close0  \\\n",
       "date                                                                      \n",
       "2007-06-11 00:00:00  1.100398  2007-06-08 00:00:00  000590.XSHE   10.38   \n",
       "2008-01-11 00:00:00  1.006977  2008-01-10 00:00:00  600836.XSHG    3.55   \n",
       "2010-11-30 00:00:00  1.029135  2010-11-29 00:00:00  002006.XSHE    9.64   \n",
       "2013-07-15 00:00:00  1.061495  2013-07-12 00:00:00  300226.XSHE   11.83   \n",
       "2014-03-21 00:00:00  1.024341  2014-03-20 00:00:00  000687.XSHE    4.07   \n",
       "2014-06-30 00:00:00  0.998883  2014-06-27 00:00:00  600285.XSHG    7.39   \n",
       "2015-04-13 00:00:00  1.028025  2015-04-10 00:00:00  300053.XSHE   12.10   \n",
       "2015-05-27 00:00:00  1.099614  2015-05-26 00:00:00  002427.XSHE   19.24   \n",
       "2015-06-03 00:00:00  1.071639  2015-06-02 00:00:00  000723.XSHE    8.42   \n",
       "2015-07-13 00:00:00  1.072930  2015-07-10 00:00:00  300469.XSHE   46.80   \n",
       "2015-07-14 00:00:00  0.984166  2015-07-13 00:00:00  600325.XSHG    6.79   \n",
       "2015-07-17 00:00:00  1.063604  2015-07-16 00:00:00  002663.XSHE    7.02   \n",
       "2015-07-21 00:00:00  1.013309  2015-07-20 00:00:00  300328.XSHE   13.66   \n",
       "2015-11-11 00:00:00  1.025445  2015-11-10 00:00:00  002772.XSHE   19.49   \n",
       "2017-04-11 00:00:00  0.987728  2017-04-10 00:00:00  603969.XSHG   20.87   \n",
       "\n",
       "                     high0  high_limit0   low0  open0      volume0   day0  \\\n",
       "date                                                                        \n",
       "2007-06-11 00:00:00  10.38        10.38   9.86  10.07    5268814.0   55.0   \n",
       "2008-01-11 00:00:00   3.55         3.55   3.31   3.31   19883446.0  240.0   \n",
       "2010-11-30 00:00:00   9.64         9.64   8.67   8.89   37747748.0  907.0   \n",
       "2013-07-15 00:00:00  11.83        11.83  10.58  10.66   10472983.0  363.0   \n",
       "2014-03-21 00:00:00   4.07         4.07   3.65   3.65   39285456.0  528.0   \n",
       "2014-06-30 00:00:00   7.39         7.39   6.75   6.82   70592313.0  580.0   \n",
       "2015-04-13 00:00:00  12.10        12.10  11.13  11.15   35803047.0  685.0   \n",
       "2015-05-27 00:00:00  19.24        19.24  18.49  18.51   14867240.0  813.0   \n",
       "2015-06-03 00:00:00   8.42         8.42   7.79   7.90   16275094.0  736.0   \n",
       "2015-07-13 00:00:00  46.80        46.80  41.41  41.41    1267612.0   19.0   \n",
       "2015-07-14 00:00:00   6.79         6.79   5.55   5.55   95878361.0  844.0   \n",
       "2015-07-17 00:00:00   7.02         7.02   5.74   5.74  114246428.0  733.0   \n",
       "2015-07-21 00:00:00  13.66        13.66  12.88  12.98   10723456.0  731.0   \n",
       "2015-11-11 00:00:00  19.49        19.49  16.88  17.25   25530240.0   84.0   \n",
       "2017-04-11 00:00:00  20.87        20.87  19.35  19.51   24872311.0  515.0   \n",
       "\n",
       "                        ...      nearby  wave      vol5   volume_mean  \\\n",
       "date                    ...                                             \n",
       "2007-06-11 00:00:00     ...         8.0     0  0.100742  4.761426e+06   \n",
       "2008-01-11 00:00:00     ...         0.0     0  0.101408  8.658242e+06   \n",
       "2010-11-30 00:00:00     ...         5.0     0  0.100943  1.830212e+07   \n",
       "2013-07-15 00:00:00     ...         4.0     0  0.100465  2.698897e+06   \n",
       "2014-03-21 00:00:00     ...         1.0     0  0.100737  3.842583e+06   \n",
       "2014-06-30 00:00:00     ...         0.0     0  0.100861  5.222783e+06   \n",
       "2015-04-13 00:00:00     ...         1.0     0  0.101001  2.139403e+07   \n",
       "2015-05-27 00:00:00     ...         0.0     0  0.100312  6.465714e+06   \n",
       "2015-06-03 00:00:00     ...         1.0     0  0.100654  2.150079e+07   \n",
       "2015-07-13 00:00:00     ...         0.0     0  0.100042  7.951865e+06   \n",
       "2015-07-14 00:00:00     ...         2.0     0  0.100536  8.810206e+07   \n",
       "2015-07-17 00:00:00     ...         1.0     0  0.100313  5.383877e+07   \n",
       "2015-07-21 00:00:00     ...         4.0     1  0.100725  1.065778e+07   \n",
       "2015-11-11 00:00:00     ...         5.0     1  0.100051  1.439430e+07   \n",
       "2017-04-11 00:00:00     ...         1.0     0  0.100174  4.344463e+06   \n",
       "\n",
       "                     recent_high  volume_high  recent_low     st  isnew  \\\n",
       "date                                                                      \n",
       "2007-06-11 00:00:00        13.68   28392144.0        2.58  False    0.0   \n",
       "2008-01-11 00:00:00         3.33   30445789.0        2.22  False    0.0   \n",
       "2010-11-30 00:00:00         9.84   72900667.0        3.25  False    0.0   \n",
       "2013-07-15 00:00:00        11.15   14175127.0        5.66  False    0.0   \n",
       "2014-03-21 00:00:00         4.27   44072876.0        2.92  False    0.0   \n",
       "2014-06-30 00:00:00         6.83   41074239.0        5.70  False    0.0   \n",
       "2015-04-13 00:00:00        11.52   50341207.0        6.52  False    0.0   \n",
       "2015-05-27 00:00:00        17.50   25173547.0        8.31  False    0.0   \n",
       "2015-06-03 00:00:00         8.75   57798973.0        4.11  False    0.0   \n",
       "2015-07-13 00:00:00        64.20   11447948.0       13.34  False    1.0   \n",
       "2015-07-14 00:00:00        12.72  209531355.0        6.17  False    0.0   \n",
       "2015-07-17 00:00:00        16.04  177008357.0        5.54  False    0.0   \n",
       "2015-07-21 00:00:00        32.49   31596591.0       10.26  False    0.0   \n",
       "2015-11-11 00:00:00        25.37   39244624.0        7.55  False    1.0   \n",
       "2017-04-11 00:00:00        18.97   57072394.0       12.81  False    0.0   \n",
       "\n",
       "                     top_change  \n",
       "date                             \n",
       "2007-06-11 00:00:00    1.015307  \n",
       "2008-01-11 00:00:00    1.012387  \n",
       "2010-11-30 00:00:00    1.010258  \n",
       "2013-07-15 00:00:00    1.025855  \n",
       "2014-03-21 00:00:00    0.992316  \n",
       "2014-06-30 00:00:00    1.029202  \n",
       "2015-04-13 00:00:00    1.032674  \n",
       "2015-05-27 00:00:00    1.032881  \n",
       "2015-06-03 00:00:00    1.027177  \n",
       "2015-07-13 00:00:00    1.058627  \n",
       "2015-07-14 00:00:00    1.002549  \n",
       "2015-07-17 00:00:00    1.064013  \n",
       "2015-07-21 00:00:00    0.984340  \n",
       "2015-11-11 00:00:00    1.025428  \n",
       "2017-04-11 00:00:00    1.035219  \n",
       "\n",
       "[15 rows x 46 columns]"
      ]
     },
     "execution_count": 136,
     "metadata": {},
     "output_type": "execute_result"
    }
   ],
   "source": [
    "valid_df"
   ]
  },
  {
   "cell_type": "code",
   "execution_count": 22,
   "metadata": {
    "collapsed": false
   },
   "outputs": [
    {
     "name": "stderr",
     "output_type": "stream",
     "text": [
      "/usr/local/lib/python2.7/site-packages/ipykernel/__main__.py:1: UserWarning: Boolean Series key will be reindexed to match DataFrame index.\n",
      "  if __name__ == '__main__':\n"
     ]
    },
    {
     "ename": "IndexingError",
     "evalue": "Unalignable boolean Series key provided",
     "output_type": "error",
     "traceback": [
      "\u001b[0;31m---------------------------------------------------------------------------\u001b[0m",
      "\u001b[0;31mIndexingError\u001b[0m                             Traceback (most recent call last)",
      "\u001b[0;32m<ipython-input-22-92a3b888d226>\u001b[0m in \u001b[0;36m<module>\u001b[0;34m()\u001b[0m\n\u001b[0;32m----> 1\u001b[0;31m \u001b[0mvalid_df\u001b[0m\u001b[0;34m[\u001b[0m\u001b[0mtop1\u001b[0m\u001b[0;34m]\u001b[0m\u001b[0;34m\u001b[0m\u001b[0m\n\u001b[0m",
      "\u001b[0;32m/usr/local/lib/python2.7/site-packages/pandas/core/frame.pyc\u001b[0m in \u001b[0;36m__getitem__\u001b[0;34m(self, key)\u001b[0m\n\u001b[1;32m   2051\u001b[0m         \u001b[0;32mif\u001b[0m \u001b[0misinstance\u001b[0m\u001b[0;34m(\u001b[0m\u001b[0mkey\u001b[0m\u001b[0;34m,\u001b[0m \u001b[0;34m(\u001b[0m\u001b[0mSeries\u001b[0m\u001b[0;34m,\u001b[0m \u001b[0mnp\u001b[0m\u001b[0;34m.\u001b[0m\u001b[0mndarray\u001b[0m\u001b[0;34m,\u001b[0m \u001b[0mIndex\u001b[0m\u001b[0;34m,\u001b[0m \u001b[0mlist\u001b[0m\u001b[0;34m)\u001b[0m\u001b[0;34m)\u001b[0m\u001b[0;34m:\u001b[0m\u001b[0;34m\u001b[0m\u001b[0m\n\u001b[1;32m   2052\u001b[0m             \u001b[0;31m# either boolean or fancy integer index\u001b[0m\u001b[0;34m\u001b[0m\u001b[0;34m\u001b[0m\u001b[0m\n\u001b[0;32m-> 2053\u001b[0;31m             \u001b[0;32mreturn\u001b[0m \u001b[0mself\u001b[0m\u001b[0;34m.\u001b[0m\u001b[0m_getitem_array\u001b[0m\u001b[0;34m(\u001b[0m\u001b[0mkey\u001b[0m\u001b[0;34m)\u001b[0m\u001b[0;34m\u001b[0m\u001b[0m\n\u001b[0m\u001b[1;32m   2054\u001b[0m         \u001b[0;32melif\u001b[0m \u001b[0misinstance\u001b[0m\u001b[0;34m(\u001b[0m\u001b[0mkey\u001b[0m\u001b[0;34m,\u001b[0m \u001b[0mDataFrame\u001b[0m\u001b[0;34m)\u001b[0m\u001b[0;34m:\u001b[0m\u001b[0;34m\u001b[0m\u001b[0m\n\u001b[1;32m   2055\u001b[0m             \u001b[0;32mreturn\u001b[0m \u001b[0mself\u001b[0m\u001b[0;34m.\u001b[0m\u001b[0m_getitem_frame\u001b[0m\u001b[0;34m(\u001b[0m\u001b[0mkey\u001b[0m\u001b[0;34m)\u001b[0m\u001b[0;34m\u001b[0m\u001b[0m\n",
      "\u001b[0;32m/usr/local/lib/python2.7/site-packages/pandas/core/frame.pyc\u001b[0m in \u001b[0;36m_getitem_array\u001b[0;34m(self, key)\u001b[0m\n\u001b[1;32m   2091\u001b[0m             \u001b[0;31m# check_bool_indexer will throw exception if Series key cannot\u001b[0m\u001b[0;34m\u001b[0m\u001b[0;34m\u001b[0m\u001b[0m\n\u001b[1;32m   2092\u001b[0m             \u001b[0;31m# be reindexed to match DataFrame rows\u001b[0m\u001b[0;34m\u001b[0m\u001b[0;34m\u001b[0m\u001b[0m\n\u001b[0;32m-> 2093\u001b[0;31m             \u001b[0mkey\u001b[0m \u001b[0;34m=\u001b[0m \u001b[0mcheck_bool_indexer\u001b[0m\u001b[0;34m(\u001b[0m\u001b[0mself\u001b[0m\u001b[0;34m.\u001b[0m\u001b[0mindex\u001b[0m\u001b[0;34m,\u001b[0m \u001b[0mkey\u001b[0m\u001b[0;34m)\u001b[0m\u001b[0;34m\u001b[0m\u001b[0m\n\u001b[0m\u001b[1;32m   2094\u001b[0m             \u001b[0mindexer\u001b[0m \u001b[0;34m=\u001b[0m \u001b[0mkey\u001b[0m\u001b[0;34m.\u001b[0m\u001b[0mnonzero\u001b[0m\u001b[0;34m(\u001b[0m\u001b[0;34m)\u001b[0m\u001b[0;34m[\u001b[0m\u001b[0;36m0\u001b[0m\u001b[0;34m]\u001b[0m\u001b[0;34m\u001b[0m\u001b[0m\n\u001b[1;32m   2095\u001b[0m             \u001b[0;32mreturn\u001b[0m \u001b[0mself\u001b[0m\u001b[0;34m.\u001b[0m\u001b[0mtake\u001b[0m\u001b[0;34m(\u001b[0m\u001b[0mindexer\u001b[0m\u001b[0;34m,\u001b[0m \u001b[0maxis\u001b[0m\u001b[0;34m=\u001b[0m\u001b[0;36m0\u001b[0m\u001b[0;34m,\u001b[0m \u001b[0mconvert\u001b[0m\u001b[0;34m=\u001b[0m\u001b[0mFalse\u001b[0m\u001b[0;34m)\u001b[0m\u001b[0;34m\u001b[0m\u001b[0m\n",
      "\u001b[0;32m/usr/local/lib/python2.7/site-packages/pandas/core/indexing.pyc\u001b[0m in \u001b[0;36mcheck_bool_indexer\u001b[0;34m(ax, key)\u001b[0m\n\u001b[1;32m   1815\u001b[0m         \u001b[0mmask\u001b[0m \u001b[0;34m=\u001b[0m \u001b[0misnull\u001b[0m\u001b[0;34m(\u001b[0m\u001b[0mresult\u001b[0m\u001b[0;34m.\u001b[0m\u001b[0m_values\u001b[0m\u001b[0;34m)\u001b[0m\u001b[0;34m\u001b[0m\u001b[0m\n\u001b[1;32m   1816\u001b[0m         \u001b[0;32mif\u001b[0m \u001b[0mmask\u001b[0m\u001b[0;34m.\u001b[0m\u001b[0many\u001b[0m\u001b[0;34m(\u001b[0m\u001b[0;34m)\u001b[0m\u001b[0;34m:\u001b[0m\u001b[0;34m\u001b[0m\u001b[0m\n\u001b[0;32m-> 1817\u001b[0;31m             \u001b[0;32mraise\u001b[0m \u001b[0mIndexingError\u001b[0m\u001b[0;34m(\u001b[0m\u001b[0;34m'Unalignable boolean Series key provided'\u001b[0m\u001b[0;34m)\u001b[0m\u001b[0;34m\u001b[0m\u001b[0m\n\u001b[0m\u001b[1;32m   1818\u001b[0m         \u001b[0mresult\u001b[0m \u001b[0;34m=\u001b[0m \u001b[0mresult\u001b[0m\u001b[0;34m.\u001b[0m\u001b[0mastype\u001b[0m\u001b[0;34m(\u001b[0m\u001b[0mbool\u001b[0m\u001b[0;34m)\u001b[0m\u001b[0;34m.\u001b[0m\u001b[0m_values\u001b[0m\u001b[0;34m\u001b[0m\u001b[0m\n\u001b[1;32m   1819\u001b[0m     \u001b[0;32melif\u001b[0m \u001b[0mis_sparse\u001b[0m\u001b[0;34m(\u001b[0m\u001b[0mresult\u001b[0m\u001b[0;34m)\u001b[0m\u001b[0;34m:\u001b[0m\u001b[0;34m\u001b[0m\u001b[0m\n",
      "\u001b[0;31mIndexingError\u001b[0m: Unalignable boolean Series key provided"
     ]
    }
   ],
   "source": [
    "valid_df[top1]"
   ]
  },
  {
   "cell_type": "code",
   "execution_count": null,
   "metadata": {
    "collapsed": true
   },
   "outputs": [],
   "source": []
  }
 ],
 "metadata": {
  "kernelspec": {
   "display_name": "Python 2",
   "language": "python",
   "name": "python2"
  },
  "language_info": {
   "codemirror_mode": {
    "name": "ipython",
    "version": 2
   },
   "file_extension": ".py",
   "mimetype": "text/x-python",
   "name": "python",
   "nbconvert_exporter": "python",
   "pygments_lexer": "ipython2",
   "version": "2.7.11"
  }
 },
 "nbformat": 4,
 "nbformat_minor": 0
}
