{
 "cells": [
  {
   "cell_type": "code",
   "execution_count": 1,
   "metadata": {
    "collapsed": false
   },
   "outputs": [
    {
     "data": {
      "application/javascript": [
       "IPython.OutputArea.prototype._should_scroll = function(lines) {\n",
       "    return false;\n",
       "}"
      ],
      "text/plain": [
       "<IPython.core.display.Javascript object>"
      ]
     },
     "metadata": {},
     "output_type": "display_data"
    }
   ],
   "source": [
    "%%javascript\n",
    "IPython.OutputArea.prototype._should_scroll = function(lines) {\n",
    "    return false;\n",
    "}"
   ]
  },
  {
   "cell_type": "code",
   "execution_count": 2,
   "metadata": {
    "collapsed": false
   },
   "outputs": [
    {
     "name": "stdout",
     "output_type": "stream",
     "text": [
      "Populating the interactive namespace from numpy and matplotlib\n"
     ]
    }
   ],
   "source": [
    "import pandas as pd\n",
    "from utils import *\n",
    "%pylab inline --no-import-all"
   ]
  },
  {
   "cell_type": "code",
   "execution_count": 3,
   "metadata": {
    "collapsed": true
   },
   "outputs": [],
   "source": [
    "filters_names = [\"jump2-~foot1-small_volume-yz0-~opentop1-top1\",'~jump1-jump2-foot1-foot2-~isnew-~small_capq-small_volume-~opentop1-2']"
   ]
  },
  {
   "cell_type": "code",
   "execution_count": 13,
   "metadata": {
    "collapsed": false
   },
   "outputs": [],
   "source": [
    "filter1 = getFilter('~opentop2-jump1-jump2-small_volume-yz0')\n",
    "filter2 = getFilter('yz0-yz1-~opentop2-isnew-~small_volume')"
   ]
  },
  {
   "cell_type": "code",
   "execution_count": 5,
   "metadata": {
    "collapsed": true
   },
   "outputs": [],
   "source": [
    "filter3 = data_df[\"open1\"] > data_df[\"high_limit1\"] * 0.99"
   ]
  },
  {
   "cell_type": "code",
   "execution_count": 6,
   "metadata": {
    "collapsed": false
   },
   "outputs": [],
   "source": [
    "filter2 = minute & ~isnew & ~foot(2,1.0) & ~jump2 & foot(2,0.9) & minute2 & break_top & (data_df[\"open2\"] < data_df[\"close1\"] * 1.03) & (data_df[\"minute_low\"] > data_df[\"close1\"] * 0.97)"
   ]
  },
  {
   "cell_type": "code",
   "execution_count": null,
   "metadata": {
    "collapsed": true
   },
   "outputs": [],
   "source": []
  },
  {
   "cell_type": "code",
   "execution_count": 11,
   "metadata": {
    "collapsed": false
   },
   "outputs": [
    {
     "name": "stdout",
     "output_type": "stream",
     "text": [
      "Empty DataFrame\n",
      "Columns: [mean, count]\n",
      "Index: []\n",
      "1.0 1 1.10027744748\n"
     ]
    },
    {
     "name": "stderr",
     "output_type": "stream",
     "text": [
      "/Users/sgcy/anaconda/lib/python2.7/site-packages/ipykernel/__main__.py:1: UserWarning: Boolean Series key will be reindexed to match DataFrame index.\n",
      "  if __name__ == '__main__':\n"
     ]
    }
   ],
   "source": [
    "valid_df = data_df[filter1 & filter2]\n",
    "# valid_df = valid_df[isnew]\n",
    "valid_df = valid_df.sort_values(\"minute\")\n",
    "valid_df = valid_df.groupby(\"date\").first()\n",
    "result(valid_df)"
   ]
  },
  {
   "cell_type": "code",
   "execution_count": 14,
   "metadata": {
    "collapsed": false
   },
   "outputs": [
    {
     "name": "stdout",
     "output_type": "stream",
     "text": [
      "            mean  count\n",
      "recent                 \n",
      "3.0     0.993182      7\n",
      "4.0     1.012833     17\n",
      "5.0     1.021548      7\n",
      "6.0     1.036890      7\n",
      "7.0     0.984989      7\n",
      "8.0     1.001939     11\n",
      "9.0     0.995327     12\n",
      "10.0    1.014764      8\n",
      "11.0    1.018527      7\n",
      "12.0    0.981550     13\n",
      "13.0    1.022919      9\n",
      "14.0    1.046168     10\n",
      "15.0    1.035573      7\n",
      "16.0    1.007711      4\n",
      "17.0    1.043191      6\n",
      "18.0    1.023015      7\n",
      "19.0    0.978067      2\n",
      "20.0    1.010624      6\n",
      "21.0    0.953443      2\n",
      "22.0    0.969769      2\n",
      "23.0    0.998532      2\n",
      "30.0    0.948997      2\n",
      "0.522292993631 157 1.00951753701\n"
     ]
    },
    {
     "name": "stderr",
     "output_type": "stream",
     "text": [
      "/Users/sgcy/anaconda/lib/python2.7/site-packages/ipykernel/__main__.py:1: UserWarning: Boolean Series key will be reindexed to match DataFrame index.\n",
      "  if __name__ == '__main__':\n"
     ]
    }
   ],
   "source": [
    "valid_df = data_df[filter2]\n",
    "valid_df = valid_df.sort_values(\"minute\")\n",
    "valid_df = valid_df.groupby(\"date\").first()\n",
    "result(valid_df)"
   ]
  },
  {
   "cell_type": "code",
   "execution_count": null,
   "metadata": {
    "collapsed": true
   },
   "outputs": [],
   "source": []
  }
 ],
 "metadata": {
  "kernelspec": {
   "display_name": "Python 2",
   "language": "python",
   "name": "python2"
  },
  "language_info": {
   "codemirror_mode": {
    "name": "ipython",
    "version": 2
   },
   "file_extension": ".py",
   "mimetype": "text/x-python",
   "name": "python",
   "nbconvert_exporter": "python",
   "pygments_lexer": "ipython2",
   "version": "2.7.11"
  }
 },
 "nbformat": 4,
 "nbformat_minor": 0
}
