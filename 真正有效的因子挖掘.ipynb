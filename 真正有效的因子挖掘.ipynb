{
 "cells": [
  {
   "cell_type": "code",
   "execution_count": 1,
   "metadata": {
    "collapsed": true
   },
   "outputs": [],
   "source": [
    "import pandas as pd\n",
    "from utils import *\n",
    "from constant import *\n",
    "from scipy.stats import mstats"
   ]
  },
  {
   "cell_type": "code",
   "execution_count": 2,
   "metadata": {
    "collapsed": true
   },
   "outputs": [],
   "source": [
    "valid_factors = [\"small_volume-yz0-~yz1-top1-opentop1\",\"small_volume-yz0-~opentop1-top1\"]"
   ]
  },
  {
   "cell_type": "code",
   "execution_count": 3,
   "metadata": {
    "collapsed": true
   },
   "outputs": [],
   "source": [
    "def result(valid_data_df):\n",
    "    valid_data_df = valid_data_df.sort_values(\"minute\")\n",
    "    valid_data_df = valid_data_df.groupby(\"date\").first()\n",
    "    result_df = pd.DataFrame()\n",
    "    result_df[\"mean\"] = valid_data_df.groupby([\"recent\"]).change.mean()\n",
    "    result_df[\"count\"] = valid_data_df.groupby([\"recent\"]).change.count()\n",
    "#     result_df = result_df[result_df[\"count\"] > 5]\n",
    "    win_df = valid_data_df[valid_data_df[\"change\"] > 1.0]\n",
    "    if len(valid_data_df) == 0:\n",
    "        return result_df,0,0,0\n",
    "    win_ratio = float(len(win_df))/len(valid_data_df)\n",
    "    change_se = mstats.winsorize(valid_data_df.change,limits=[0.05, 0.05])\n",
    "    return result_df,win_ratio,len(valid_data_df),change_se.mean()"
   ]
  },
  {
   "cell_type": "code",
   "execution_count": 255,
   "metadata": {
    "collapsed": true
   },
   "outputs": [],
   "source": [
    "def cal(filter_name):\n",
    "    cal_(getFilter(filter_name))\n",
    "def cal_(the_filter):\n",
    "    valid_df = data_df[the_filter]\n",
    "    valid_dfA = valid_df[valid_df.date < \"2015-09-01\"]\n",
    "    valid_dfB = valid_df[valid_df.date > \"2015-09-01\"]\n",
    "    resultA = result(valid_dfA)\n",
    "    dfA = resultA[0]\n",
    "    resultB = result(valid_dfB)\n",
    "    dfB = resultB[0]\n",
    "    dfB.columns = [name + \"-B\" for name in dfB.columns]\n",
    "    cdf = pd.concat([dfA,dfB],axis=1)\n",
    "    cdf = cdf[cdf.index <= 7]\n",
    "    print cdf\n",
    "    print resultA[1:]\n",
    "    print resultB[1:]\n",
    "def compare(filter_nameA,filter_nameB):\n",
    "    print filter_nameA + \"  \" + filter_nameB\n",
    "    cal_(getFilter(filter_nameA) & getFilter(filter_nameB))\n",
    "    print filter_nameA + \"  \" +\"无\" + filter_nameB\n",
    "    cal_(getFilter(filter_nameA) & ~getFilter(filter_nameB))\n",
    "    print \"无\" + filter_nameA + \"  \" + filter_nameB\n",
    "    cal_(getFilter(filter_nameB) & ~getFilter(filter_nameA))\n",
    "    print \"无\" + filter_nameA + \"  \" + \"无\" + filter_nameB\n",
    "    cal_(~getFilter(filter_nameB) & ~getFilter(filter_nameA))"
   ]
  },
  {
   "cell_type": "code",
   "execution_count": 363,
   "metadata": {
    "collapsed": false
   },
   "outputs": [
    {
     "name": "stdout",
     "output_type": "stream",
     "text": [
      "            mean  count    mean-B  count-B\n",
      "recent                                    \n",
      "1.0     1.058081    1.0       NaN      NaN\n",
      "3.0     1.021073   27.0  1.051216      8.0\n",
      "4.0     1.035408   22.0  1.012730      5.0\n",
      "5.0     1.031803    4.0  0.993587      2.0\n",
      "6.0     1.012574    6.0       NaN      NaN\n",
      "7.0          NaN    NaN  1.100000      1.0\n",
      "(0.6507936507936508, 63, 1.0240913576473174)\n",
      "(0.625, 16, 1.0350343952206251)\n"
     ]
    },
    {
     "name": "stderr",
     "output_type": "stream",
     "text": [
      "/Users/sgcy/anaconda/lib/python2.7/site-packages/ipykernel/__main__.py:4: UserWarning: Boolean Series key will be reindexed to match DataFrame index.\n"
     ]
    }
   ],
   "source": [
    "cal('~speedup1-~speedup2-jump2-~foot1-~isnew-small_volume-top0-~opentop1')"
   ]
  },
  {
   "cell_type": "code",
   "execution_count": 351,
   "metadata": {
    "collapsed": false,
    "scrolled": false
   },
   "outputs": [
    {
     "name": "stdout",
     "output_type": "stream",
     "text": [
      "            mean  count    mean-B  count-B\n",
      "recent                                    \n",
      "1.0     1.033311   12.0  1.143999      2.0\n",
      "3.0     1.019317   19.0  1.025144      6.0\n",
      "4.0     1.011724   31.0  1.038531      5.0\n",
      "5.0     1.049989   11.0  0.994224      5.0\n",
      "6.0     0.997686   12.0  0.940541      1.0\n",
      "7.0     1.002830    7.0       NaN      NaN\n",
      "(0.5818181818181818, 110, 1.0248074477925728)\n",
      "(0.56, 25, 1.0264663935548)\n"
     ]
    },
    {
     "name": "stderr",
     "output_type": "stream",
     "text": [
      "/Users/sgcy/anaconda/lib/python2.7/site-packages/ipykernel/__main__.py:4: UserWarning: Boolean Series key will be reindexed to match DataFrame index.\n"
     ]
    }
   ],
   "source": [
    "cal('~foot0-small_volume-top0-opentop0')"
   ]
  },
  {
   "cell_type": "code",
   "execution_count": 346,
   "metadata": {
    "collapsed": false
   },
   "outputs": [
    {
     "name": "stdout",
     "output_type": "stream",
     "text": [
      "            mean  count    mean-B  count-B\n",
      "recent                                    \n",
      "1.0     1.011241   18.0  0.984057      2.0\n",
      "2.0     1.016739   71.0  0.983414     23.0\n",
      "3.0     1.020751  104.0  1.061485     20.0\n",
      "4.0     1.021353   57.0  1.052180     19.0\n",
      "5.0     1.001074   20.0  1.025231     13.0\n",
      "6.0     1.005854   12.0  1.012980      3.0\n",
      "7.0     1.005131   13.0  1.000803      4.0\n",
      "(0.5876923076923077, 325, 1.0194730666858463)\n",
      "(0.5918367346938775, 98, 1.0222284742037553)\n"
     ]
    },
    {
     "name": "stderr",
     "output_type": "stream",
     "text": [
      "/Users/sgcy/anaconda/lib/python2.7/site-packages/ipykernel/__main__.py:4: UserWarning: Boolean Series key will be reindexed to match DataFrame index.\n"
     ]
    }
   ],
   "source": [
    "cal('~speedup1-jump1-jump2-~foot1-small_volume')"
   ]
  },
  {
   "cell_type": "code",
   "execution_count": 308,
   "metadata": {
    "collapsed": false
   },
   "outputs": [
    {
     "name": "stdout",
     "output_type": "stream",
     "text": [
      "            mean  count    mean-B  count-B\n",
      "recent                                    \n",
      "1.0     0.978354   10.0  0.963228      1.0\n",
      "3.0     1.005100   75.0  1.030326     28.0\n",
      "4.0     0.997763   37.0  1.001674     16.0\n",
      "5.0     1.017600   21.0  1.057015      3.0\n",
      "6.0     1.069218    3.0  1.011626      5.0\n",
      "7.0     0.951226    7.0  1.046931      1.0\n",
      "(0.5857988165680473, 169, 1.0025418021921775)\n",
      "(0.5901639344262295, 61, 1.0189215001566394)\n"
     ]
    },
    {
     "name": "stderr",
     "output_type": "stream",
     "text": [
      "/Users/sgcy/anaconda/lib/python2.7/site-packages/ipykernel/__main__.py:4: UserWarning: Boolean Series key will be reindexed to match DataFrame index.\n"
     ]
    }
   ],
   "source": [
    "cal('~speedup1-~jump1-jump2-small_volume-top0')"
   ]
  },
  {
   "cell_type": "code",
   "execution_count": 214,
   "metadata": {
    "collapsed": false
   },
   "outputs": [
    {
     "name": "stdout",
     "output_type": "stream",
     "text": [
      "            mean  count    mean-B  count-B\n",
      "recent                                    \n",
      "1.0     1.016116      6  1.209076      1.0\n",
      "3.0     1.008195      7  1.027183      3.0\n",
      "4.0     1.015734     11  0.998943      1.0\n",
      "5.0     1.035555      4  0.940200      1.0\n",
      "6.0     1.048405      6       NaN      NaN\n",
      "(0.6585365853658537, 41, 1.028662137241195)\n",
      "(0.5, 6, 1.0382947061334999)\n"
     ]
    },
    {
     "name": "stderr",
     "output_type": "stream",
     "text": [
      "/Users/sgcy/anaconda/lib/python2.7/site-packages/ipykernel/__main__.py:4: UserWarning: Boolean Series key will be reindexed to match DataFrame index.\n"
     ]
    }
   ],
   "source": [
    "cal('~opentop2-~speedup2-small_volume-~yz0-top0-opentop0')"
   ]
  },
  {
   "cell_type": "code",
   "execution_count": 256,
   "metadata": {
    "collapsed": false,
    "scrolled": false
   },
   "outputs": [
    {
     "name": "stdout",
     "output_type": "stream",
     "text": [
      "~opentop2-jump1-~speedup2-~speedup1-foot0-foot2-small_volume  ~speedup1-~jump2-foot0-foot2-small_volume\n",
      "            mean  count    mean-B  count-B\n",
      "recent                                    \n",
      "1.0     1.030755   19.0  1.015137      9.0\n",
      "3.0     1.002213    5.0  0.931414      1.0\n",
      "4.0     1.044468    6.0       NaN      NaN\n",
      "5.0          NaN    NaN  0.940200      1.0\n",
      "(0.7096774193548387, 31, 1.0311237498858388)\n",
      "(0.6153846153846154, 13, 1.0016382571106155)\n",
      "~opentop2-jump1-~speedup2-~speedup1-foot0-foot2-small_volume  无~speedup1-~jump2-foot0-foot2-small_volume\n",
      "            mean  count    mean-B  count-B\n",
      "recent                                    \n",
      "1.0     1.040029    2.0       NaN      NaN\n",
      "2.0     1.007884   10.0  0.953453      1.0\n",
      "3.0     1.047251   11.0  1.056690      6.0\n",
      "4.0     1.015391   19.0  1.031135     11.0\n",
      "5.0     1.041637    3.0  1.006049      4.0\n",
      "6.0     1.034095    6.0  0.991196      3.0\n",
      "7.0     0.879713    1.0  1.088015      2.0\n",
      "(0.6349206349206349, 63, 1.0239834705822854)\n",
      "(0.725, 40, 1.0235811872574001)\n",
      "无~opentop2-jump1-~speedup2-~speedup1-foot0-foot2-small_volume  ~speedup1-~jump2-foot0-foot2-small_volume\n",
      "            mean  count    mean-B  count-B\n",
      "recent                                    \n",
      "1.0     1.029521   36.0  0.998564     12.0\n",
      "2.0     0.984707   11.0  1.085434      3.0\n",
      "3.0     1.066361    2.0  1.071473      1.0\n",
      "4.0     0.991296    2.0       NaN      NaN\n",
      "(0.6545454545454545, 55, 1.0242117805631819)\n",
      "(0.6470588235294118, 17, 1.0201457027914707)\n",
      "无~opentop2-jump1-~speedup2-~speedup1-foot0-foot2-small_volume  无~speedup1-~jump2-foot0-foot2-small_volume\n",
      "            mean   count    mean-B  count-B\n",
      "recent                                     \n",
      "1.0     1.000753   153.0  0.988620     25.0\n",
      "2.0     1.001589  1226.0  0.993179    204.0\n",
      "3.0     1.000739   258.0  1.002385     69.0\n",
      "4.0     1.000700    87.0  1.018919     31.0\n",
      "5.0     0.998576    41.0  1.012376     19.0\n",
      "6.0     1.006527    19.0  0.994694      9.0\n",
      "7.0     0.980879    11.0  1.058453      4.0\n",
      "(0.4888647474198805, 1841, 1.000759651681266)\n",
      "(0.44819277108433736, 415, 0.99603329473804336)\n"
     ]
    },
    {
     "name": "stderr",
     "output_type": "stream",
     "text": [
      "/Users/sgcy/anaconda/lib/python2.7/site-packages/ipykernel/__main__.py:4: UserWarning: Boolean Series key will be reindexed to match DataFrame index.\n"
     ]
    }
   ],
   "source": [
    "compare('~opentop2-jump1-~speedup2-~speedup1-foot0-foot2-small_volume','~speedup1-~jump2-foot0-foot2-small_volume')"
   ]
  },
  {
   "cell_type": "code",
   "execution_count": 310,
   "metadata": {
    "collapsed": false,
    "scrolled": true
   },
   "outputs": [
    {
     "name": "stdout",
     "output_type": "stream",
     "text": [
      "~speedup1-~jump1-jump2-~foot2-small_volume-top0  ~speedup1-~jump1-speedup2-~jump2-foot2-small_volume-top0\n",
      "Empty DataFrame\n",
      "Columns: [mean, count, mean-B, count-B]\n",
      "Index: []\n",
      "(0, 0, 0)\n",
      "(0, 0, 0)\n",
      "~speedup1-~jump1-jump2-~foot2-small_volume-top0  无~speedup1-~jump1-speedup2-~jump2-foot2-small_volume-top0\n",
      "            mean  count    mean-B  count-B\n",
      "recent                                    \n",
      "1.0     1.009017    3.0       NaN      NaN\n",
      "3.0     1.016885   40.0  1.032848     21.0\n",
      "4.0     1.017491   21.0  1.017653     11.0\n",
      "5.0     1.044647   14.0  1.019821      2.0\n",
      "6.0     0.956792    2.0  0.975705      2.0\n",
      "7.0     0.912088    5.0       NaN      NaN\n",
      "(0.6907216494845361, 97, 1.0143246781293609)\n",
      "(0.575, 40, 1.0230829637873498)\n",
      "无~speedup1-~jump1-jump2-~foot2-small_volume-top0  ~speedup1-~jump1-speedup2-~jump2-foot2-small_volume-top0\n",
      "            mean  count    mean-B  count-B\n",
      "recent                                    \n",
      "1.0     1.031061   28.0  1.036523      8.0\n",
      "3.0     1.042238    4.0       NaN      NaN\n",
      "4.0     0.945778    1.0       NaN      NaN\n",
      "(0.6857142857142857, 35, 1.0371974251058573)\n",
      "(0.7, 10, 1.0275082087567999)\n",
      "无~speedup1-~jump1-jump2-~foot2-small_volume-top0  无~speedup1-~jump1-speedup2-~jump2-foot2-small_volume-top0\n",
      "            mean   count    mean-B  count-B\n",
      "recent                                     \n",
      "1.0     1.000244   153.0  0.986288     27.0\n",
      "2.0     1.002147  1222.0  0.997537    193.0\n",
      "3.0     0.999738   254.0  0.996336     72.0\n",
      "4.0     0.997620    82.0  1.020836     27.0\n",
      "5.0     0.995786    38.0  1.018798     20.0\n",
      "6.0     1.007369    22.0  1.003937      9.0\n",
      "7.0     0.998017    14.0  1.002216      6.0\n",
      "(0.4905046120455779, 1843, 1.0009956983256463)\n",
      "(0.472289156626506, 415, 0.99700780123261434)\n"
     ]
    },
    {
     "name": "stderr",
     "output_type": "stream",
     "text": [
      "/Users/sgcy/anaconda/lib/python2.7/site-packages/ipykernel/__main__.py:4: UserWarning: Boolean Series key will be reindexed to match DataFrame index.\n"
     ]
    }
   ],
   "source": [
    "compare(\"~speedup1-~jump1-jump2-~foot2-small_volume-top0\",'~speedup1-~jump1-speedup2-~jump2-foot2-small_volume-top0')"
   ]
  },
  {
   "cell_type": "code",
   "execution_count": 309,
   "metadata": {
    "collapsed": false
   },
   "outputs": [
    {
     "name": "stdout",
     "output_type": "stream",
     "text": [
      "            mean  count    mean-B  count-B\n",
      "recent                                    \n",
      "1.0     0.965212    7.0  0.963228      1.0\n",
      "3.0     0.994519   46.0  1.006749     12.0\n",
      "4.0     0.982170   20.0  1.007060      6.0\n",
      "5.0     0.966641   11.0  1.035450      2.0\n",
      "6.0     1.069218    3.0  1.035573      3.0\n",
      "7.0     1.044985    3.0  1.046931      1.0\n",
      "(0.5050505050505051, 99, 0.99396604741052541)\n",
      "(0.5517241379310345, 29, 1.0139301614284828)\n"
     ]
    },
    {
     "name": "stderr",
     "output_type": "stream",
     "text": [
      "/Users/sgcy/anaconda/lib/python2.7/site-packages/ipykernel/__main__.py:4: UserWarning: Boolean Series key will be reindexed to match DataFrame index.\n"
     ]
    }
   ],
   "source": [
    "cal_(getFilter('~speedup1-~jump1-jump2-small_volume-top0') & ~getFilter('~speedup1-~jump1-speedup2-~jump2-foot2-small_volume-top0') & ~getFilter(\"~speedup1-~jump1-jump2-~foot2-small_volume-top0\"))"
   ]
  },
  {
   "cell_type": "code",
   "execution_count": null,
   "metadata": {
    "collapsed": true
   },
   "outputs": [],
   "source": []
  }
 ],
 "metadata": {
  "kernelspec": {
   "display_name": "Python 2",
   "language": "python",
   "name": "python2"
  },
  "language_info": {
   "codemirror_mode": {
    "name": "ipython",
    "version": 2
   },
   "file_extension": ".py",
   "mimetype": "text/x-python",
   "name": "python",
   "nbconvert_exporter": "python",
   "pygments_lexer": "ipython2",
   "version": "2.7.11"
  }
 },
 "nbformat": 4,
 "nbformat_minor": 0
}
