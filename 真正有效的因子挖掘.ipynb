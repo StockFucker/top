{
 "cells": [
  {
   "cell_type": "code",
   "execution_count": 1,
   "metadata": {
    "collapsed": true
   },
   "outputs": [],
   "source": [
    "import pandas as pd\n",
    "from utils import *\n",
    "from constant import *\n",
    "from scipy.stats import mstats"
   ]
  },
  {
   "cell_type": "code",
   "execution_count": 2,
   "metadata": {
    "collapsed": true
   },
   "outputs": [],
   "source": [
    "valid_factors = [\"small_volume-yz0-~yz1-top1-opentop1\",\"small_volume-yz0-~opentop1-top1\"]"
   ]
  },
  {
   "cell_type": "code",
   "execution_count": 3,
   "metadata": {
    "collapsed": true
   },
   "outputs": [],
   "source": [
    "def result(valid_data_df):\n",
    "    valid_data_df = valid_data_df.sort_values(\"minute\")\n",
    "    valid_data_df = valid_data_df.groupby(\"date\").first()\n",
    "    result_df = pd.DataFrame()\n",
    "    result_df[\"mean\"] = valid_data_df.groupby([\"recent\"]).change.mean()\n",
    "    result_df[\"count\"] = valid_data_df.groupby([\"recent\"]).change.count()\n",
    "#     result_df = result_df[result_df[\"count\"] > 5]\n",
    "    win_df = valid_data_df[valid_data_df[\"change\"] > 1.0]\n",
    "    if len(valid_data_df) == 0:\n",
    "        return result_df,0,0,0\n",
    "    win_ratio = float(len(win_df))/len(valid_data_df)\n",
    "    change_se = mstats.winsorize(valid_data_df.change,limits=[0.05, 0.05])\n",
    "    return result_df,win_ratio,len(valid_data_df),change_se.mean()"
   ]
  },
  {
   "cell_type": "code",
   "execution_count": 46,
   "metadata": {
    "collapsed": true
   },
   "outputs": [],
   "source": [
    "def cal(filter_name):\n",
    "    cal_(getFilter(filter_name))\n",
    "def cal_(the_filter):\n",
    "    valid_df = data_df[the_filter]\n",
    "    valid_dfA = valid_df[valid_df.date < \"2015-09-01\"]\n",
    "    valid_dfB = valid_df[valid_df.date > \"2015-09-01\"]\n",
    "    resultA = result(valid_dfA)\n",
    "    dfA = resultA[0]\n",
    "    resultB = result(valid_dfB)\n",
    "    dfB = resultB[0]\n",
    "    dfB.columns = [name + \"-B\" for name in dfB.columns]\n",
    "    cdf = pd.concat([dfA,dfB],axis=1)\n",
    "    cdf = cdf[cdf.index <= 5]\n",
    "    print cdf\n",
    "    print resultA[1:]\n",
    "    print resultB[1:]\n",
    "def compare(filter_nameA,filter_nameB,shared):\n",
    "    print filter_nameA + \"  \" + filter_nameB\n",
    "    cal_(getFilter(filter_nameA) & getFilter(filter_nameB) & getFilter(shared))\n",
    "    print filter_nameA + \"  \" +\"无\" + filter_nameB\n",
    "    cal_(getFilter(filter_nameA) & ~getFilter(filter_nameB) & getFilter(shared))\n",
    "    print \"无\" + filter_nameA + \"  \" + filter_nameB\n",
    "    cal_(getFilter(filter_nameB) & ~getFilter(filter_nameA) & getFilter(shared))\n",
    "    print \"无\" + filter_nameA + \"  \" + \"无\" + filter_nameB\n",
    "    cal_(~getFilter(filter_nameB) & ~getFilter(filter_nameA) & getFilter(shared))"
   ]
  },
  {
   "cell_type": "code",
   "execution_count": 51,
   "metadata": {
    "collapsed": false
   },
   "outputs": [
    {
     "name": "stdout",
     "output_type": "stream",
     "text": [
      "Empty DataFrame\n",
      "Columns: [mean, count, mean-B, count-B]\n",
      "Index: []\n",
      "(0.5555555555555556, 9, 0.99253521902355546)\n",
      "(0.0, 2, 0.95777437484200001)\n"
     ]
    },
    {
     "name": "stderr",
     "output_type": "stream",
     "text": [
      "/usr/local/lib/python2.7/site-packages/ipykernel/__main__.py:4: UserWarning: Boolean Series key will be reindexed to match DataFrame index.\n"
     ]
    }
   ],
   "source": [
    "cal(\"~isnew-jump2-small_volume-~yz0-top0-opentop0-~opentop1-top1\")"
   ]
  },
  {
   "cell_type": "code",
   "execution_count": 96,
   "metadata": {
    "collapsed": false,
    "scrolled": false
   },
   "outputs": [
    {
     "name": "stdout",
     "output_type": "stream",
     "text": [
      "            mean  count    mean-B  count-B\n",
      "recent                                    \n",
      "1.0     1.034902     28  1.009776     11.0\n",
      "2.0     1.012118     21  0.986329      4.0\n",
      "3.0     1.015685     39  1.022851     11.0\n",
      "4.0     1.021447     23  1.035291     10.0\n",
      "5.0     1.042355      2  0.978139      4.0\n",
      "(0.632, 125, 1.0209996541169279)\n",
      "(0.5777777777777777, 45, 1.0134239331391557)\n"
     ]
    },
    {
     "name": "stderr",
     "output_type": "stream",
     "text": [
      "/usr/local/lib/python2.7/site-packages/ipykernel/__main__.py:4: UserWarning: Boolean Series key will be reindexed to match DataFrame index.\n"
     ]
    }
   ],
   "source": [
    "cal('~foot0-small_volume-top0-opentop0')"
   ]
  },
  {
   "cell_type": "code",
   "execution_count": 346,
   "metadata": {
    "collapsed": false
   },
   "outputs": [
    {
     "name": "stdout",
     "output_type": "stream",
     "text": [
      "            mean  count    mean-B  count-B\n",
      "recent                                    \n",
      "1.0     1.011241   18.0  0.984057      2.0\n",
      "2.0     1.016739   71.0  0.983414     23.0\n",
      "3.0     1.020751  104.0  1.061485     20.0\n",
      "4.0     1.021353   57.0  1.052180     19.0\n",
      "5.0     1.001074   20.0  1.025231     13.0\n",
      "6.0     1.005854   12.0  1.012980      3.0\n",
      "7.0     1.005131   13.0  1.000803      4.0\n",
      "(0.5876923076923077, 325, 1.0194730666858463)\n",
      "(0.5918367346938775, 98, 1.0222284742037553)\n"
     ]
    },
    {
     "name": "stderr",
     "output_type": "stream",
     "text": [
      "/Users/sgcy/anaconda/lib/python2.7/site-packages/ipykernel/__main__.py:4: UserWarning: Boolean Series key will be reindexed to match DataFrame index.\n"
     ]
    }
   ],
   "source": [
    "cal('~speedup1-jump1-jump2-~foot1-small_volume')"
   ]
  },
  {
   "cell_type": "code",
   "execution_count": 89,
   "metadata": {
    "collapsed": false
   },
   "outputs": [
    {
     "name": "stdout",
     "output_type": "stream",
     "text": [
      "            mean  count    mean-B  count-B\n",
      "recent                                    \n",
      "1.0     0.976421      3       NaN      NaN\n",
      "3.0     1.018069     17  1.003065      6.0\n",
      "4.0     1.011930     29  1.048428      4.0\n",
      "5.0     1.031730     12  0.984901      5.0\n",
      "(0.5842696629213483, 89, 1.0211372314116742)\n",
      "(0.5789473684210527, 19, 1.0144351269697369)\n"
     ]
    },
    {
     "name": "stderr",
     "output_type": "stream",
     "text": [
      "/usr/local/lib/python2.7/site-packages/ipykernel/__main__.py:4: UserWarning: Boolean Series key will be reindexed to match DataFrame index.\n"
     ]
    }
   ],
   "source": [
    "cal('~isnew-jump2-small_volume-~yz0-top0-opentop0')"
   ]
  },
  {
   "cell_type": "code",
   "execution_count": 69,
   "metadata": {
    "collapsed": false
   },
   "outputs": [
    {
     "name": "stdout",
     "output_type": "stream",
     "text": [
      "            mean  count    mean-B  count-B\n",
      "recent                                    \n",
      "3.0     0.977877   10.0  0.985579      5.0\n",
      "4.0     0.974439   11.0  1.081186      5.0\n",
      "5.0     1.014752    3.0  1.015912      3.0\n",
      "(0.5416666666666666, 48, 1.0151267711970415)\n",
      "(0.8148148148148148, 27, 1.0478716885975186)\n"
     ]
    },
    {
     "name": "stderr",
     "output_type": "stream",
     "text": [
      "/usr/local/lib/python2.7/site-packages/ipykernel/__main__.py:4: UserWarning: Boolean Series key will be reindexed to match DataFrame index.\n"
     ]
    }
   ],
   "source": [
    "cal('~foot1-speedup2-jump1-jump2-small_volume-yz0','~speedup1-jump1-jump2-~foot1-small_volume')"
   ]
  },
  {
   "cell_type": "code",
   "execution_count": 70,
   "metadata": {
    "collapsed": false,
    "scrolled": false
   },
   "outputs": [
    {
     "name": "stdout",
     "output_type": "stream",
     "text": [
      "speedup2-yz0  ~speedup1\n",
      "            mean  count    mean-B  count-B\n",
      "recent                                    \n",
      "1.0     1.015824    3.0  0.970531      1.0\n",
      "3.0     1.032704   26.0  1.081097      7.0\n",
      "4.0     1.012571    6.0  1.056207      6.0\n",
      "5.0     0.921090    4.0  1.048008      6.0\n",
      "(0.6949152542372882, 59, 1.036297737568322)\n",
      "(0.75, 28, 1.0487433216137501)\n",
      "speedup2-yz0  无~speedup1\n",
      "Empty DataFrame\n",
      "Columns: [mean, count, mean-B, count-B]\n",
      "Index: []\n",
      "(0, 0, 0)\n",
      "(0, 0, 0)\n",
      "无speedup2-yz0  ~speedup1\n"
     ]
    },
    {
     "name": "stderr",
     "output_type": "stream",
     "text": [
      "/usr/local/lib/python2.7/site-packages/ipykernel/__main__.py:4: UserWarning: Boolean Series key will be reindexed to match DataFrame index.\n"
     ]
    },
    {
     "name": "stdout",
     "output_type": "stream",
     "text": [
      "            mean  count    mean-B  count-B\n",
      "recent                                    \n",
      "1.0     1.010325   15.0  0.997583      1.0\n",
      "2.0     1.014965   74.0  0.982692     23.0\n",
      "3.0     1.016742   85.0  1.048962     17.0\n",
      "4.0     1.024424   54.0  1.049512     14.0\n",
      "5.0     1.008630   19.0  1.007548      9.0\n",
      "(0.5767918088737202, 293, 1.0156623372290887)\n",
      "(0.5432098765432098, 81, 1.0123938000361234)\n",
      "无speedup2-yz0  无~speedup1\n",
      "            mean  count    mean-B  count-B\n",
      "recent                                    \n",
      "1.0     0.999433    7.0  0.978602      5.0\n",
      "2.0     0.998911   53.0  0.965557     16.0\n",
      "3.0     0.994094  171.0  0.987047     58.0\n",
      "4.0     1.013627   32.0  0.984468      9.0\n",
      "5.0     1.057561    9.0  0.980837      5.0\n",
      "(0.5, 298, 0.99958040889374167)\n",
      "(0.39805825242718446, 103, 0.97684639762635916)\n"
     ]
    }
   ],
   "source": [
    "compare('speedup2-yz0','~speedup1','jump1-jump2-~foot1-small_volume')"
   ]
  },
  {
   "cell_type": "code",
   "execution_count": 23,
   "metadata": {
    "collapsed": false,
    "scrolled": true
   },
   "outputs": [
    {
     "name": "stdout",
     "output_type": "stream",
     "text": [
      "            mean  count  mean-B  count-B\n",
      "recent                                  \n",
      "3.0     1.036326    3.0     NaN      NaN\n",
      "4.0     1.076775    1.0     NaN      NaN\n",
      "(0.7142857142857143, 7, 1.0579337198894285)\n",
      "(1.0, 2, 1.0226925757999998)\n"
     ]
    },
    {
     "name": "stderr",
     "output_type": "stream",
     "text": [
      "/usr/local/lib/python2.7/site-packages/ipykernel/__main__.py:4: UserWarning: Boolean Series key will be reindexed to match DataFrame index.\n"
     ]
    }
   ],
   "source": [
    "cal_(getFilter('small_volume-yz0-~opentop1-top1') & ~getFilter('jump2-~foot1-small_volume-yz0-~opentop1-top1') & getFilter(\"foot2-small_volume-yz0-~opentop1-top1\"))"
   ]
  },
  {
   "cell_type": "code",
   "execution_count": 13,
   "metadata": {
    "collapsed": false
   },
   "outputs": [
    {
     "name": "stdout",
     "output_type": "stream",
     "text": [
      "            mean  count    mean-B  count-B\n",
      "recent                                    \n",
      "3.0          NaN    NaN  0.965798      2.0\n",
      "4.0     1.024137    5.0       NaN      NaN\n",
      "5.0     1.018298    4.0       NaN      NaN\n",
      "6.0     0.914080    2.0  1.010870      1.0\n",
      "(0.5, 14, 1.0167648590343572)\n",
      "(0.5, 6, 0.98495395875066671)\n"
     ]
    },
    {
     "name": "stderr",
     "output_type": "stream",
     "text": [
      "/usr/local/lib/python2.7/site-packages/ipykernel/__main__.py:4: UserWarning: Boolean Series key will be reindexed to match DataFrame index.\n"
     ]
    }
   ],
   "source": [
    "cal_(getFilter('small_volume-yz0-~opentop1-top1') & ~getFilter('jump2-~foot1-small_volume-yz0-~opentop1-top1') & ~getFilter(\"foot2-small_volume-yz0-~opentop1-top1\"))"
   ]
  },
  {
   "cell_type": "code",
   "execution_count": null,
   "metadata": {
    "collapsed": true
   },
   "outputs": [],
   "source": []
  }
 ],
 "metadata": {
  "kernelspec": {
   "display_name": "Python 2",
   "language": "python",
   "name": "python2"
  },
  "language_info": {
   "codemirror_mode": {
    "name": "ipython",
    "version": 2
   },
   "file_extension": ".py",
   "mimetype": "text/x-python",
   "name": "python",
   "nbconvert_exporter": "python",
   "pygments_lexer": "ipython2",
   "version": "2.7.11"
  }
 },
 "nbformat": 4,
 "nbformat_minor": 0
}
