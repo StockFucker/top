{
 "cells": [
  {
   "cell_type": "code",
   "execution_count": 1,
   "metadata": {
    "collapsed": true
   },
   "outputs": [],
   "source": [
    "import pandas as pd\n",
    "from utils import *\n",
    "from constant import *\n",
    "from scipy.stats import mstats"
   ]
  },
  {
   "cell_type": "code",
   "execution_count": 2,
   "metadata": {
    "collapsed": true
   },
   "outputs": [],
   "source": [
    "valid_factors = [\"small_volume-yz0-~yz1-top1-opentop1\",\"small_volume-yz0-~opentop1-top1\"]"
   ]
  },
  {
   "cell_type": "code",
   "execution_count": 32,
   "metadata": {
    "collapsed": true
   },
   "outputs": [],
   "source": [
    "def result(valid_data_df):\n",
    "#     valid_data_df = valid_data_df.sort_values(\"minute\")\n",
    "#     valid_data_df = valid_data_df.groupby(\"date\").first()\n",
    "    result_df = pd.DataFrame()\n",
    "    result_df[\"mean\"] = valid_data_df.groupby([\"recent\"]).change.mean()\n",
    "    result_df[\"count\"] = valid_data_df.groupby([\"recent\"]).change.count()\n",
    "#     result_df = result_df[result_df[\"count\"] > 5]\n",
    "    win_df = valid_data_df[valid_data_df[\"change\"] > 1.0]\n",
    "    if len(valid_data_df) == 0:\n",
    "        return result_df,0,0,0\n",
    "    win_ratio = float(len(win_df))/len(valid_data_df)\n",
    "    change_se = mstats.winsorize(valid_data_df.change,limits=[0.05, 0.05])\n",
    "    return result_df,win_ratio,len(valid_data_df),change_se.mean()"
   ]
  },
  {
   "cell_type": "code",
   "execution_count": 25,
   "metadata": {
    "collapsed": true
   },
   "outputs": [],
   "source": [
    "def cal(filter_name):\n",
    "    cal_(getFilter(filter_name))\n",
    "def cal_(the_filter):\n",
    "    valid_df = data_df[the_filter]\n",
    "    valid_dfA = valid_df[valid_df.index < \"2015-09-01\"]\n",
    "    valid_dfB = valid_df[valid_df.index > \"2015-09-01\"]\n",
    "    resultA = result(valid_dfA)\n",
    "    dfA = resultA[0]\n",
    "    resultB = result(valid_dfB)\n",
    "    dfB = resultB[0]\n",
    "    dfB.columns = [name + \"-B\" for name in dfB.columns]\n",
    "    cdf = pd.concat([dfA,dfB],axis=1)\n",
    "    cdf = cdf[cdf.index <= 7]\n",
    "    print cdf\n",
    "    print resultA[1:]\n",
    "    print resultB[1:]\n",
    "def compare(filter_nameA,filter_nameB):\n",
    "    print \"在[\" + filter_nameA + \"]\" + \"中，不在[\" + filter_nameB + \"]中\"\n",
    "    cal_(getFilter(filter_nameA) & ~getFilter(filter_nameB))\n",
    "    print \"在[\" + filter_nameB + \"]\" + \"中，不在[\" + filter_nameA + \"]中\"\n",
    "    cal_(getFilter(filter_nameB) & ~getFilter(filter_nameA))"
   ]
  },
  {
   "cell_type": "code",
   "execution_count": 33,
   "metadata": {
    "collapsed": false,
    "scrolled": false
   },
   "outputs": [
    {
     "name": "stdout",
     "output_type": "stream",
     "text": [
      "            mean  count    mean-B  count-B\n",
      "recent                                    \n",
      "1.0          NaN    NaN  0.976421      3.0\n",
      "3.0     1.022035   16.0  1.007755      7.0\n",
      "4.0     0.994546   26.0  1.029330     26.0\n",
      "5.0     1.011532    6.0  1.020250     19.0\n",
      "6.0     1.038139    4.0  1.013850      9.0\n",
      "7.0     1.017192    3.0  1.009697      3.0\n",
      "(0.5625, 64, 1.0137066655504063)\n",
      "(0.5753424657534246, 73, 1.0231132179552875)\n"
     ]
    },
    {
     "name": "stderr",
     "output_type": "stream",
     "text": [
      "/usr/local/lib/python2.7/site-packages/ipykernel/__main__.py:4: UserWarning: Boolean Series key will be reindexed to match DataFrame index.\n"
     ]
    }
   ],
   "source": [
    "cal('jump2-~foot0-~isnew-small_volume-~yz0-top0-opentop0')"
   ]
  },
  {
   "cell_type": "code",
   "execution_count": 27,
   "metadata": {
    "collapsed": false,
    "scrolled": true
   },
   "outputs": [
    {
     "name": "stdout",
     "output_type": "stream",
     "text": [
      "在[small_volume-yz0-~yz1-top1-opentop1]中，不在[~speedup1-small_volume-~yz1-top1-opentop1]中\n",
      "Empty DataFrame\n",
      "Columns: [mean, count, mean-B, count-B]\n",
      "Index: []\n",
      "(0, 0, 0)\n",
      "(0, 0, 0)\n",
      "在[~speedup1-small_volume-~yz1-top1-opentop1]中，不在[small_volume-yz0-~yz1-top1-opentop1]中\n",
      "            mean  count    mean-B  count-B\n",
      "recent                                    \n",
      "2.0     1.031421   12.0  1.027096     14.0\n",
      "3.0     0.992126    4.0  1.040694      8.0\n",
      "4.0     1.013454    8.0  1.004321      6.0\n",
      "5.0     0.940200    1.0  1.045831      3.0\n",
      "6.0     0.958737    2.0  1.094595      1.0\n",
      "7.0          NaN    NaN  0.736454      1.0\n",
      "(0.6071428571428571, 28, 1.0156028647124287)\n",
      "(0.6857142857142857, 35, 1.0271961004894858)\n"
     ]
    },
    {
     "name": "stderr",
     "output_type": "stream",
     "text": [
      "/usr/local/lib/python2.7/site-packages/ipykernel/__main__.py:4: UserWarning: Boolean Series key will be reindexed to match DataFrame index.\n"
     ]
    }
   ],
   "source": [
    "compare(\"small_volume-yz0-~yz1-top1-opentop1\",\"~speedup1-small_volume-~yz1-top1-opentop1\")"
   ]
  },
  {
   "cell_type": "code",
   "execution_count": 17,
   "metadata": {
    "collapsed": false
   },
   "outputs": [
    {
     "name": "stdout",
     "output_type": "stream",
     "text": [
      "在[small_volume-yz0-~opentop1-top1]中，不在[~foot1-small_volume-yz0]中\n",
      "            mean  count    mean-B  count-B\n",
      "recent                                    \n",
      "3.0     1.083905    1.0  0.898321      1.0\n",
      "6.0     1.010870    1.0       NaN      NaN\n",
      "(1.0, 3, 1.03831811771)\n",
      "(0.2, 5, 1.0046488172488)\n",
      "在[~foot1-small_volume-yz0]中，不在[small_volume-yz0-~opentop1-top1]中\n",
      "            mean  count    mean-B  count-B\n",
      "recent                                    \n",
      "1.0     1.011549   16.0  1.002517     36.0\n",
      "3.0     1.009869   14.0  1.049834     14.0\n",
      "4.0     1.014616   11.0  1.043154     17.0\n",
      "5.0     1.028227    6.0  1.010383      6.0\n",
      "6.0     1.019524    2.0  1.067644      6.0\n",
      "7.0     0.979595    5.0  1.049751      9.0\n",
      "(0.671875, 64, 1.0189473411570782)\n",
      "(0.5855855855855856, 111, 1.0166927462646487)\n"
     ]
    },
    {
     "name": "stderr",
     "output_type": "stream",
     "text": [
      "/usr/local/lib/python2.7/site-packages/ipykernel/__main__.py:4: UserWarning: Boolean Series key will be reindexed to match DataFrame index.\n"
     ]
    }
   ],
   "source": [
    "compare(\"small_volume-yz0-~opentop1-top1\",\"~foot1-small_volume-yz0\")"
   ]
  },
  {
   "cell_type": "code",
   "execution_count": 18,
   "metadata": {
    "collapsed": false
   },
   "outputs": [
    {
     "name": "stdout",
     "output_type": "stream",
     "text": [
      "           mean  count    mean-B  count-B\n",
      "recent                                   \n",
      "1.0     1.00415     19  1.005771       38\n",
      "(0.5789473684210527, 19, 1.0041498276696841)\n",
      "(0.5526315789473685, 38, 1.0063350803185001)\n"
     ]
    },
    {
     "name": "stderr",
     "output_type": "stream",
     "text": [
      "/usr/local/lib/python2.7/site-packages/ipykernel/__main__.py:4: UserWarning: Boolean Series key will be reindexed to match DataFrame index.\n"
     ]
    }
   ],
   "source": [
    "cal_(getFilter(\"~foot1-small_volume-yz0\") & ~getFilter(\"small_volume-yz0-~opentop1-top1\") & ~getFilter(\"small_volume-yz0-~yz1-top1-opentop1\"))"
   ]
  },
  {
   "cell_type": "code",
   "execution_count": null,
   "metadata": {
    "collapsed": true
   },
   "outputs": [],
   "source": []
  }
 ],
 "metadata": {
  "kernelspec": {
   "display_name": "Python 2",
   "language": "python",
   "name": "python2"
  },
  "language_info": {
   "codemirror_mode": {
    "name": "ipython",
    "version": 2
   },
   "file_extension": ".py",
   "mimetype": "text/x-python",
   "name": "python",
   "nbconvert_exporter": "python",
   "pygments_lexer": "ipython2",
   "version": "2.7.11"
  }
 },
 "nbformat": 4,
 "nbformat_minor": 0
}
