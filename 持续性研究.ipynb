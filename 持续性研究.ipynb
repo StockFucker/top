{
 "cells": [
  {
   "cell_type": "code",
   "execution_count": 1,
   "metadata": {
    "collapsed": true
   },
   "outputs": [],
   "source": [
    "import pandas as pd\n",
    "from utils import *\n",
    "from constant import *"
   ]
  },
  {
   "cell_type": "code",
   "execution_count": 2,
   "metadata": {
    "collapsed": true
   },
   "outputs": [],
   "source": [
    "def result(valid_data_df):\n",
    "    valid_data_df = valid_data_df.sort_values(\"minute\")\n",
    "    valid_data_df = valid_data_df.groupby(\"date\").first()\n",
    "#     result_df = pd.DataFrame()\n",
    "#     result_df[\"mean\"] = valid_data_df.groupby([\"recent\"]).change.mean()\n",
    "#     result_df[\"count\"] = valid_data_df.groupby([\"recent\"]).change.count()\n",
    "#     result_df = result_df[result_df[\"count\"] > 5]\n",
    "    win_df = valid_data_df[valid_data_df[\"change\"] > 1.0]\n",
    "    if len(valid_data_df) == 0:\n",
    "        return [0,0,0]\n",
    "    win_ratio = float(len(win_df))/len(valid_data_df)\n",
    "#     change_se = mstats.winsorize(valid_data_df.change,limits=[0.05, 0.05])\n",
    "    return [win_ratio,len(valid_data_df),valid_data_df.change.mean()]"
   ]
  },
  {
   "cell_type": "code",
   "execution_count": 4,
   "metadata": {
    "collapsed": false,
    "scrolled": false
   },
   "outputs": [
    {
     "name": "stderr",
     "output_type": "stream",
     "text": [
      "/Users/sgcy/anaconda/lib/python2.7/site-packages/ipykernel/__main__.py:4: UserWarning: Boolean Series key will be reindexed to match DataFrame index.\n",
      "/Users/sgcy/anaconda/lib/python2.7/site-packages/ipykernel/__main__.py:14: UserWarning: Boolean Series key will be reindexed to match DataFrame index.\n"
     ]
    },
    {
     "name": "stdout",
     "output_type": "stream",
     "text": [
      "small_volume-yz0-~yz1-top1-opentop1 0.83660130719 0.636363636364 153\n",
      "      winratio  count      mean\n",
      "2007  0.454545   11.0  1.006187\n",
      "2016  0.416667   12.0  0.995678\n",
      "jump2-~foot1-small_volume-yz0-~opentop1-top1 0.798657718121 0.909090909091 149\n",
      "      winratio  count      mean\n",
      "2007       0.5    4.0  0.964001\n",
      "foot2-small_volume-yz0-~opentop1-top1 0.815789473684 0.818181818182 76\n",
      "      winratio  count      mean\n",
      "2014  0.285714    7.0  1.019245\n",
      "~foot1-speedup2-jump1-jump2-small_volume-yz0 0.801886792453 0.636363636364 106\n",
      "      winratio  count      mean\n",
      "2014  0.444444    9.0  1.012389\n",
      "~opentop2-jump1-jump2-small_volume-yz0 0.821167883212 0.636363636364 274\n",
      "      winratio  count      mean\n",
      "2012  0.333333    6.0  0.998693\n",
      "2013  0.454545   11.0  1.014876\n",
      "~isnew-jump2-small_volume-~yz0-top0-opentop0-~opentop1-top1 0.752380952381 0.636363636364 105\n",
      "      winratio  count      mean\n",
      "2008      0.25    4.0  0.970270\n",
      "2012      0.40    5.0  0.998404\n",
      "2016      0.25    4.0  0.955415\n",
      "~speedup1-jump1-speedup2-small_volume-top1-opentop1 0.833333333333 0.545454545455 60\n",
      "      winratio  count     mean\n",
      "2007  0.333333    6.0  0.99247\n",
      "~opentop2-~speedup1-small_volume-top1-opentop1 0.831578947368 0.727272727273 285\n",
      "      winratio  count      mean\n",
      "2012       0.0    4.0  0.934842\n",
      "~opentop2-jump1-~speedup2-foot0-foot2-small_volume 0.766816143498 0.818181818182 223\n",
      "      winratio  count      mean\n",
      "2007  0.416667   24.0  0.998984\n",
      "2016  0.518519   27.0  0.999674\n",
      "~speedup1-~jump2-foot0-foot2-small_volume 0.786666666667 0.727272727273 150\n",
      "      winratio  count      mean\n",
      "2008  0.250000    4.0  0.985887\n",
      "2009  0.666667    6.0  0.994564\n",
      "2016  0.500000   10.0  0.993529\n",
      "2017  0.428571    7.0  0.984114\n",
      "~speedup1-~jump1-speedup2-~jump2-foot2-small_volume-top0 0.893939393939 0.727272727273 66\n",
      "Empty DataFrame\n",
      "Columns: [winratio, count, mean]\n",
      "Index: []\n",
      "~speedup1-~jump1-jump2-~foot2-small_volume-top0 0.743315508021 0.818181818182 187\n",
      "      winratio  count      mean\n",
      "2008       0.4    5.0  1.016291\n",
      "~speedup1-~speedup2-jump2-~foot1-~isnew-small_volume-top0-~opentop1 0.738636363636 0.727272727273 88\n",
      "      winratio  count      mean\n",
      "2007  0.400000   10.0  0.986718\n",
      "2012  0.333333    6.0  1.018389\n"
     ]
    }
   ],
   "source": [
    "for filters in filterss:\n",
    "    for filter_name in filters:\n",
    "        the_filter = getFilter(filter_name)\n",
    "        sub_df = data_df[the_filter]\n",
    "        result_df = pd.DataFrame(index=[\"winratio\",\"count\",\"mean\"])\n",
    "        for i in range(2007,2018):\n",
    "            begin = str(i) + \"-01-01\"\n",
    "            end = str(i+1) + \"-01-01\"\n",
    "#             print sub_df\n",
    "            sub_sub_df = sub_df[(sub_df.date > begin) & (sub_df.date <= end)]\n",
    "            result_se = result(sub_sub_df)\n",
    "#             print result_se\n",
    "            result_df[str(i)] = result_se\n",
    "        win_df = sub_df[top2]\n",
    "        result_df = result_df.T\n",
    "        win_r_df = result_df[result_df.winratio > 0.5]\n",
    "        print filter_name,float(len(win_df))/len(sub_df),float(len(win_r_df))/len(result_df),len(sub_df)\n",
    "        result_df = result_df[result_df[\"count\"] > 3]\n",
    "        print result_df[((result_df.winratio < 0.5) | (result_df[\"mean\"] < 1.0))]"
   ]
  },
  {
   "cell_type": "code",
   "execution_count": null,
   "metadata": {
    "collapsed": true
   },
   "outputs": [],
   "source": []
  },
  {
   "cell_type": "code",
   "execution_count": null,
   "metadata": {
    "collapsed": true
   },
   "outputs": [],
   "source": []
  }
 ],
 "metadata": {
  "kernelspec": {
   "display_name": "Python 2",
   "language": "python",
   "name": "python2"
  },
  "language_info": {
   "codemirror_mode": {
    "name": "ipython",
    "version": 2
   },
   "file_extension": ".py",
   "mimetype": "text/x-python",
   "name": "python",
   "nbconvert_exporter": "python",
   "pygments_lexer": "ipython2",
   "version": "2.7.11"
  }
 },
 "nbformat": 4,
 "nbformat_minor": 0
}
