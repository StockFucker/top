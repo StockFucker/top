{
 "cells": [
  {
   "cell_type": "code",
   "execution_count": 1,
   "metadata": {
    "collapsed": true
   },
   "outputs": [],
   "source": [
    "import pandas as pd"
   ]
  },
  {
   "cell_type": "code",
   "execution_count": 2,
   "metadata": {
    "collapsed": true
   },
   "outputs": [],
   "source": [
    "data_df = pd.read_csv(\"top.csv\",index_col=0,parse_dates=True,low_memory=False)\n",
    "new_df = pd.read_csv(\"newtop.csv\",index_col=0,parse_dates=True,low_memory=False)\n",
    "new_df[\"st\"] = data_df[\"st\"]\n",
    "new_df[\"isnew\"] = data_df[\"isnew\"]\n",
    "new_df.to_csv(\"top.csv\")"
   ]
  },
  {
   "cell_type": "code",
   "execution_count": 4,
   "metadata": {
    "collapsed": true
   },
   "outputs": [],
   "source": [
    "data_df = pd.read_csv(\"top.csv\",index_col=0,parse_dates=True,low_memory=False)\n",
    "st_df = pd.read_csv(\"st.csv\",index_col=0,parse_dates=True)\n",
    "st_se = pd.Series()\n",
    "for index,row in data_df.iterrows():\n",
    "    stock = row[\"stock\"]\n",
    "    date = row[\"date\"]\n",
    "    st_se[index] = st_df[stock][date]\n",
    "data_df[\"st\"] = st_se\n",
    "data_df.to_csv(\"top.csv\")"
   ]
  },
  {
   "cell_type": "code",
   "execution_count": 3,
   "metadata": {
    "collapsed": false
   },
   "outputs": [],
   "source": [
    "# circap_df = pd.read_csv(\"circap.csv\",index_col=0,parse_dates=True,low_memory=False)\n",
    "new_df = pd.read_csv(\"new_stocks.csv\",index_col=0,parse_dates=True,low_memory=False)\n",
    "data_df = pd.read_csv(\"top.csv\",index_col=0,parse_dates=True,low_memory=False)\n",
    "# circap_df = circap_df.rank(axis=1)"
   ]
  },
  {
   "cell_type": "code",
   "execution_count": 2,
   "metadata": {
    "collapsed": false
   },
   "outputs": [],
   "source": [
    "# circap_df = pd.read_csv(\"circap1.csv\",index_col=0,parse_dates=True,low_memory=False)\n",
    "new_df = pd.read_csv(\"new_stocks60.csv\",index_col=0,parse_dates=True,low_memory=False)\n",
    "data_df = pd.read_csv(\"top3.csv\",index_col=0,parse_dates=True,low_memory=False)\n",
    "# circap_df = circap_df.rank(axis=1)"
   ]
  },
  {
   "cell_type": "code",
   "execution_count": 3,
   "metadata": {
    "collapsed": false
   },
   "outputs": [],
   "source": [
    "#把市值换为quantile分位数\n",
    "circap_q_df = pd.DataFrame(index=circap_df.index,columns=circap_df.columns)\n",
    "for index,row in circap_df.iterrows():\n",
    "    each_row = row.dropna()\n",
    "    each_row = row/float(len(row))\n",
    "    circap_q_df.ix[index] = each_row"
   ]
  },
  {
   "cell_type": "code",
   "execution_count": 4,
   "metadata": {
    "collapsed": false
   },
   "outputs": [
    {
     "data": {
      "text/html": [
       "<div>\n",
       "<table border=\"1\" class=\"dataframe\">\n",
       "  <thead>\n",
       "    <tr style=\"text-align: right;\">\n",
       "      <th></th>\n",
       "      <th>000001.XSHE</th>\n",
       "      <th>000002.XSHE</th>\n",
       "      <th>000004.XSHE</th>\n",
       "      <th>000005.XSHE</th>\n",
       "      <th>000006.XSHE</th>\n",
       "      <th>000007.XSHE</th>\n",
       "      <th>000008.XSHE</th>\n",
       "      <th>000009.XSHE</th>\n",
       "      <th>000010.XSHE</th>\n",
       "      <th>000011.XSHE</th>\n",
       "      <th>...</th>\n",
       "      <th>603987.XSHG</th>\n",
       "      <th>603988.XSHG</th>\n",
       "      <th>603989.XSHG</th>\n",
       "      <th>603990.XSHG</th>\n",
       "      <th>603991.XSHG</th>\n",
       "      <th>603993.XSHG</th>\n",
       "      <th>603996.XSHG</th>\n",
       "      <th>603997.XSHG</th>\n",
       "      <th>603998.XSHG</th>\n",
       "      <th>603999.XSHG</th>\n",
       "    </tr>\n",
       "  </thead>\n",
       "  <tbody>\n",
       "    <tr>\n",
       "      <th>2017-05-15</th>\n",
       "      <td>3197.0</td>\n",
       "      <td>3204.0</td>\n",
       "      <td>874.0</td>\n",
       "      <td>1623.0</td>\n",
       "      <td>2561.0</td>\n",
       "      <td>1625.0</td>\n",
       "      <td>2796.0</td>\n",
       "      <td>2847.0</td>\n",
       "      <td>779.0</td>\n",
       "      <td>892.0</td>\n",
       "      <td>...</td>\n",
       "      <td>281.0</td>\n",
       "      <td>308.0</td>\n",
       "      <td>1042.5</td>\n",
       "      <td>35.0</td>\n",
       "      <td>20.0</td>\n",
       "      <td>3141.0</td>\n",
       "      <td>346.0</td>\n",
       "      <td>852.0</td>\n",
       "      <td>1205.5</td>\n",
       "      <td>671.0</td>\n",
       "    </tr>\n",
       "    <tr>\n",
       "      <th>2017-05-16</th>\n",
       "      <td>3200.0</td>\n",
       "      <td>3207.0</td>\n",
       "      <td>845.5</td>\n",
       "      <td>1644.5</td>\n",
       "      <td>2574.0</td>\n",
       "      <td>1591.5</td>\n",
       "      <td>2785.0</td>\n",
       "      <td>2851.0</td>\n",
       "      <td>772.0</td>\n",
       "      <td>946.0</td>\n",
       "      <td>...</td>\n",
       "      <td>286.0</td>\n",
       "      <td>305.0</td>\n",
       "      <td>1012.0</td>\n",
       "      <td>38.0</td>\n",
       "      <td>21.5</td>\n",
       "      <td>3149.0</td>\n",
       "      <td>368.0</td>\n",
       "      <td>817.5</td>\n",
       "      <td>1196.0</td>\n",
       "      <td>670.5</td>\n",
       "    </tr>\n",
       "    <tr>\n",
       "      <th>2017-05-17</th>\n",
       "      <td>3200.0</td>\n",
       "      <td>3207.0</td>\n",
       "      <td>845.5</td>\n",
       "      <td>1644.5</td>\n",
       "      <td>2574.0</td>\n",
       "      <td>1591.5</td>\n",
       "      <td>2785.0</td>\n",
       "      <td>2851.0</td>\n",
       "      <td>772.0</td>\n",
       "      <td>946.0</td>\n",
       "      <td>...</td>\n",
       "      <td>286.0</td>\n",
       "      <td>305.0</td>\n",
       "      <td>1012.0</td>\n",
       "      <td>38.0</td>\n",
       "      <td>21.5</td>\n",
       "      <td>3149.0</td>\n",
       "      <td>368.0</td>\n",
       "      <td>817.5</td>\n",
       "      <td>1196.0</td>\n",
       "      <td>670.5</td>\n",
       "    </tr>\n",
       "  </tbody>\n",
       "</table>\n",
       "<p>3 rows × 3298 columns</p>\n",
       "</div>"
      ],
      "text/plain": [
       "            000001.XSHE  000002.XSHE  000004.XSHE  000005.XSHE  000006.XSHE  \\\n",
       "2017-05-15       3197.0       3204.0        874.0       1623.0       2561.0   \n",
       "2017-05-16       3200.0       3207.0        845.5       1644.5       2574.0   \n",
       "2017-05-17       3200.0       3207.0        845.5       1644.5       2574.0   \n",
       "\n",
       "            000007.XSHE  000008.XSHE  000009.XSHE  000010.XSHE  000011.XSHE  \\\n",
       "2017-05-15       1625.0       2796.0       2847.0        779.0        892.0   \n",
       "2017-05-16       1591.5       2785.0       2851.0        772.0        946.0   \n",
       "2017-05-17       1591.5       2785.0       2851.0        772.0        946.0   \n",
       "\n",
       "               ...       603987.XSHG  603988.XSHG  603989.XSHG  603990.XSHG  \\\n",
       "2017-05-15     ...             281.0        308.0       1042.5         35.0   \n",
       "2017-05-16     ...             286.0        305.0       1012.0         38.0   \n",
       "2017-05-17     ...             286.0        305.0       1012.0         38.0   \n",
       "\n",
       "            603991.XSHG  603993.XSHG  603996.XSHG  603997.XSHG  603998.XSHG  \\\n",
       "2017-05-15         20.0       3141.0        346.0        852.0       1205.5   \n",
       "2017-05-16         21.5       3149.0        368.0        817.5       1196.0   \n",
       "2017-05-17         21.5       3149.0        368.0        817.5       1196.0   \n",
       "\n",
       "            603999.XSHG  \n",
       "2017-05-15        671.0  \n",
       "2017-05-16        670.5  \n",
       "2017-05-17        670.5  \n",
       "\n",
       "[3 rows x 3298 columns]"
      ]
     },
     "execution_count": 4,
     "metadata": {},
     "output_type": "execute_result"
    }
   ],
   "source": [
    "circap_df.tail(3)"
   ]
  },
  {
   "cell_type": "code",
   "execution_count": 3,
   "metadata": {
    "collapsed": false
   },
   "outputs": [],
   "source": [
    "# circap_se = pd.Series()\n",
    "# capq_se = pd.Series()\n",
    "new_se = pd.Series()\n",
    "for index,row in data_df.iterrows():\n",
    "    stock = row[\"stock\"]\n",
    "    date = row[\"date\"]\n",
    "#     circap_se[index] = circap_df[stock][date]\n",
    "    new_se[index] = new_df[stock][date]\n",
    "#     capq_se[index] = circap_q_df[stock][date]\n",
    "# data_df[\"circap\"] = circap_se\n",
    "data_df[\"isnew\"] = new_se\n",
    "# data_df[\"capq\"] = capq_se\n",
    "data_df.to_csv(\"top3.csv\")"
   ]
  },
  {
   "cell_type": "code",
   "execution_count": 14,
   "metadata": {
    "collapsed": false
   },
   "outputs": [
    {
     "data": {
      "text/plain": [
       "169"
      ]
     },
     "execution_count": 14,
     "metadata": {},
     "output_type": "execute_result"
    }
   ],
   "source": [
    "len(data_df)"
   ]
  },
  {
   "cell_type": "code",
   "execution_count": null,
   "metadata": {
    "collapsed": true
   },
   "outputs": [],
   "source": []
  },
  {
   "cell_type": "code",
   "execution_count": 24,
   "metadata": {
    "collapsed": true
   },
   "outputs": [],
   "source": [
    "data_df = pd.read_csv(\"top.csv\",index_col=0,parse_dates=True,low_memory=False)\n",
    "moneyeffect_df = pd.Series.from_csv(\"moneyeffect.csv\",parse_dates=True)"
   ]
  },
  {
   "cell_type": "code",
   "execution_count": 25,
   "metadata": {
    "collapsed": false
   },
   "outputs": [],
   "source": [
    "moneyeffect_df = moneyeffect_df.sort_index(inplace=False)\n",
    "moneyeffect_df.index = pd.to_datetime(moneyeffect_df.index)"
   ]
  },
  {
   "cell_type": "code",
   "execution_count": null,
   "metadata": {
    "collapsed": true
   },
   "outputs": [],
   "source": []
  },
  {
   "cell_type": "code",
   "execution_count": null,
   "metadata": {
    "collapsed": true
   },
   "outputs": [],
   "source": [
    "moneyeffect_df.head(3)"
   ]
  },
  {
   "cell_type": "code",
   "execution_count": 27,
   "metadata": {
    "collapsed": false
   },
   "outputs": [],
   "source": [
    "top_change_se = pd.Series()\n",
    "for index,row in data_df.iterrows():\n",
    "    date = row[\"date\"][:10]\n",
    "    minute = row[\"minute\"]\n",
    "    if type(minute) == float:\n",
    "        continue\n",
    "    datestr = date + \" \" + minute\n",
    "#     print datestr\n",
    "#     break\n",
    "#     continue\n",
    "    try:\n",
    "        top_change_se[index] = moneyeffect_df[datestr]\n",
    "    except:\n",
    "        continue"
   ]
  },
  {
   "cell_type": "code",
   "execution_count": 28,
   "metadata": {
    "collapsed": true
   },
   "outputs": [],
   "source": [
    "data_df[\"top_change\"] = top_change_se\n",
    "data_df.to_csv(\"top.csv\")"
   ]
  },
  {
   "cell_type": "code",
   "execution_count": null,
   "metadata": {
    "collapsed": true
   },
   "outputs": [],
   "source": []
  }
 ],
 "metadata": {
  "kernelspec": {
   "display_name": "Python 2",
   "language": "python",
   "name": "python2"
  },
  "language_info": {
   "codemirror_mode": {
    "name": "ipython",
    "version": 2
   },
   "file_extension": ".py",
   "mimetype": "text/x-python",
   "name": "python",
   "nbconvert_exporter": "python",
   "pygments_lexer": "ipython2",
   "version": "2.7.11"
  }
 },
 "nbformat": 4,
 "nbformat_minor": 0
}
