{
 "cells": [
  {
   "cell_type": "code",
   "execution_count": 1,
   "metadata": {
    "collapsed": true
   },
   "outputs": [],
   "source": [
    "import pandas as pd"
   ]
  },
  {
   "cell_type": "code",
   "execution_count": 2,
   "metadata": {
    "collapsed": false
   },
   "outputs": [],
   "source": [
    "data_df = pd.read_csv(\"top.csv\",index_col=0,parse_dates=True,low_memory=False)\n",
    "new_df = pd.read_csv(\"newtop.csv\",index_col=0,parse_dates=True,low_memory=False)\n",
    "new_df[\"st\"] = data_df[\"st\"]\n",
    "new_df[\"isnew\"] = data_df[\"isnew\"]\n",
    "new_df.to_csv(\"top.csv\")"
   ]
  },
  {
   "cell_type": "code",
   "execution_count": 2,
   "metadata": {
    "collapsed": true
   },
   "outputs": [],
   "source": [
    "data_df = pd.read_csv(\"top8.csv\",index_col=0,parse_dates=True,low_memory=False)\n",
    "st_df = pd.read_csv(\"st.csv\",index_col=0,parse_dates=True)\n",
    "st_se = pd.Series()\n",
    "for index,row in data_df.iterrows():\n",
    "    stock = row[\"stock\"]\n",
    "    date = row[\"date\"]\n",
    "    st_se[index] = st_df[stock][date]\n",
    "data_df[\"st\"] = st_se\n",
    "data_df.to_csv(\"top8.csv\")"
   ]
  },
  {
   "cell_type": "code",
   "execution_count": 6,
   "metadata": {
    "collapsed": false
   },
   "outputs": [
    {
     "ename": "IOError",
     "evalue": "File new_stocks.csv does not exist",
     "output_type": "error",
     "traceback": [
      "\u001b[0;31m---------------------------------------------------------------------------\u001b[0m",
      "\u001b[0;31mIOError\u001b[0m                                   Traceback (most recent call last)",
      "\u001b[0;32m<ipython-input-6-00c31bf7ba68>\u001b[0m in \u001b[0;36m<module>\u001b[0;34m()\u001b[0m\n\u001b[1;32m      1\u001b[0m \u001b[0;31m# circap_df = pd.read_csv(\"circap.csv\",index_col=0,parse_dates=True,low_memory=False)\u001b[0m\u001b[0;34m\u001b[0m\u001b[0;34m\u001b[0m\u001b[0m\n\u001b[0;32m----> 2\u001b[0;31m \u001b[0mnew_df\u001b[0m \u001b[0;34m=\u001b[0m \u001b[0mpd\u001b[0m\u001b[0;34m.\u001b[0m\u001b[0mread_csv\u001b[0m\u001b[0;34m(\u001b[0m\u001b[0;34m\"new_stocks.csv\"\u001b[0m\u001b[0;34m,\u001b[0m\u001b[0mindex_col\u001b[0m\u001b[0;34m=\u001b[0m\u001b[0;36m0\u001b[0m\u001b[0;34m,\u001b[0m\u001b[0mparse_dates\u001b[0m\u001b[0;34m=\u001b[0m\u001b[0mTrue\u001b[0m\u001b[0;34m,\u001b[0m\u001b[0mlow_memory\u001b[0m\u001b[0;34m=\u001b[0m\u001b[0mFalse\u001b[0m\u001b[0;34m)\u001b[0m\u001b[0;34m\u001b[0m\u001b[0m\n\u001b[0m\u001b[1;32m      3\u001b[0m \u001b[0mdata_df\u001b[0m \u001b[0;34m=\u001b[0m \u001b[0mpd\u001b[0m\u001b[0;34m.\u001b[0m\u001b[0mread_csv\u001b[0m\u001b[0;34m(\u001b[0m\u001b[0;34m\"top.csv\"\u001b[0m\u001b[0;34m,\u001b[0m\u001b[0mindex_col\u001b[0m\u001b[0;34m=\u001b[0m\u001b[0;36m0\u001b[0m\u001b[0;34m,\u001b[0m\u001b[0mparse_dates\u001b[0m\u001b[0;34m=\u001b[0m\u001b[0mTrue\u001b[0m\u001b[0;34m,\u001b[0m\u001b[0mlow_memory\u001b[0m\u001b[0;34m=\u001b[0m\u001b[0mFalse\u001b[0m\u001b[0;34m)\u001b[0m\u001b[0;34m\u001b[0m\u001b[0m\n\u001b[1;32m      4\u001b[0m \u001b[0;31m# circap_df = circap_df.rank(axis=1)\u001b[0m\u001b[0;34m\u001b[0m\u001b[0;34m\u001b[0m\u001b[0m\n",
      "\u001b[0;32m/usr/local/lib/python2.7/site-packages/pandas/io/parsers.pyc\u001b[0m in \u001b[0;36mparser_f\u001b[0;34m(filepath_or_buffer, sep, delimiter, header, names, index_col, usecols, squeeze, prefix, mangle_dupe_cols, dtype, engine, converters, true_values, false_values, skipinitialspace, skiprows, nrows, na_values, keep_default_na, na_filter, verbose, skip_blank_lines, parse_dates, infer_datetime_format, keep_date_col, date_parser, dayfirst, iterator, chunksize, compression, thousands, decimal, lineterminator, quotechar, quoting, escapechar, comment, encoding, dialect, tupleize_cols, error_bad_lines, warn_bad_lines, skipfooter, skip_footer, doublequote, delim_whitespace, as_recarray, compact_ints, use_unsigned, low_memory, buffer_lines, memory_map, float_precision)\u001b[0m\n\u001b[1;32m    644\u001b[0m                     skip_blank_lines=skip_blank_lines)\n\u001b[1;32m    645\u001b[0m \u001b[0;34m\u001b[0m\u001b[0m\n\u001b[0;32m--> 646\u001b[0;31m         \u001b[0;32mreturn\u001b[0m \u001b[0m_read\u001b[0m\u001b[0;34m(\u001b[0m\u001b[0mfilepath_or_buffer\u001b[0m\u001b[0;34m,\u001b[0m \u001b[0mkwds\u001b[0m\u001b[0;34m)\u001b[0m\u001b[0;34m\u001b[0m\u001b[0m\n\u001b[0m\u001b[1;32m    647\u001b[0m \u001b[0;34m\u001b[0m\u001b[0m\n\u001b[1;32m    648\u001b[0m     \u001b[0mparser_f\u001b[0m\u001b[0;34m.\u001b[0m\u001b[0m__name__\u001b[0m \u001b[0;34m=\u001b[0m \u001b[0mname\u001b[0m\u001b[0;34m\u001b[0m\u001b[0m\n",
      "\u001b[0;32m/usr/local/lib/python2.7/site-packages/pandas/io/parsers.pyc\u001b[0m in \u001b[0;36m_read\u001b[0;34m(filepath_or_buffer, kwds)\u001b[0m\n\u001b[1;32m    387\u001b[0m \u001b[0;34m\u001b[0m\u001b[0m\n\u001b[1;32m    388\u001b[0m     \u001b[0;31m# Create the parser.\u001b[0m\u001b[0;34m\u001b[0m\u001b[0;34m\u001b[0m\u001b[0m\n\u001b[0;32m--> 389\u001b[0;31m     \u001b[0mparser\u001b[0m \u001b[0;34m=\u001b[0m \u001b[0mTextFileReader\u001b[0m\u001b[0;34m(\u001b[0m\u001b[0mfilepath_or_buffer\u001b[0m\u001b[0;34m,\u001b[0m \u001b[0;34m**\u001b[0m\u001b[0mkwds\u001b[0m\u001b[0;34m)\u001b[0m\u001b[0;34m\u001b[0m\u001b[0m\n\u001b[0m\u001b[1;32m    390\u001b[0m \u001b[0;34m\u001b[0m\u001b[0m\n\u001b[1;32m    391\u001b[0m     \u001b[0;32mif\u001b[0m \u001b[0;34m(\u001b[0m\u001b[0mnrows\u001b[0m \u001b[0;32mis\u001b[0m \u001b[0;32mnot\u001b[0m \u001b[0mNone\u001b[0m\u001b[0;34m)\u001b[0m \u001b[0;32mand\u001b[0m \u001b[0;34m(\u001b[0m\u001b[0mchunksize\u001b[0m \u001b[0;32mis\u001b[0m \u001b[0;32mnot\u001b[0m \u001b[0mNone\u001b[0m\u001b[0;34m)\u001b[0m\u001b[0;34m:\u001b[0m\u001b[0;34m\u001b[0m\u001b[0m\n",
      "\u001b[0;32m/usr/local/lib/python2.7/site-packages/pandas/io/parsers.pyc\u001b[0m in \u001b[0;36m__init__\u001b[0;34m(self, f, engine, **kwds)\u001b[0m\n\u001b[1;32m    728\u001b[0m             \u001b[0mself\u001b[0m\u001b[0;34m.\u001b[0m\u001b[0moptions\u001b[0m\u001b[0;34m[\u001b[0m\u001b[0;34m'has_index_names'\u001b[0m\u001b[0;34m]\u001b[0m \u001b[0;34m=\u001b[0m \u001b[0mkwds\u001b[0m\u001b[0;34m[\u001b[0m\u001b[0;34m'has_index_names'\u001b[0m\u001b[0;34m]\u001b[0m\u001b[0;34m\u001b[0m\u001b[0m\n\u001b[1;32m    729\u001b[0m \u001b[0;34m\u001b[0m\u001b[0m\n\u001b[0;32m--> 730\u001b[0;31m         \u001b[0mself\u001b[0m\u001b[0;34m.\u001b[0m\u001b[0m_make_engine\u001b[0m\u001b[0;34m(\u001b[0m\u001b[0mself\u001b[0m\u001b[0;34m.\u001b[0m\u001b[0mengine\u001b[0m\u001b[0;34m)\u001b[0m\u001b[0;34m\u001b[0m\u001b[0m\n\u001b[0m\u001b[1;32m    731\u001b[0m \u001b[0;34m\u001b[0m\u001b[0m\n\u001b[1;32m    732\u001b[0m     \u001b[0;32mdef\u001b[0m \u001b[0mclose\u001b[0m\u001b[0;34m(\u001b[0m\u001b[0mself\u001b[0m\u001b[0;34m)\u001b[0m\u001b[0;34m:\u001b[0m\u001b[0;34m\u001b[0m\u001b[0m\n",
      "\u001b[0;32m/usr/local/lib/python2.7/site-packages/pandas/io/parsers.pyc\u001b[0m in \u001b[0;36m_make_engine\u001b[0;34m(self, engine)\u001b[0m\n\u001b[1;32m    921\u001b[0m     \u001b[0;32mdef\u001b[0m \u001b[0m_make_engine\u001b[0m\u001b[0;34m(\u001b[0m\u001b[0mself\u001b[0m\u001b[0;34m,\u001b[0m \u001b[0mengine\u001b[0m\u001b[0;34m=\u001b[0m\u001b[0;34m'c'\u001b[0m\u001b[0;34m)\u001b[0m\u001b[0;34m:\u001b[0m\u001b[0;34m\u001b[0m\u001b[0m\n\u001b[1;32m    922\u001b[0m         \u001b[0;32mif\u001b[0m \u001b[0mengine\u001b[0m \u001b[0;34m==\u001b[0m \u001b[0;34m'c'\u001b[0m\u001b[0;34m:\u001b[0m\u001b[0;34m\u001b[0m\u001b[0m\n\u001b[0;32m--> 923\u001b[0;31m             \u001b[0mself\u001b[0m\u001b[0;34m.\u001b[0m\u001b[0m_engine\u001b[0m \u001b[0;34m=\u001b[0m \u001b[0mCParserWrapper\u001b[0m\u001b[0;34m(\u001b[0m\u001b[0mself\u001b[0m\u001b[0;34m.\u001b[0m\u001b[0mf\u001b[0m\u001b[0;34m,\u001b[0m \u001b[0;34m**\u001b[0m\u001b[0mself\u001b[0m\u001b[0;34m.\u001b[0m\u001b[0moptions\u001b[0m\u001b[0;34m)\u001b[0m\u001b[0;34m\u001b[0m\u001b[0m\n\u001b[0m\u001b[1;32m    924\u001b[0m         \u001b[0;32melse\u001b[0m\u001b[0;34m:\u001b[0m\u001b[0;34m\u001b[0m\u001b[0m\n\u001b[1;32m    925\u001b[0m             \u001b[0;32mif\u001b[0m \u001b[0mengine\u001b[0m \u001b[0;34m==\u001b[0m \u001b[0;34m'python'\u001b[0m\u001b[0;34m:\u001b[0m\u001b[0;34m\u001b[0m\u001b[0m\n",
      "\u001b[0;32m/usr/local/lib/python2.7/site-packages/pandas/io/parsers.pyc\u001b[0m in \u001b[0;36m__init__\u001b[0;34m(self, src, **kwds)\u001b[0m\n\u001b[1;32m   1388\u001b[0m         \u001b[0mkwds\u001b[0m\u001b[0;34m[\u001b[0m\u001b[0;34m'allow_leading_cols'\u001b[0m\u001b[0;34m]\u001b[0m \u001b[0;34m=\u001b[0m \u001b[0mself\u001b[0m\u001b[0;34m.\u001b[0m\u001b[0mindex_col\u001b[0m \u001b[0;32mis\u001b[0m \u001b[0;32mnot\u001b[0m \u001b[0mFalse\u001b[0m\u001b[0;34m\u001b[0m\u001b[0m\n\u001b[1;32m   1389\u001b[0m \u001b[0;34m\u001b[0m\u001b[0m\n\u001b[0;32m-> 1390\u001b[0;31m         \u001b[0mself\u001b[0m\u001b[0;34m.\u001b[0m\u001b[0m_reader\u001b[0m \u001b[0;34m=\u001b[0m \u001b[0m_parser\u001b[0m\u001b[0;34m.\u001b[0m\u001b[0mTextReader\u001b[0m\u001b[0;34m(\u001b[0m\u001b[0msrc\u001b[0m\u001b[0;34m,\u001b[0m \u001b[0;34m**\u001b[0m\u001b[0mkwds\u001b[0m\u001b[0;34m)\u001b[0m\u001b[0;34m\u001b[0m\u001b[0m\n\u001b[0m\u001b[1;32m   1391\u001b[0m \u001b[0;34m\u001b[0m\u001b[0m\n\u001b[1;32m   1392\u001b[0m         \u001b[0;31m# XXX\u001b[0m\u001b[0;34m\u001b[0m\u001b[0;34m\u001b[0m\u001b[0m\n",
      "\u001b[0;32mpandas/parser.pyx\u001b[0m in \u001b[0;36mpandas.parser.TextReader.__cinit__ (pandas/parser.c:4184)\u001b[0;34m()\u001b[0m\n",
      "\u001b[0;32mpandas/parser.pyx\u001b[0m in \u001b[0;36mpandas.parser.TextReader._setup_parser_source (pandas/parser.c:8449)\u001b[0;34m()\u001b[0m\n",
      "\u001b[0;31mIOError\u001b[0m: File new_stocks.csv does not exist"
     ]
    }
   ],
   "source": [
    "# circap_df = pd.read_csv(\"circap.csv\",index_col=0,parse_dates=True,low_memory=False)\n",
    "new_df = pd.read_csv(\"new_stocks.csv\",index_col=0,parse_dates=True,low_memory=False)\n",
    "data_df = pd.read_csv(\"top.csv\",index_col=0,parse_dates=True,low_memory=False)\n",
    "# circap_df = circap_df.rank(axis=1)"
   ]
  },
  {
   "cell_type": "code",
   "execution_count": 3,
   "metadata": {
    "collapsed": false
   },
   "outputs": [],
   "source": [
    "# circap_df = pd.read_csv(\"circap1.csv\",index_col=0,parse_dates=True,low_memory=False)\n",
    "new_df = pd.read_csv(\"new_stocks60.csv\",index_col=0,parse_dates=True,low_memory=False)\n",
    "# data_df = pd.read_csv(\"top3.csv\",index_col=0,parse_dates=True,low_memory=False)\n",
    "# circap_df = circap_df.rank(axis=1)"
   ]
  },
  {
   "cell_type": "code",
   "execution_count": 3,
   "metadata": {
    "collapsed": false
   },
   "outputs": [],
   "source": [
    "#把市值换为quantile分位数\n",
    "circap_q_df = pd.DataFrame(index=circap_df.index,columns=circap_df.columns)\n",
    "for index,row in circap_df.iterrows():\n",
    "    each_row = row.dropna()\n",
    "    each_row = row/float(len(row))\n",
    "    circap_q_df.ix[index] = each_row"
   ]
  },
  {
   "cell_type": "code",
   "execution_count": 4,
   "metadata": {
    "collapsed": false
   },
   "outputs": [
    {
     "data": {
      "text/html": [
       "<div>\n",
       "<table border=\"1\" class=\"dataframe\">\n",
       "  <thead>\n",
       "    <tr style=\"text-align: right;\">\n",
       "      <th></th>\n",
       "      <th>000001.XSHE</th>\n",
       "      <th>000002.XSHE</th>\n",
       "      <th>000004.XSHE</th>\n",
       "      <th>000005.XSHE</th>\n",
       "      <th>000006.XSHE</th>\n",
       "      <th>000007.XSHE</th>\n",
       "      <th>000008.XSHE</th>\n",
       "      <th>000009.XSHE</th>\n",
       "      <th>000010.XSHE</th>\n",
       "      <th>000011.XSHE</th>\n",
       "      <th>...</th>\n",
       "      <th>603987.XSHG</th>\n",
       "      <th>603988.XSHG</th>\n",
       "      <th>603989.XSHG</th>\n",
       "      <th>603990.XSHG</th>\n",
       "      <th>603991.XSHG</th>\n",
       "      <th>603993.XSHG</th>\n",
       "      <th>603996.XSHG</th>\n",
       "      <th>603997.XSHG</th>\n",
       "      <th>603998.XSHG</th>\n",
       "      <th>603999.XSHG</th>\n",
       "    </tr>\n",
       "  </thead>\n",
       "  <tbody>\n",
       "    <tr>\n",
       "      <th>2017-05-15</th>\n",
       "      <td>3197.0</td>\n",
       "      <td>3204.0</td>\n",
       "      <td>874.0</td>\n",
       "      <td>1623.0</td>\n",
       "      <td>2561.0</td>\n",
       "      <td>1625.0</td>\n",
       "      <td>2796.0</td>\n",
       "      <td>2847.0</td>\n",
       "      <td>779.0</td>\n",
       "      <td>892.0</td>\n",
       "      <td>...</td>\n",
       "      <td>281.0</td>\n",
       "      <td>308.0</td>\n",
       "      <td>1042.5</td>\n",
       "      <td>35.0</td>\n",
       "      <td>20.0</td>\n",
       "      <td>3141.0</td>\n",
       "      <td>346.0</td>\n",
       "      <td>852.0</td>\n",
       "      <td>1205.5</td>\n",
       "      <td>671.0</td>\n",
       "    </tr>\n",
       "    <tr>\n",
       "      <th>2017-05-16</th>\n",
       "      <td>3200.0</td>\n",
       "      <td>3207.0</td>\n",
       "      <td>845.5</td>\n",
       "      <td>1644.5</td>\n",
       "      <td>2574.0</td>\n",
       "      <td>1591.5</td>\n",
       "      <td>2785.0</td>\n",
       "      <td>2851.0</td>\n",
       "      <td>772.0</td>\n",
       "      <td>946.0</td>\n",
       "      <td>...</td>\n",
       "      <td>286.0</td>\n",
       "      <td>305.0</td>\n",
       "      <td>1012.0</td>\n",
       "      <td>38.0</td>\n",
       "      <td>21.5</td>\n",
       "      <td>3149.0</td>\n",
       "      <td>368.0</td>\n",
       "      <td>817.5</td>\n",
       "      <td>1196.0</td>\n",
       "      <td>670.5</td>\n",
       "    </tr>\n",
       "    <tr>\n",
       "      <th>2017-05-17</th>\n",
       "      <td>3200.0</td>\n",
       "      <td>3207.0</td>\n",
       "      <td>845.5</td>\n",
       "      <td>1644.5</td>\n",
       "      <td>2574.0</td>\n",
       "      <td>1591.5</td>\n",
       "      <td>2785.0</td>\n",
       "      <td>2851.0</td>\n",
       "      <td>772.0</td>\n",
       "      <td>946.0</td>\n",
       "      <td>...</td>\n",
       "      <td>286.0</td>\n",
       "      <td>305.0</td>\n",
       "      <td>1012.0</td>\n",
       "      <td>38.0</td>\n",
       "      <td>21.5</td>\n",
       "      <td>3149.0</td>\n",
       "      <td>368.0</td>\n",
       "      <td>817.5</td>\n",
       "      <td>1196.0</td>\n",
       "      <td>670.5</td>\n",
       "    </tr>\n",
       "  </tbody>\n",
       "</table>\n",
       "<p>3 rows × 3298 columns</p>\n",
       "</div>"
      ],
      "text/plain": [
       "            000001.XSHE  000002.XSHE  000004.XSHE  000005.XSHE  000006.XSHE  \\\n",
       "2017-05-15       3197.0       3204.0        874.0       1623.0       2561.0   \n",
       "2017-05-16       3200.0       3207.0        845.5       1644.5       2574.0   \n",
       "2017-05-17       3200.0       3207.0        845.5       1644.5       2574.0   \n",
       "\n",
       "            000007.XSHE  000008.XSHE  000009.XSHE  000010.XSHE  000011.XSHE  \\\n",
       "2017-05-15       1625.0       2796.0       2847.0        779.0        892.0   \n",
       "2017-05-16       1591.5       2785.0       2851.0        772.0        946.0   \n",
       "2017-05-17       1591.5       2785.0       2851.0        772.0        946.0   \n",
       "\n",
       "               ...       603987.XSHG  603988.XSHG  603989.XSHG  603990.XSHG  \\\n",
       "2017-05-15     ...             281.0        308.0       1042.5         35.0   \n",
       "2017-05-16     ...             286.0        305.0       1012.0         38.0   \n",
       "2017-05-17     ...             286.0        305.0       1012.0         38.0   \n",
       "\n",
       "            603991.XSHG  603993.XSHG  603996.XSHG  603997.XSHG  603998.XSHG  \\\n",
       "2017-05-15         20.0       3141.0        346.0        852.0       1205.5   \n",
       "2017-05-16         21.5       3149.0        368.0        817.5       1196.0   \n",
       "2017-05-17         21.5       3149.0        368.0        817.5       1196.0   \n",
       "\n",
       "            603999.XSHG  \n",
       "2017-05-15        671.0  \n",
       "2017-05-16        670.5  \n",
       "2017-05-17        670.5  \n",
       "\n",
       "[3 rows x 3298 columns]"
      ]
     },
     "execution_count": 4,
     "metadata": {},
     "output_type": "execute_result"
    }
   ],
   "source": [
    "circap_df.tail(3)"
   ]
  },
  {
   "cell_type": "code",
   "execution_count": 4,
   "metadata": {
    "collapsed": false
   },
   "outputs": [],
   "source": [
    "# circap_se = pd.Series()\n",
    "# capq_se = pd.Series()\n",
    "new_se = pd.Series()\n",
    "for index,row in data_df.iterrows():\n",
    "    stock = row[\"stock\"]\n",
    "    date = row[\"date\"]\n",
    "#     circap_se[index] = circap_df[stock][date]\n",
    "    new_se[index] = new_df[stock][date]\n",
    "#     capq_se[index] = circap_q_df[stock][date]\n",
    "# data_df[\"circap\"] = circap_se\n",
    "data_df[\"isnew\"] = new_se\n",
    "# data_df[\"capq\"] = capq_se\n",
    "data_df.to_csv(\"top8.csv\")"
   ]
  },
  {
   "cell_type": "code",
   "execution_count": 5,
   "metadata": {
    "collapsed": false
   },
   "outputs": [
    {
     "data": {
      "text/plain": [
       "20484"
      ]
     },
     "execution_count": 5,
     "metadata": {},
     "output_type": "execute_result"
    }
   ],
   "source": [
    "len(data_df)"
   ]
  },
  {
   "cell_type": "code",
   "execution_count": null,
   "metadata": {
    "collapsed": true
   },
   "outputs": [],
   "source": []
  },
  {
   "cell_type": "code",
   "execution_count": 3,
   "metadata": {
    "collapsed": true
   },
   "outputs": [],
   "source": [
    "data_df = pd.read_csv(\"top8.csv\",index_col=0,parse_dates=True,low_memory=False)\n",
    "moneyeffect_df = pd.Series.from_csv(\"moneyeffect.csv\",parse_dates=True)"
   ]
  },
  {
   "cell_type": "code",
   "execution_count": 4,
   "metadata": {
    "collapsed": false
   },
   "outputs": [],
   "source": [
    "moneyeffect_df = moneyeffect_df.sort_index(inplace=False)\n",
    "moneyeffect_df.index = pd.to_datetime(moneyeffect_df.index)"
   ]
  },
  {
   "cell_type": "code",
   "execution_count": null,
   "metadata": {
    "collapsed": true
   },
   "outputs": [],
   "source": []
  },
  {
   "cell_type": "code",
   "execution_count": 5,
   "metadata": {
    "collapsed": false
   },
   "outputs": [
    {
     "data": {
      "text/plain": [
       "2007-01-05 09:30:00    1.015972\n",
       "2007-01-05 09:31:00    1.017153\n",
       "2007-01-05 09:32:00    1.022748\n",
       "dtype: float64"
      ]
     },
     "execution_count": 5,
     "metadata": {},
     "output_type": "execute_result"
    }
   ],
   "source": [
    "moneyeffect_df.head(3)"
   ]
  },
  {
   "cell_type": "code",
   "execution_count": 6,
   "metadata": {
    "collapsed": false
   },
   "outputs": [],
   "source": [
    "moneyeffect_change = moneyeffect_df.pct_change()\n",
    "moneyeffect_change3 = moneyeffect_df.pct_change(3)"
   ]
  },
  {
   "cell_type": "code",
   "execution_count": 7,
   "metadata": {
    "collapsed": false
   },
   "outputs": [],
   "source": [
    "top_change_se = pd.Series()\n",
    "top_minchange_se = pd.Series()\n",
    "top_minchange_se3 = pd.Series()\n",
    "for index,row in data_df.iterrows():\n",
    "    date = row[\"date\"][:10]\n",
    "    minute = row[\"minute\"]\n",
    "    if type(minute) == float:\n",
    "        continue\n",
    "    datestr = date + \" \" + minute\n",
    "#     print datestr\n",
    "#     break\n",
    "#     continue\n",
    "    try:\n",
    "        top_change_se[index] = moneyeffect_df[datestr]\n",
    "        top_minchange_se[index] = moneyeffect_change[datestr]\n",
    "        top_minchange_se3[index] = moneyeffect_change3[datestr]\n",
    "    except:\n",
    "        continue"
   ]
  },
  {
   "cell_type": "code",
   "execution_count": 8,
   "metadata": {
    "collapsed": true
   },
   "outputs": [],
   "source": [
    "data_df[\"top_change\"] = top_change_se\n",
    "data_df[\"top_minchange3\"] = top_minchange_se3\n",
    "data_df[\"top_minchange\"] = top_minchange_se\n",
    "data_df.to_csv(\"top8.csv\")"
   ]
  },
  {
   "cell_type": "code",
   "execution_count": 9,
   "metadata": {
    "collapsed": false
   },
   "outputs": [
    {
     "data": {
      "text/html": [
       "<div>\n",
       "<table border=\"1\" class=\"dataframe\">\n",
       "  <thead>\n",
       "    <tr style=\"text-align: right;\">\n",
       "      <th></th>\n",
       "      <th>change</th>\n",
       "      <th>date</th>\n",
       "      <th>last_day</th>\n",
       "      <th>stock</th>\n",
       "      <th>close0</th>\n",
       "      <th>high0</th>\n",
       "      <th>high_limit0</th>\n",
       "      <th>low0</th>\n",
       "      <th>open0</th>\n",
       "      <th>volume0</th>\n",
       "      <th>...</th>\n",
       "      <th>index_minlow</th>\n",
       "      <th>index_minchange3</th>\n",
       "      <th>index_minchange</th>\n",
       "      <th>recent</th>\n",
       "      <th>last_recent</th>\n",
       "      <th>st</th>\n",
       "      <th>isnew</th>\n",
       "      <th>top_change</th>\n",
       "      <th>top_minchange3</th>\n",
       "      <th>top_minchange</th>\n",
       "    </tr>\n",
       "  </thead>\n",
       "  <tbody>\n",
       "    <tr>\n",
       "      <th>000001.XSHE_2013-01-14</th>\n",
       "      <td>1.001718</td>\n",
       "      <td>2013-01-14 00:00:00</td>\n",
       "      <td>2013-01-11 00:00:00</td>\n",
       "      <td>000001.XSHE</td>\n",
       "      <td>5.40</td>\n",
       "      <td>5.48</td>\n",
       "      <td>5.94</td>\n",
       "      <td>5.37</td>\n",
       "      <td>5.40</td>\n",
       "      <td>70536973.0</td>\n",
       "      <td>...</td>\n",
       "      <td>0.999280</td>\n",
       "      <td>-0.000464</td>\n",
       "      <td>-0.000109</td>\n",
       "      <td>1.0</td>\n",
       "      <td>1.0</td>\n",
       "      <td>False</td>\n",
       "      <td>0.0</td>\n",
       "      <td>1.038424</td>\n",
       "      <td>-0.001085</td>\n",
       "      <td>0.000704</td>\n",
       "    </tr>\n",
       "    <tr>\n",
       "      <th>000001.XSHE_2013-01-28</th>\n",
       "      <td>1.011158</td>\n",
       "      <td>2013-01-28 00:00:00</td>\n",
       "      <td>2013-01-25 00:00:00</td>\n",
       "      <td>000001.XSHE</td>\n",
       "      <td>6.62</td>\n",
       "      <td>7.00</td>\n",
       "      <td>7.51</td>\n",
       "      <td>6.57</td>\n",
       "      <td>6.82</td>\n",
       "      <td>251913470.0</td>\n",
       "      <td>...</td>\n",
       "      <td>1.000790</td>\n",
       "      <td>-0.000855</td>\n",
       "      <td>-0.000402</td>\n",
       "      <td>1.0</td>\n",
       "      <td>1.0</td>\n",
       "      <td>False</td>\n",
       "      <td>0.0</td>\n",
       "      <td>1.015714</td>\n",
       "      <td>-0.000432</td>\n",
       "      <td>-0.000147</td>\n",
       "    </tr>\n",
       "    <tr>\n",
       "      <th>000001.XSHE_2013-03-05</th>\n",
       "      <td>1.024570</td>\n",
       "      <td>2013-03-05 00:00:00</td>\n",
       "      <td>2013-03-04 00:00:00</td>\n",
       "      <td>000001.XSHE</td>\n",
       "      <td>7.85</td>\n",
       "      <td>7.91</td>\n",
       "      <td>8.61</td>\n",
       "      <td>7.61</td>\n",
       "      <td>7.80</td>\n",
       "      <td>304982156.0</td>\n",
       "      <td>...</td>\n",
       "      <td>0.996236</td>\n",
       "      <td>0.000585</td>\n",
       "      <td>0.000350</td>\n",
       "      <td>1.0</td>\n",
       "      <td>1.0</td>\n",
       "      <td>False</td>\n",
       "      <td>0.0</td>\n",
       "      <td>1.028587</td>\n",
       "      <td>-0.002467</td>\n",
       "      <td>-0.000526</td>\n",
       "    </tr>\n",
       "  </tbody>\n",
       "</table>\n",
       "<p>3 rows × 47 columns</p>\n",
       "</div>"
      ],
      "text/plain": [
       "                          change                 date             last_day  \\\n",
       "000001.XSHE_2013-01-14  1.001718  2013-01-14 00:00:00  2013-01-11 00:00:00   \n",
       "000001.XSHE_2013-01-28  1.011158  2013-01-28 00:00:00  2013-01-25 00:00:00   \n",
       "000001.XSHE_2013-03-05  1.024570  2013-03-05 00:00:00  2013-03-04 00:00:00   \n",
       "\n",
       "                              stock  close0  high0  high_limit0  low0  open0  \\\n",
       "000001.XSHE_2013-01-14  000001.XSHE    5.40   5.48         5.94  5.37   5.40   \n",
       "000001.XSHE_2013-01-28  000001.XSHE    6.62   7.00         7.51  6.57   6.82   \n",
       "000001.XSHE_2013-03-05  000001.XSHE    7.85   7.91         8.61  7.61   7.80   \n",
       "\n",
       "                            volume0      ...        index_minlow  \\\n",
       "000001.XSHE_2013-01-14   70536973.0      ...            0.999280   \n",
       "000001.XSHE_2013-01-28  251913470.0      ...            1.000790   \n",
       "000001.XSHE_2013-03-05  304982156.0      ...            0.996236   \n",
       "\n",
       "                        index_minchange3  index_minchange  recent  \\\n",
       "000001.XSHE_2013-01-14         -0.000464        -0.000109     1.0   \n",
       "000001.XSHE_2013-01-28         -0.000855        -0.000402     1.0   \n",
       "000001.XSHE_2013-03-05          0.000585         0.000350     1.0   \n",
       "\n",
       "                        last_recent     st  isnew  top_change  top_minchange3  \\\n",
       "000001.XSHE_2013-01-14          1.0  False    0.0    1.038424       -0.001085   \n",
       "000001.XSHE_2013-01-28          1.0  False    0.0    1.015714       -0.000432   \n",
       "000001.XSHE_2013-03-05          1.0  False    0.0    1.028587       -0.002467   \n",
       "\n",
       "                        top_minchange  \n",
       "000001.XSHE_2013-01-14       0.000704  \n",
       "000001.XSHE_2013-01-28      -0.000147  \n",
       "000001.XSHE_2013-03-05      -0.000526  \n",
       "\n",
       "[3 rows x 47 columns]"
      ]
     },
     "execution_count": 9,
     "metadata": {},
     "output_type": "execute_result"
    }
   ],
   "source": [
    "data_df.head(3)"
   ]
  },
  {
   "cell_type": "code",
   "execution_count": null,
   "metadata": {
    "collapsed": true
   },
   "outputs": [],
   "source": []
  }
 ],
 "metadata": {
  "kernelspec": {
   "display_name": "Python 2",
   "language": "python",
   "name": "python2"
  },
  "language_info": {
   "codemirror_mode": {
    "name": "ipython",
    "version": 2
   },
   "file_extension": ".py",
   "mimetype": "text/x-python",
   "name": "python",
   "nbconvert_exporter": "python",
   "pygments_lexer": "ipython2",
   "version": "2.7.11"
  }
 },
 "nbformat": 4,
 "nbformat_minor": 0
}
