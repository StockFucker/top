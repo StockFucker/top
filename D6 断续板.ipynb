{
 "cells": [
  {
   "cell_type": "code",
   "execution_count": 1,
   "metadata": {
    "collapsed": false
   },
   "outputs": [],
   "source": [
    "import pandas as pd\n",
    "from utils import *"
   ]
  },
  {
   "cell_type": "code",
   "execution_count": 2,
   "metadata": {
    "collapsed": true
   },
   "outputs": [],
   "source": [
    "data_df = data_df[data_df[\"date\"] > \"2017-06-01\"]"
   ]
  },
  {
   "cell_type": "code",
   "execution_count": 5,
   "metadata": {
    "collapsed": false
   },
   "outputs": [
    {
     "name": "stderr",
     "output_type": "stream",
     "text": [
      "/Users/sgcy/anaconda/lib/python2.7/site-packages/ipykernel/__main__.py:4: UserWarning: Boolean Series key will be reindexed to match DataFrame index.\n"
     ]
    }
   ],
   "source": [
    "valid_df = data_df[data_df[\"volume1\"] / data_df[\"volume0\"] > 1.2]\n",
    "# valid_df = data_df[data_df[\"volume1\"] / data_df[\"volume0\"] < 1.2]\n",
    "# valid_df = valid_df[valid_df[\"volume1\"] / valid_df[\"volume0\"] > 1.2]\n",
    "valid_df = valid_df[~yz0]\n",
    "valid_df = valid_df[valid_df[\"last_recent\"] > 2]\n",
    "valid_df = valid_df[valid_df[\"last_recent\"] < 5]\n",
    "# valid_df = valid_df[(valid_df[\"minute\"] > \"10:10:00\")]\n",
    "valid_df = valid_df[(valid_df[\"minute\"] < \"10:30:00\")]\n",
    "\n",
    "valid_df = valid_df[valid_df[\"high_limit2\"]/valid_df[\"open2\"] > 1.06]\n",
    "# valid_df = valid_df[valid_df[\"high_limit2\"]/valid_df[\"open2\"] < 1.08]\n",
    "# valid_df = valid_df[valid_df[\"high1\"] == valid_df[\"high_limit1\"]]\n",
    "# valid_df = valid_df[valid_df[\"close1\"]/valid_df[\"open1\"] < 0.97]\n",
    "# valid_df = valid_df[valid_df[\"recent_high\"]/valid_df[\"high_limit2\"] > 0.8]\n",
    "# valid_df = valid_df[valid_df[\"recent_high\"]/valid_df[\"high_limit2\"] > 0.9]\n",
    "# valid_df = valid_df[valid_df[\"open1\"]/valid_df[\"close0\"] < 1.08]\n",
    "# valid_df = valid_df[valid_df[\"volume_mean\"]/valid_df[\"volume1\"] < 0.4]\n",
    "# valid_df = valid_df[valid_df[\"volume_mean\"]/valid_df[\"volume0\"] < 0.5]\n",
    "# valid_df = valid_df[valid_df[\"minute_volume\"] / valid_df[\"volume1\"] < 0.6]"
   ]
  },
  {
   "cell_type": "code",
   "execution_count": 4,
   "metadata": {
    "collapsed": false
   },
   "outputs": [
    {
     "name": "stdout",
     "output_type": "stream",
     "text": [
      "Empty DataFrame\n",
      "Columns: [mean, count]\n",
      "Index: []\n",
      "1.0 1 1.06498951782\n"
     ]
    }
   ],
   "source": [
    "valid_df = valid_df.sort_values(\"minute\")\n",
    "valid_df = valid_df.groupby(\"date\").first()\n",
    "result(valid_df)"
   ]
  },
  {
   "cell_type": "code",
   "execution_count": 6,
   "metadata": {
    "collapsed": false
   },
   "outputs": [
    {
     "data": {
      "text/html": [
       "<div>\n",
       "<table border=\"1\" class=\"dataframe\">\n",
       "  <thead>\n",
       "    <tr style=\"text-align: right;\">\n",
       "      <th></th>\n",
       "      <th>change</th>\n",
       "      <th>date</th>\n",
       "      <th>last_day</th>\n",
       "      <th>stock</th>\n",
       "      <th>close0</th>\n",
       "      <th>high0</th>\n",
       "      <th>high_limit0</th>\n",
       "      <th>low0</th>\n",
       "      <th>open0</th>\n",
       "      <th>volume0</th>\n",
       "      <th>...</th>\n",
       "      <th>minute</th>\n",
       "      <th>nearby</th>\n",
       "      <th>wave</th>\n",
       "      <th>vol5</th>\n",
       "      <th>volume_mean</th>\n",
       "      <th>recent_high</th>\n",
       "      <th>volume_high</th>\n",
       "      <th>recent_low</th>\n",
       "      <th>st</th>\n",
       "      <th>isnew</th>\n",
       "    </tr>\n",
       "  </thead>\n",
       "  <tbody>\n",
       "    <tr>\n",
       "      <th>002809.XSHE_2017-06-07</th>\n",
       "      <td>1.06499</td>\n",
       "      <td>2017-06-07 00:00:00</td>\n",
       "      <td>2017-06-06 00:00:00</td>\n",
       "      <td>002809.XSHE</td>\n",
       "      <td>41.11</td>\n",
       "      <td>41.11</td>\n",
       "      <td>41.11</td>\n",
       "      <td>39.24</td>\n",
       "      <td>41.1</td>\n",
       "      <td>7249274.0</td>\n",
       "      <td>...</td>\n",
       "      <td>09:56:00</td>\n",
       "      <td>4.0</td>\n",
       "      <td>1</td>\n",
       "      <td>0.100092</td>\n",
       "      <td>3.633643e+06</td>\n",
       "      <td>61.67</td>\n",
       "      <td>10725370.0</td>\n",
       "      <td>28.3</td>\n",
       "      <td>False</td>\n",
       "      <td>1.0</td>\n",
       "    </tr>\n",
       "  </tbody>\n",
       "</table>\n",
       "<p>1 rows × 46 columns</p>\n",
       "</div>"
      ],
      "text/plain": [
       "                         change                 date             last_day  \\\n",
       "002809.XSHE_2017-06-07  1.06499  2017-06-07 00:00:00  2017-06-06 00:00:00   \n",
       "\n",
       "                              stock  close0  high0  high_limit0   low0  open0  \\\n",
       "002809.XSHE_2017-06-07  002809.XSHE   41.11  41.11        41.11  39.24   41.1   \n",
       "\n",
       "                          volume0  ...      minute  nearby  wave      vol5  \\\n",
       "002809.XSHE_2017-06-07  7249274.0  ...    09:56:00     4.0     1  0.100092   \n",
       "\n",
       "                         volume_mean  recent_high  volume_high  recent_low  \\\n",
       "002809.XSHE_2017-06-07  3.633643e+06        61.67   10725370.0        28.3   \n",
       "\n",
       "                           st  isnew  \n",
       "002809.XSHE_2017-06-07  False    1.0  \n",
       "\n",
       "[1 rows x 46 columns]"
      ]
     },
     "execution_count": 6,
     "metadata": {},
     "output_type": "execute_result"
    }
   ],
   "source": [
    "valid_df"
   ]
  },
  {
   "cell_type": "code",
   "execution_count": 38,
   "metadata": {
    "collapsed": true
   },
   "outputs": [],
   "source": [
    "def get_date(name):\n",
    "    se = valid_df.ix[name]\n",
    "    return se[\"change\"],se[\"volume1\"]/se[\"volume0\"],se[\"minute_volume\"]/se[\"volume1\"],se[\"low2\"]/se[\"close1\"],\\\n",
    "    se[\"open2\"]/se[\"low2\"],se[\"recent\"],se[\"minute\"],se.nearby,se.wave,se.recent_high/se.high_limit2,se.top_count,se[\"volume_high\"]/se[\"volume1\"],se[\"volume_mean\"]/se[\"volume1\"],se[\"open2\"]/se[\"close1\"]"
   ]
  },
  {
   "cell_type": "code",
   "execution_count": 4,
   "metadata": {
    "collapsed": false
   },
   "outputs": [],
   "source": [
    "# indexs = [\"000856.XSHE_2017-04-28\"]\n",
    "# output_df = pd.DataFrame(columns = [\"change\",\"volume1/0\",\"volume2/1\",\"lo2/close1\",\"open2/low2\",\"recent\",\"minute\",\"nearby\",\"wave\",\"recent_high/high2\",\"top_count\",\"recent_volume/volume1\",\"volume_Mean/volume1\",\"open2/close1\"])\n",
    "# for index in indexs:\n",
    "#     output = get_date(index)\n",
    "#     output_df.ix[index] = output\n",
    "# output_df"
   ]
  },
  {
   "cell_type": "code",
   "execution_count": 7,
   "metadata": {
    "collapsed": false
   },
   "outputs": [
    {
     "data": {
      "text/html": [
       "<div>\n",
       "<table border=\"1\" class=\"dataframe\">\n",
       "  <thead>\n",
       "    <tr style=\"text-align: right;\">\n",
       "      <th></th>\n",
       "      <th>change</th>\n",
       "      <th>close0</th>\n",
       "      <th>close1</th>\n",
       "      <th>close2</th>\n",
       "      <th>close3</th>\n",
       "      <th>day0</th>\n",
       "      <th>day1</th>\n",
       "      <th>day2</th>\n",
       "      <th>day3</th>\n",
       "      <th>gap_low</th>\n",
       "      <th>...</th>\n",
       "      <th>vol60</th>\n",
       "      <th>volume0</th>\n",
       "      <th>volume1</th>\n",
       "      <th>volume2</th>\n",
       "      <th>volume3</th>\n",
       "      <th>volume_high</th>\n",
       "      <th>volume_mean</th>\n",
       "      <th>wave</th>\n",
       "      <th>st</th>\n",
       "      <th>isnew</th>\n",
       "    </tr>\n",
       "    <tr>\n",
       "      <th>date</th>\n",
       "      <th></th>\n",
       "      <th></th>\n",
       "      <th></th>\n",
       "      <th></th>\n",
       "      <th></th>\n",
       "      <th></th>\n",
       "      <th></th>\n",
       "      <th></th>\n",
       "      <th></th>\n",
       "      <th></th>\n",
       "      <th></th>\n",
       "      <th></th>\n",
       "      <th></th>\n",
       "      <th></th>\n",
       "      <th></th>\n",
       "      <th></th>\n",
       "      <th></th>\n",
       "      <th></th>\n",
       "      <th></th>\n",
       "      <th></th>\n",
       "      <th></th>\n",
       "    </tr>\n",
       "  </thead>\n",
       "  <tbody>\n",
       "    <tr>\n",
       "      <th>2017-04-13 00:00:00</th>\n",
       "      <td>1.101205</td>\n",
       "      <td>3.86</td>\n",
       "      <td>3.77</td>\n",
       "      <td>4.15</td>\n",
       "      <td>4.21</td>\n",
       "      <td>1254.0</td>\n",
       "      <td>1255.0</td>\n",
       "      <td>1256.0</td>\n",
       "      <td>1257.0</td>\n",
       "      <td>3.17</td>\n",
       "      <td>...</td>\n",
       "      <td>0.100694</td>\n",
       "      <td>618339097.0</td>\n",
       "      <td>1.039914e+09</td>\n",
       "      <td>252297346.0</td>\n",
       "      <td>1.085082e+09</td>\n",
       "      <td>823266143.0</td>\n",
       "      <td>6.574503e+07</td>\n",
       "      <td>1</td>\n",
       "      <td>False</td>\n",
       "      <td>0.0</td>\n",
       "    </tr>\n",
       "    <tr>\n",
       "      <th>2017-06-07 00:00:00</th>\n",
       "      <td>1.064990</td>\n",
       "      <td>41.11</td>\n",
       "      <td>43.36</td>\n",
       "      <td>47.70</td>\n",
       "      <td>49.66</td>\n",
       "      <td>73.0</td>\n",
       "      <td>74.0</td>\n",
       "      <td>75.0</td>\n",
       "      <td>76.0</td>\n",
       "      <td>NaN</td>\n",
       "      <td>...</td>\n",
       "      <td>NaN</td>\n",
       "      <td>7249274.0</td>\n",
       "      <td>1.511965e+07</td>\n",
       "      <td>10756235.0</td>\n",
       "      <td>1.623708e+07</td>\n",
       "      <td>10725370.0</td>\n",
       "      <td>3.633643e+06</td>\n",
       "      <td>1</td>\n",
       "      <td>False</td>\n",
       "      <td>1.0</td>\n",
       "    </tr>\n",
       "  </tbody>\n",
       "</table>\n",
       "<p>2 rows × 50 columns</p>\n",
       "</div>"
      ],
      "text/plain": [
       "                       change  close0  close1  close2  close3    day0    day1  \\\n",
       "date                                                                            \n",
       "2017-04-13 00:00:00  1.101205    3.86    3.77    4.15    4.21  1254.0  1255.0   \n",
       "2017-06-07 00:00:00  1.064990   41.11   43.36   47.70   49.66    73.0    74.0   \n",
       "\n",
       "                       day2    day3  gap_low  ...       vol60      volume0  \\\n",
       "date                                          ...                            \n",
       "2017-04-13 00:00:00  1256.0  1257.0     3.17  ...    0.100694  618339097.0   \n",
       "2017-06-07 00:00:00    75.0    76.0      NaN  ...         NaN    7249274.0   \n",
       "\n",
       "                          volume1      volume2       volume3  volume_high  \\\n",
       "date                                                                        \n",
       "2017-04-13 00:00:00  1.039914e+09  252297346.0  1.085082e+09  823266143.0   \n",
       "2017-06-07 00:00:00  1.511965e+07   10756235.0  1.623708e+07   10725370.0   \n",
       "\n",
       "                      volume_mean  wave     st  isnew  \n",
       "date                                                   \n",
       "2017-04-13 00:00:00  6.574503e+07     1  False    0.0  \n",
       "2017-06-07 00:00:00  3.633643e+06     1  False    1.0  \n",
       "\n",
       "[2 rows x 50 columns]"
      ]
     },
     "execution_count": 7,
     "metadata": {},
     "output_type": "execute_result"
    }
   ],
   "source": [
    "valid_df"
   ]
  },
  {
   "cell_type": "code",
   "execution_count": null,
   "metadata": {
    "collapsed": true
   },
   "outputs": [],
   "source": []
  }
 ],
 "metadata": {
  "kernelspec": {
   "display_name": "Python 2",
   "language": "python",
   "name": "python2"
  },
  "language_info": {
   "codemirror_mode": {
    "name": "ipython",
    "version": 2
   },
   "file_extension": ".py",
   "mimetype": "text/x-python",
   "name": "python",
   "nbconvert_exporter": "python",
   "pygments_lexer": "ipython2",
   "version": "2.7.11"
  }
 },
 "nbformat": 4,
 "nbformat_minor": 0
}
