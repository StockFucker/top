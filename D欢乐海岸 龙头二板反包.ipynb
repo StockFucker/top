{
 "cells": [
  {
   "cell_type": "code",
   "execution_count": 1,
   "metadata": {
    "collapsed": true
   },
   "outputs": [],
   "source": [
    "import pandas as pd\n",
    "from utils import *"
   ]
  },
  {
   "cell_type": "code",
   "execution_count": 27,
   "metadata": {
    "collapsed": false
   },
   "outputs": [],
   "source": [
    "valid_df = data_df\n",
    "# valid_df = valid_df[valid_df[\"volume1\"] / valid_df[\"volume0\"] > 1.2]\n",
    "# valid_df = valid_df[valid_df[\"recent\"] >= 1]\n",
    "valid_df = valid_df[valid_df[\"recent\"] < 5]\n",
    "valid_df = valid_df[valid_df[\"high_limit2\"]/valid_df[\"recent_low\"] > 1.5]\n",
    "# valid_df = valid_df[(valid_df[\"minute\"] < \"10:30:00\")]\n",
    "# valid_df = valid_df[valid_df[\"recent_high\"]/valid_df[\"high_limit2\"] < 1]\n",
    "# valid_df = valid_df[valid_df[\"high1\"]/valid_df[\"high_limit2\"] < 1]\n",
    "# valid_df = valid_df[valid_df[\"high0\"]/valid_df[\"high_limit2\"] < 1]\n",
    "# valid_df = valid_df[valid_df[\"high_limit2\"]/valid_df[\"open2\"] > 1.06]\n",
    "# valid_df = valid_df[valid_df[\"recent_high\"]/valid_df[\"high_limit1\"] > 1]\n",
    "# valid_df = valid_df[valid_df[\"wave\"] >= 1]\n",
    "# valid_df = valid_df[valid_df[\"open1\"]/valid_df[\"close0\"] < 1.08]\n",
    "# valid_df = valid_df[valid_df[\"volume_mean\"]/valid_df[\"volume1\"] < 0.4]\n",
    "# valid_df = valid_df[valid_df[\"volume_mean\"]/valid_df[\"volume0\"] < 0.5]\n",
    "# valid_df = valid_df[valid_df[\"minute_volume\"] / valid_df[\"volume1\"] < 0.6]"
   ]
  },
  {
   "cell_type": "code",
   "execution_count": 28,
   "metadata": {
    "collapsed": true
   },
   "outputs": [],
   "source": [
    "def get_date(name):\n",
    "    se = valid_df.ix[name]\n",
    "    return se[\"change\"],se[\"volume1\"]/se[\"volume0\"],se[\"minute_volume\"]/se[\"volume1\"],se[\"low2\"]/se[\"close1\"],\\\n",
    "    se[\"open2\"]/se[\"low2\"],se[\"recent\"],se[\"minute\"],se.nearby,se.wave,se.recent_high/se.high_limit2,se.top_count,se[\"volume_high\"]/se[\"volume1\"],se[\"volume_mean\"]/se[\"volume1\"],se[\"open2\"]/se[\"close1\"],se[\"high_limit2\"]/se[\"recent_low\"]"
   ]
  },
  {
   "cell_type": "code",
   "execution_count": 29,
   "metadata": {
    "collapsed": false
   },
   "outputs": [
    {
     "data": {
      "text/html": [
       "<div>\n",
       "<table border=\"1\" class=\"dataframe\">\n",
       "  <thead>\n",
       "    <tr style=\"text-align: right;\">\n",
       "      <th></th>\n",
       "      <th>change</th>\n",
       "      <th>volume1/0</th>\n",
       "      <th>volume2/1</th>\n",
       "      <th>lo2/close1</th>\n",
       "      <th>open2/low2</th>\n",
       "      <th>recent</th>\n",
       "      <th>minute</th>\n",
       "      <th>nearby</th>\n",
       "      <th>wave</th>\n",
       "      <th>recent_high/high2</th>\n",
       "      <th>top_count</th>\n",
       "      <th>recent_volume/volume1</th>\n",
       "      <th>volume_Mean/volume1</th>\n",
       "      <th>open2/close1</th>\n",
       "      <th>high2/low</th>\n",
       "    </tr>\n",
       "  </thead>\n",
       "  <tbody>\n",
       "    <tr>\n",
       "      <th>000856.XSHE_2017-04-25</th>\n",
       "      <td>1.044507</td>\n",
       "      <td>1.173814</td>\n",
       "      <td>0.611004</td>\n",
       "      <td>1.001166</td>\n",
       "      <td>1.008925</td>\n",
       "      <td>2.0</td>\n",
       "      <td>09:56:00</td>\n",
       "      <td>7.0</td>\n",
       "      <td>1.0</td>\n",
       "      <td>NaN</td>\n",
       "      <td>1.0</td>\n",
       "      <td>1.223354</td>\n",
       "      <td>0.029595</td>\n",
       "      <td>1.010101</td>\n",
       "      <td>2.156131</td>\n",
       "    </tr>\n",
       "    <tr>\n",
       "      <th>300140.XSHE_2017-05-25</th>\n",
       "      <td>1.053097</td>\n",
       "      <td>0.999005</td>\n",
       "      <td>0.851049</td>\n",
       "      <td>0.959666</td>\n",
       "      <td>1.033816</td>\n",
       "      <td>1.0</td>\n",
       "      <td>13:52:00</td>\n",
       "      <td>2.0</td>\n",
       "      <td>1.0</td>\n",
       "      <td>NaN</td>\n",
       "      <td>0.0</td>\n",
       "      <td>0.957786</td>\n",
       "      <td>0.066848</td>\n",
       "      <td>0.992119</td>\n",
       "      <td>1.782870</td>\n",
       "    </tr>\n",
       "  </tbody>\n",
       "</table>\n",
       "</div>"
      ],
      "text/plain": [
       "                          change  volume1/0  volume2/1  lo2/close1  \\\n",
       "000856.XSHE_2017-04-25  1.044507   1.173814   0.611004    1.001166   \n",
       "300140.XSHE_2017-05-25  1.053097   0.999005   0.851049    0.959666   \n",
       "\n",
       "                        open2/low2  recent    minute  nearby  wave  \\\n",
       "000856.XSHE_2017-04-25    1.008925     2.0  09:56:00     7.0   1.0   \n",
       "300140.XSHE_2017-05-25    1.033816     1.0  13:52:00     2.0   1.0   \n",
       "\n",
       "                        recent_high/high2  top_count  recent_volume/volume1  \\\n",
       "000856.XSHE_2017-04-25                NaN        1.0               1.223354   \n",
       "300140.XSHE_2017-05-25                NaN        0.0               0.957786   \n",
       "\n",
       "                        volume_Mean/volume1  open2/close1  high2/low  \n",
       "000856.XSHE_2017-04-25             0.029595      1.010101   2.156131  \n",
       "300140.XSHE_2017-05-25             0.066848      0.992119   1.782870  "
      ]
     },
     "execution_count": 29,
     "metadata": {},
     "output_type": "execute_result"
    }
   ],
   "source": [
    "indexs = [\"000856.XSHE_2017-04-25\",\"300140.XSHE_2017-05-25\"]\n",
    "output_df = pd.DataFrame(columns = [\"change\",\"volume1/0\",\"volume2/1\",\"lo2/close1\",\"open2/low2\",\"recent\",\"minute\",\"nearby\",\"wave\",\"recent_high/high2\",\"top_count\",\"recent_volume/volume1\",\"volume_Mean/volume1\",\"open2/close1\",\"high2/low\"])\n",
    "for index in indexs:\n",
    "    output = get_date(index)\n",
    "    output_df.ix[index] = output\n",
    "output_df"
   ]
  },
  {
   "cell_type": "code",
   "execution_count": 41,
   "metadata": {
    "collapsed": false
   },
   "outputs": [
    {
     "name": "stdout",
     "output_type": "stream",
     "text": [
      "            mean  count\n",
      "recent                 \n",
      "1.0     1.000402    594\n",
      "2.0     0.990753    442\n",
      "3.0     0.983841     89\n",
      "4.0     1.002211     34\n",
      "0.461604831752 1159 0.995503794926\n"
     ]
    }
   ],
   "source": [
    "valid_df = valid_df.sort_values(\"minute\")\n",
    "valid_df = valid_df.groupby(\"date\").first()\n",
    "result(valid_df)"
   ]
  },
  {
   "cell_type": "code",
   "execution_count": 30,
   "metadata": {
    "collapsed": false
   },
   "outputs": [
    {
     "data": {
      "text/plain": [
       "change                       1.04451\n",
       "date             2017-04-25 00:00:00\n",
       "last_day         2017-04-24 00:00:00\n",
       "stock                    000856.XSHE\n",
       "close0                          23.4\n",
       "high0                          26.11\n",
       "high_limit0                     28.6\n",
       "low0                            23.4\n",
       "open0                          24.87\n",
       "volume0                  5.39854e+07\n",
       "day0                            1265\n",
       "close1                         25.74\n",
       "high1                          25.74\n",
       "high_limit1                    25.74\n",
       "low1                           22.28\n",
       "open1                           23.2\n",
       "volume1                  6.33688e+07\n",
       "day1                            1266\n",
       "close2                         28.31\n",
       "high2                          28.31\n",
       "high_limit2                    28.31\n",
       "low2                           25.77\n",
       "open2                             26\n",
       "volume2                  5.11126e+07\n",
       "day2                            1267\n",
       "close3                         31.14\n",
       "high3                          31.14\n",
       "high_limit3                    31.14\n",
       "low3                           29.57\n",
       "open3                          29.57\n",
       "volume3                  7.59763e+07\n",
       "day3                            1268\n",
       "recent                             2\n",
       "minute_low                      25.8\n",
       "minute_volume            3.87186e+07\n",
       "minute                      09:56:00\n",
       "nearby                             7\n",
       "wave                               1\n",
       "top_count                          1\n",
       "recent_high                      NaN\n",
       "volume_high              7.75225e+07\n",
       "volume_mean              1.87537e+06\n",
       "last_recent                        1\n",
       "recent_low                     13.13\n",
       "st                             False\n",
       "isnew                              0\n",
       "Name: 000856.XSHE_2017-04-25, dtype: object"
      ]
     },
     "execution_count": 30,
     "metadata": {},
     "output_type": "execute_result"
    }
   ],
   "source": [
    "valid_df.ix[\"000856.XSHE_2017-04-25\"]"
   ]
  },
  {
   "cell_type": "code",
   "execution_count": null,
   "metadata": {
    "collapsed": true
   },
   "outputs": [],
   "source": []
  }
 ],
 "metadata": {
  "kernelspec": {
   "display_name": "Python 2",
   "language": "python",
   "name": "python2"
  },
  "language_info": {
   "codemirror_mode": {
    "name": "ipython",
    "version": 2
   },
   "file_extension": ".py",
   "mimetype": "text/x-python",
   "name": "python",
   "nbconvert_exporter": "python",
   "pygments_lexer": "ipython2",
   "version": "2.7.11"
  }
 },
 "nbformat": 4,
 "nbformat_minor": 0
}
