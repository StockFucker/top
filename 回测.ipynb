{
 "cells": [
  {
   "cell_type": "code",
   "execution_count": 1,
   "metadata": {
    "collapsed": false
   },
   "outputs": [],
   "source": [
    "import pandas as pd\n",
    "from utils import *\n",
    "from constant import *"
   ]
  },
  {
   "cell_type": "code",
   "execution_count": 2,
   "metadata": {
    "collapsed": false
   },
   "outputs": [
    {
     "name": "stderr",
     "output_type": "stream",
     "text": [
      "/usr/local/lib/python2.7/site-packages/ipykernel/__main__.py:5: UserWarning: Boolean Series key will be reindexed to match DataFrame index.\n"
     ]
    },
    {
     "name": "stdout",
     "output_type": "stream",
     "text": [
      "~opentop2-small_volume-yz1-2\n",
      "speedup1-speedup2-foot0-~foot2-~isnew-small_capq-small_volume-2\n",
      "~opentop2-~speedup1-~jump1-speedup2-~foot0-foot1-~small_capq-small_volume-2\n",
      "jump1-jump2-~foot0-~foot1-foot2-~small_capq-minute-~opentop1-3\n",
      "~jump1-~foot1-~foot2-~small_capq-small_volume-3\n",
      "~opentop2-jump1-jump2-~foot1-foot2-~small_capq-minute-~opentop1-3\n",
      "~foot1-isnew-4\n",
      "~opentop2-minute-small_volume-~yz1-top1-opentop1-4\n",
      "~speedup1-jump1-~jump2-foot0-~foot1-small_capq-minute-small_volume-4\n",
      "~opentop2-~speedup1-jump1-foot0-~foot1-minute-small_volume-4\n",
      "~speedup1-small_capq-minute-small_volume-~yz1-top1-opentop1-4\n",
      "~speedup1-foot0-minute-small_volume-~yz1-top1-opentop1-4\n",
      "jump1-~speedup2-~foot1-minute-small_volume-yz0-4\n"
     ]
    }
   ],
   "source": [
    "dfs = []\n",
    "for filters in filterss:\n",
    "    for filter_key in filters:\n",
    "        to_filter = getFilter(filter_key,True) & ~yz2\n",
    "        sub_df = data_df[to_filter]\n",
    "        if len(sub_df) > 0:\n",
    "            print filter_key\n",
    "        dfs.append(sub_df)\n",
    "df = pd.concat(dfs)"
   ]
  },
  {
   "cell_type": "code",
   "execution_count": 3,
   "metadata": {
    "collapsed": false
   },
   "outputs": [
    {
     "name": "stdout",
     "output_type": "stream",
     "text": [
      "0.989273124189 0.5\n"
     ]
    }
   ],
   "source": [
    "df = df.sort_values(\"minute\")\n",
    "df = df.groupby(\"date\").first()\n",
    "win_df = df[df[\"change\"] > 1.0]\n",
    "win_ratio = float(len(win_df))/len(df)\n",
    "print df.change.mean(),win_ratio"
   ]
  },
  {
   "cell_type": "code",
   "execution_count": 4,
   "metadata": {
    "collapsed": false
   },
   "outputs": [
    {
     "data": {
      "text/html": [
       "<div>\n",
       "<table border=\"1\" class=\"dataframe\">\n",
       "  <thead>\n",
       "    <tr style=\"text-align: right;\">\n",
       "      <th></th>\n",
       "      <th>change</th>\n",
       "      <th>stock</th>\n",
       "      <th>close0</th>\n",
       "      <th>high0</th>\n",
       "      <th>high_limit0</th>\n",
       "      <th>low0</th>\n",
       "      <th>open0</th>\n",
       "      <th>volume0</th>\n",
       "      <th>day0</th>\n",
       "      <th>close1</th>\n",
       "      <th>...</th>\n",
       "      <th>open3</th>\n",
       "      <th>volume3</th>\n",
       "      <th>day3</th>\n",
       "      <th>recent</th>\n",
       "      <th>minute_low</th>\n",
       "      <th>minute_volume</th>\n",
       "      <th>minute</th>\n",
       "      <th>circap</th>\n",
       "      <th>isnew</th>\n",
       "      <th>capq</th>\n",
       "    </tr>\n",
       "    <tr>\n",
       "      <th>date</th>\n",
       "      <th></th>\n",
       "      <th></th>\n",
       "      <th></th>\n",
       "      <th></th>\n",
       "      <th></th>\n",
       "      <th></th>\n",
       "      <th></th>\n",
       "      <th></th>\n",
       "      <th></th>\n",
       "      <th></th>\n",
       "      <th></th>\n",
       "      <th></th>\n",
       "      <th></th>\n",
       "      <th></th>\n",
       "      <th></th>\n",
       "      <th></th>\n",
       "      <th></th>\n",
       "      <th></th>\n",
       "      <th></th>\n",
       "      <th></th>\n",
       "      <th></th>\n",
       "    </tr>\n",
       "  </thead>\n",
       "  <tbody>\n",
       "    <tr>\n",
       "      <th>2017-05-04 00:00:00</th>\n",
       "      <td>1.022820</td>\n",
       "      <td>603169.XSHG</td>\n",
       "      <td>10.14</td>\n",
       "      <td>10.23</td>\n",
       "      <td>11.53</td>\n",
       "      <td>9.95</td>\n",
       "      <td>10.23</td>\n",
       "      <td>8844761.0</td>\n",
       "      <td>0.0</td>\n",
       "      <td>11.15</td>\n",
       "      <td>...</td>\n",
       "      <td>12.55</td>\n",
       "      <td>44820020.0</td>\n",
       "      <td>3.0</td>\n",
       "      <td>2.0</td>\n",
       "      <td>12.08</td>\n",
       "      <td>0.0</td>\n",
       "      <td>09:30:00</td>\n",
       "      <td>1760.0</td>\n",
       "      <td>False</td>\n",
       "      <td>0.532849</td>\n",
       "    </tr>\n",
       "    <tr>\n",
       "      <th>2017-05-05 00:00:00</th>\n",
       "      <td>1.039953</td>\n",
       "      <td>600629.XSHG</td>\n",
       "      <td>21.10</td>\n",
       "      <td>21.30</td>\n",
       "      <td>23.40</td>\n",
       "      <td>20.72</td>\n",
       "      <td>21.01</td>\n",
       "      <td>8244148.0</td>\n",
       "      <td>1.0</td>\n",
       "      <td>23.21</td>\n",
       "      <td>...</td>\n",
       "      <td>26.55</td>\n",
       "      <td>31979454.0</td>\n",
       "      <td>4.0</td>\n",
       "      <td>2.0</td>\n",
       "      <td>23.91</td>\n",
       "      <td>4533700.0</td>\n",
       "      <td>09:32:00</td>\n",
       "      <td>2355.5</td>\n",
       "      <td>False</td>\n",
       "      <td>0.713140</td>\n",
       "    </tr>\n",
       "    <tr>\n",
       "      <th>2017-05-15 00:00:00</th>\n",
       "      <td>0.969032</td>\n",
       "      <td>002379.XSHE</td>\n",
       "      <td>7.03</td>\n",
       "      <td>7.40</td>\n",
       "      <td>7.77</td>\n",
       "      <td>7.03</td>\n",
       "      <td>7.05</td>\n",
       "      <td>32358186.0</td>\n",
       "      <td>7.0</td>\n",
       "      <td>7.38</td>\n",
       "      <td>...</td>\n",
       "      <td>7.51</td>\n",
       "      <td>22549404.0</td>\n",
       "      <td>10.0</td>\n",
       "      <td>2.0</td>\n",
       "      <td>7.56</td>\n",
       "      <td>4270600.0</td>\n",
       "      <td>09:37:00</td>\n",
       "      <td>1503.0</td>\n",
       "      <td>False</td>\n",
       "      <td>0.455041</td>\n",
       "    </tr>\n",
       "    <tr>\n",
       "      <th>2017-05-17 00:00:00</th>\n",
       "      <td>0.925287</td>\n",
       "      <td>600401.XSHG</td>\n",
       "      <td>1.58</td>\n",
       "      <td>1.58</td>\n",
       "      <td>1.58</td>\n",
       "      <td>1.49</td>\n",
       "      <td>1.50</td>\n",
       "      <td>115771436.0</td>\n",
       "      <td>8.0</td>\n",
       "      <td>1.66</td>\n",
       "      <td>...</td>\n",
       "      <td>1.61</td>\n",
       "      <td>79471748.0</td>\n",
       "      <td>11.0</td>\n",
       "      <td>3.0</td>\n",
       "      <td>1.70</td>\n",
       "      <td>20639800.0</td>\n",
       "      <td>09:33:00</td>\n",
       "      <td>2244.5</td>\n",
       "      <td>False</td>\n",
       "      <td>0.679534</td>\n",
       "    </tr>\n",
       "  </tbody>\n",
       "</table>\n",
       "<p>4 rows × 37 columns</p>\n",
       "</div>"
      ],
      "text/plain": [
       "                       change        stock  close0  high0  high_limit0   low0  \\\n",
       "date                                                                            \n",
       "2017-05-04 00:00:00  1.022820  603169.XSHG   10.14  10.23        11.53   9.95   \n",
       "2017-05-05 00:00:00  1.039953  600629.XSHG   21.10  21.30        23.40  20.72   \n",
       "2017-05-15 00:00:00  0.969032  002379.XSHE    7.03   7.40         7.77   7.03   \n",
       "2017-05-17 00:00:00  0.925287  600401.XSHG    1.58   1.58         1.58   1.49   \n",
       "\n",
       "                     open0      volume0  day0  close1    ...     open3  \\\n",
       "date                                                     ...             \n",
       "2017-05-04 00:00:00  10.23    8844761.0   0.0   11.15    ...     12.55   \n",
       "2017-05-05 00:00:00  21.01    8244148.0   1.0   23.21    ...     26.55   \n",
       "2017-05-15 00:00:00   7.05   32358186.0   7.0    7.38    ...      7.51   \n",
       "2017-05-17 00:00:00   1.50  115771436.0   8.0    1.66    ...      1.61   \n",
       "\n",
       "                        volume3  day3  recent  minute_low  minute_volume  \\\n",
       "date                                                                       \n",
       "2017-05-04 00:00:00  44820020.0   3.0     2.0       12.08            0.0   \n",
       "2017-05-05 00:00:00  31979454.0   4.0     2.0       23.91      4533700.0   \n",
       "2017-05-15 00:00:00  22549404.0  10.0     2.0        7.56      4270600.0   \n",
       "2017-05-17 00:00:00  79471748.0  11.0     3.0        1.70     20639800.0   \n",
       "\n",
       "                       minute  circap  isnew      capq  \n",
       "date                                                    \n",
       "2017-05-04 00:00:00  09:30:00  1760.0  False  0.532849  \n",
       "2017-05-05 00:00:00  09:32:00  2355.5  False  0.713140  \n",
       "2017-05-15 00:00:00  09:37:00  1503.0  False  0.455041  \n",
       "2017-05-17 00:00:00  09:33:00  2244.5  False  0.679534  \n",
       "\n",
       "[4 rows x 37 columns]"
      ]
     },
     "execution_count": 4,
     "metadata": {},
     "output_type": "execute_result"
    }
   ],
   "source": [
    "df"
   ]
  },
  {
   "cell_type": "code",
   "execution_count": 5,
   "metadata": {
    "collapsed": false
   },
   "outputs": [
    {
     "data": {
      "text/plain": [
       "date\n",
       "2017-05-04 00:00:00    1.022820\n",
       "2017-05-05 00:00:00    1.063685\n",
       "2017-05-15 00:00:00    1.030745\n",
       "2017-05-17 00:00:00    0.953735\n",
       "Name: change, dtype: float64"
      ]
     },
     "execution_count": 5,
     "metadata": {},
     "output_type": "execute_result"
    }
   ],
   "source": [
    "df.change.cumprod()"
   ]
  },
  {
   "cell_type": "code",
   "execution_count": null,
   "metadata": {
    "collapsed": true
   },
   "outputs": [],
   "source": []
  }
 ],
 "metadata": {
  "kernelspec": {
   "display_name": "Python 2",
   "language": "python",
   "name": "python2"
  },
  "language_info": {
   "codemirror_mode": {
    "name": "ipython",
    "version": 2
   },
   "file_extension": ".py",
   "mimetype": "text/x-python",
   "name": "python",
   "nbconvert_exporter": "python",
   "pygments_lexer": "ipython2",
   "version": "2.7.11"
  }
 },
 "nbformat": 4,
 "nbformat_minor": 0
}
