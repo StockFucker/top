{
 "cells": [
  {
   "cell_type": "code",
   "execution_count": 1,
   "metadata": {
    "collapsed": true
   },
   "outputs": [],
   "source": [
    "import pandas as pd\n",
    "from utils import *\n",
    "from constant import *"
   ]
  },
  {
   "cell_type": "markdown",
   "metadata": {},
   "source": [
    "# 断续"
   ]
  },
  {
   "cell_type": "code",
   "execution_count": 44,
   "metadata": {
    "collapsed": false
   },
   "outputs": [
    {
     "name": "stderr",
     "output_type": "stream",
     "text": [
      "/Users/sgcy/anaconda/lib/python2.7/site-packages/ipykernel/__main__.py:3: UserWarning: Boolean Series key will be reindexed to match DataFrame index.\n",
      "  app.launch_new_instance()\n"
     ]
    }
   ],
   "source": [
    "valid_df = data_df\n",
    "valid_df = valid_df[valid_df[\"volume1\"] / valid_df[\"volume0\"] > 1.2]\n",
    "valid_df = valid_df[~yz0]\n",
    "valid_df = valid_df[valid_df[\"last_recent\"] > 2]\n",
    "valid_df = valid_df[(valid_df[\"minute\"] > \"10:30:00\")]"
   ]
  },
  {
   "cell_type": "code",
   "execution_count": null,
   "metadata": {
    "collapsed": true
   },
   "outputs": [],
   "source": []
  },
  {
   "cell_type": "markdown",
   "metadata": {},
   "source": [
    "# 分歧一致"
   ]
  },
  {
   "cell_type": "code",
   "execution_count": 47,
   "metadata": {
    "collapsed": false
   },
   "outputs": [
    {
     "name": "stderr",
     "output_type": "stream",
     "text": [
      "/Users/sgcy/anaconda/lib/python2.7/site-packages/ipykernel/__main__.py:2: UserWarning: Boolean Series key will be reindexed to match DataFrame index.\n",
      "  from ipykernel import kernelapp as app\n"
     ]
    }
   ],
   "source": [
    "valid_df = data_df[data_df[\"volume1\"] / data_df[\"volume0\"] > 1.2]\n",
    "valid_df = valid_df[yz0 & opentop1 & ~yz1 & top1 & ~opentop2]\n",
    "valid_df = valid_df[(valid_df[\"minute\"] > \"10:30:00\")]"
   ]
  },
  {
   "cell_type": "code",
   "execution_count": 50,
   "metadata": {
    "collapsed": false
   },
   "outputs": [
    {
     "name": "stdout",
     "output_type": "stream",
     "text": [
      "Empty DataFrame\n",
      "Columns: [mean, count]\n",
      "Index: []\n",
      "0.333333333333 3 0.980600594776\n"
     ]
    }
   ],
   "source": [
    "valid_df = valid_df.sort_values(\"minute\")\n",
    "valid_df = valid_df.groupby(\"date\").first()\n",
    "result(valid_df)"
   ]
  },
  {
   "cell_type": "code",
   "execution_count": 49,
   "metadata": {
    "collapsed": false
   },
   "outputs": [
    {
     "data": {
      "text/html": [
       "<div>\n",
       "<table border=\"1\" class=\"dataframe\">\n",
       "  <thead>\n",
       "    <tr style=\"text-align: right;\">\n",
       "      <th></th>\n",
       "      <th>change</th>\n",
       "      <th>date</th>\n",
       "      <th>last_day</th>\n",
       "      <th>stock</th>\n",
       "      <th>close0</th>\n",
       "      <th>high0</th>\n",
       "      <th>high_limit0</th>\n",
       "      <th>low0</th>\n",
       "      <th>open0</th>\n",
       "      <th>volume0</th>\n",
       "      <th>...</th>\n",
       "      <th>nearby</th>\n",
       "      <th>wave</th>\n",
       "      <th>top_count</th>\n",
       "      <th>vol5</th>\n",
       "      <th>volume_mean</th>\n",
       "      <th>recent_high</th>\n",
       "      <th>volume_high</th>\n",
       "      <th>recent_low</th>\n",
       "      <th>st</th>\n",
       "      <th>isnew</th>\n",
       "    </tr>\n",
       "  </thead>\n",
       "  <tbody>\n",
       "    <tr>\n",
       "      <th>000916.XSHE_2017-07-05</th>\n",
       "      <td>1.046512</td>\n",
       "      <td>2017-07-05 00:00:00</td>\n",
       "      <td>2017-07-04 00:00:00</td>\n",
       "      <td>000916.XSHE</td>\n",
       "      <td>7.11</td>\n",
       "      <td>7.11</td>\n",
       "      <td>7.11</td>\n",
       "      <td>7.11</td>\n",
       "      <td>7.11</td>\n",
       "      <td>6433502.0</td>\n",
       "      <td>...</td>\n",
       "      <td>NaN</td>\n",
       "      <td>0</td>\n",
       "      <td>1</td>\n",
       "      <td>0.100619</td>\n",
       "      <td>6.971244e+06</td>\n",
       "      <td>6.46</td>\n",
       "      <td>29323803.0</td>\n",
       "      <td>3.83</td>\n",
       "      <td>False</td>\n",
       "      <td>False</td>\n",
       "    </tr>\n",
       "    <tr>\n",
       "      <th>603200.XSHG_2017-06-13</th>\n",
       "      <td>0.899178</td>\n",
       "      <td>2017-06-13 00:00:00</td>\n",
       "      <td>2017-06-12 00:00:00</td>\n",
       "      <td>603200.XSHG</td>\n",
       "      <td>44.26</td>\n",
       "      <td>44.26</td>\n",
       "      <td>44.26</td>\n",
       "      <td>44.26</td>\n",
       "      <td>44.26</td>\n",
       "      <td>98404.0</td>\n",
       "      <td>...</td>\n",
       "      <td>NaN</td>\n",
       "      <td>0</td>\n",
       "      <td>1</td>\n",
       "      <td>0.100150</td>\n",
       "      <td>NaN</td>\n",
       "      <td>40.24</td>\n",
       "      <td>51200.0</td>\n",
       "      <td>24.98</td>\n",
       "      <td>False</td>\n",
       "      <td>True</td>\n",
       "    </tr>\n",
       "    <tr>\n",
       "      <th>603776.XSHG_2017-08-31</th>\n",
       "      <td>0.996112</td>\n",
       "      <td>2017-08-31 00:00:00</td>\n",
       "      <td>2017-08-30 00:00:00</td>\n",
       "      <td>603776.XSHG</td>\n",
       "      <td>82.89</td>\n",
       "      <td>82.89</td>\n",
       "      <td>82.89</td>\n",
       "      <td>82.89</td>\n",
       "      <td>82.89</td>\n",
       "      <td>178028.0</td>\n",
       "      <td>...</td>\n",
       "      <td>NaN</td>\n",
       "      <td>0</td>\n",
       "      <td>1</td>\n",
       "      <td>0.100066</td>\n",
       "      <td>NaN</td>\n",
       "      <td>75.35</td>\n",
       "      <td>328709.0</td>\n",
       "      <td>32.22</td>\n",
       "      <td>False</td>\n",
       "      <td>True</td>\n",
       "    </tr>\n",
       "  </tbody>\n",
       "</table>\n",
       "<p>3 rows × 47 columns</p>\n",
       "</div>"
      ],
      "text/plain": [
       "                          change                 date             last_day  \\\n",
       "000916.XSHE_2017-07-05  1.046512  2017-07-05 00:00:00  2017-07-04 00:00:00   \n",
       "603200.XSHG_2017-06-13  0.899178  2017-06-13 00:00:00  2017-06-12 00:00:00   \n",
       "603776.XSHG_2017-08-31  0.996112  2017-08-31 00:00:00  2017-08-30 00:00:00   \n",
       "\n",
       "                              stock  close0  high0  high_limit0   low0  open0  \\\n",
       "000916.XSHE_2017-07-05  000916.XSHE    7.11   7.11         7.11   7.11   7.11   \n",
       "603200.XSHG_2017-06-13  603200.XSHG   44.26  44.26        44.26  44.26  44.26   \n",
       "603776.XSHG_2017-08-31  603776.XSHG   82.89  82.89        82.89  82.89  82.89   \n",
       "\n",
       "                          volume0  ...    nearby  wave  top_count      vol5  \\\n",
       "000916.XSHE_2017-07-05  6433502.0  ...       NaN     0          1  0.100619   \n",
       "603200.XSHG_2017-06-13    98404.0  ...       NaN     0          1  0.100150   \n",
       "603776.XSHG_2017-08-31   178028.0  ...       NaN     0          1  0.100066   \n",
       "\n",
       "                         volume_mean  recent_high  volume_high  recent_low  \\\n",
       "000916.XSHE_2017-07-05  6.971244e+06         6.46   29323803.0        3.83   \n",
       "603200.XSHG_2017-06-13           NaN        40.24      51200.0       24.98   \n",
       "603776.XSHG_2017-08-31           NaN        75.35     328709.0       32.22   \n",
       "\n",
       "                           st  isnew  \n",
       "000916.XSHE_2017-07-05  False  False  \n",
       "603200.XSHG_2017-06-13  False   True  \n",
       "603776.XSHG_2017-08-31  False   True  \n",
       "\n",
       "[3 rows x 47 columns]"
      ]
     },
     "execution_count": 49,
     "metadata": {},
     "output_type": "execute_result"
    }
   ],
   "source": [
    "valid_df"
   ]
  },
  {
   "cell_type": "code",
   "execution_count": 48,
   "metadata": {
    "collapsed": false
   },
   "outputs": [],
   "source": [
    "valid_df = valid_df[valid_df.index.isin(df.index) == False]"
   ]
  },
  {
   "cell_type": "markdown",
   "metadata": {},
   "source": [
    "# 拟合出的因子"
   ]
  },
  {
   "cell_type": "code",
   "execution_count": 19,
   "metadata": {
    "collapsed": false
   },
   "outputs": [
    {
     "name": "stderr",
     "output_type": "stream",
     "text": [
      "/Users/sgcy/anaconda/lib/python2.7/site-packages/ipykernel/__main__.py:5: UserWarning: Boolean Series key will be reindexed to match DataFrame index.\n",
      "/Users/sgcy/anaconda/lib/python2.7/site-packages/ipykernel/__main__.py:10: SettingWithCopyWarning: \n",
      "A value is trying to be set on a copy of a slice from a DataFrame.\n",
      "Try using .loc[row_indexer,col_indexer] = value instead\n",
      "\n",
      "See the caveats in the documentation: http://pandas.pydata.org/pandas-docs/stable/indexing.html#indexing-view-versus-copy\n"
     ]
    },
    {
     "name": "stdout",
     "output_type": "stream",
     "text": [
      "small_volume2-yz0-~yz1-top1-opentop1 1.07984389812 1.0 2\n",
      "----\n",
      "jump2-~foot1-small_volume2-yz0-~opentop1-top1 1.08937153029 1.0 3\n",
      "----\n",
      "foot2-small_volume3-yz0-~opentop1-top1 0.977390075726 0.5 2\n",
      "----\n",
      "~foot1-speedup2-jump1-jump2-small_volume-yz0 1.04740354923 0.666666666667 3\n",
      "----\n",
      "~opentop2-jump1-jump2-small_volume-yz0 1.01680115994 0.6 5\n",
      "----\n",
      "~opentop2-~speedup1-small_volume-top1-opentop1 1.07984389812 1.0 2\n",
      "----\n",
      "~speedup1-~jump1-speedup2-~jump2-foot2-small_volume-top0 1.00247011492 0.666666666667 3\n",
      "----\n",
      "~speedup1-~jump1-jump2-~foot2-small_volume-top0-reachtop1-~isnew-~opentop2 0.988372093023 0.0 1\n",
      "----\n",
      "~speedup1-~speedup2-jump2-~foot1-~isnew-small_volume-top0-~opentop1-reachtop1 1.05708245243 1.0 1\n",
      "----\n"
     ]
    }
   ],
   "source": [
    "dfs = []\n",
    "for filters in filterss:\n",
    "    for filter_key in filters:\n",
    "        to_filter = getFilter(filter_key) & ~yz2\n",
    "        sub_df = data_df[to_filter]\n",
    "        if len(sub_df) > 0:\n",
    "            mean = sub_df.change.mean()\n",
    "            win_df = sub_df[sub_df[\"change\"] > 1.0]\n",
    "            win_ratio = float(len(win_df))/len(sub_df)\n",
    "            sub_df[\"filter\"] = filter_key\n",
    "            print filter_key,mean,win_ratio,len(sub_df)\n",
    "#             print sub_df\n",
    "            print \"----\"\n",
    "            dfs.append(sub_df)\n",
    "df = pd.concat(dfs)"
   ]
  },
  {
   "cell_type": "code",
   "execution_count": 3,
   "metadata": {
    "collapsed": false
   },
   "outputs": [
    {
     "name": "stdout",
     "output_type": "stream",
     "text": [
      "1.02636613928 0.615384615385\n"
     ]
    }
   ],
   "source": [
    "df = df[~df.index.duplicated()] \n",
    "df = df.sort_values(\"minute\")\n",
    "df = df.groupby(\"date\").first()\n",
    "win_df = df[df[\"change\"] > 1.0]\n",
    "win_ratio = float(len(win_df))/len(df)\n",
    "print df.change.mean(),win_ratio"
   ]
  },
  {
   "cell_type": "code",
   "execution_count": 24,
   "metadata": {
    "collapsed": false
   },
   "outputs": [
    {
     "data": {
      "text/html": [
       "<div>\n",
       "<table border=\"1\" class=\"dataframe\">\n",
       "  <thead>\n",
       "    <tr style=\"text-align: right;\">\n",
       "      <th></th>\n",
       "      <th>change</th>\n",
       "      <th>date</th>\n",
       "      <th>last_day</th>\n",
       "      <th>stock</th>\n",
       "      <th>close0</th>\n",
       "      <th>high0</th>\n",
       "      <th>high_limit0</th>\n",
       "      <th>low0</th>\n",
       "      <th>open0</th>\n",
       "      <th>volume0</th>\n",
       "      <th>...</th>\n",
       "      <th>wave</th>\n",
       "      <th>top_count</th>\n",
       "      <th>vol5</th>\n",
       "      <th>volume_mean</th>\n",
       "      <th>recent_high</th>\n",
       "      <th>volume_high</th>\n",
       "      <th>recent_low</th>\n",
       "      <th>st</th>\n",
       "      <th>isnew</th>\n",
       "      <th>filter</th>\n",
       "    </tr>\n",
       "  </thead>\n",
       "  <tbody>\n",
       "    <tr>\n",
       "      <th>002600.XSHE_2017-08-15</th>\n",
       "      <td>1.060044</td>\n",
       "      <td>2017-08-15 00:00:00</td>\n",
       "      <td>2017-08-14 00:00:00</td>\n",
       "      <td>002600.XSHE</td>\n",
       "      <td>7.57</td>\n",
       "      <td>7.57</td>\n",
       "      <td>7.57</td>\n",
       "      <td>7.57</td>\n",
       "      <td>7.57</td>\n",
       "      <td>6788526.0</td>\n",
       "      <td>...</td>\n",
       "      <td>0</td>\n",
       "      <td>1</td>\n",
       "      <td>0.100800</td>\n",
       "      <td>3.947593e+07</td>\n",
       "      <td>6.88</td>\n",
       "      <td>122896765.0</td>\n",
       "      <td>4.50</td>\n",
       "      <td>False</td>\n",
       "      <td>False</td>\n",
       "      <td>small_volume2-yz0-~yz1-top1-opentop1</td>\n",
       "    </tr>\n",
       "    <tr>\n",
       "      <th>300198.XSHE_2017-09-06</th>\n",
       "      <td>1.099644</td>\n",
       "      <td>2017-09-06 00:00:00</td>\n",
       "      <td>2017-09-05 00:00:00</td>\n",
       "      <td>300198.XSHE</td>\n",
       "      <td>6.96</td>\n",
       "      <td>6.96</td>\n",
       "      <td>6.96</td>\n",
       "      <td>6.96</td>\n",
       "      <td>6.96</td>\n",
       "      <td>1162500.0</td>\n",
       "      <td>...</td>\n",
       "      <td>0</td>\n",
       "      <td>1</td>\n",
       "      <td>0.100870</td>\n",
       "      <td>1.449597e+07</td>\n",
       "      <td>7.79</td>\n",
       "      <td>57085568.0</td>\n",
       "      <td>5.61</td>\n",
       "      <td>False</td>\n",
       "      <td>False</td>\n",
       "      <td>small_volume2-yz0-~yz1-top1-opentop1</td>\n",
       "    </tr>\n",
       "    <tr>\n",
       "      <th>002761.XSHE_2017-06-20</th>\n",
       "      <td>1.017061</td>\n",
       "      <td>2017-06-20 00:00:00</td>\n",
       "      <td>2017-06-19 00:00:00</td>\n",
       "      <td>002761.XSHE</td>\n",
       "      <td>30.03</td>\n",
       "      <td>30.03</td>\n",
       "      <td>30.03</td>\n",
       "      <td>30.03</td>\n",
       "      <td>30.03</td>\n",
       "      <td>713403.0</td>\n",
       "      <td>...</td>\n",
       "      <td>0</td>\n",
       "      <td>3</td>\n",
       "      <td>0.100233</td>\n",
       "      <td>1.469499e+06</td>\n",
       "      <td>64.94</td>\n",
       "      <td>9689654.0</td>\n",
       "      <td>27.30</td>\n",
       "      <td>False</td>\n",
       "      <td>False</td>\n",
       "      <td>jump2-~foot1-small_volume2-yz0-~opentop1-top1</td>\n",
       "    </tr>\n",
       "  </tbody>\n",
       "</table>\n",
       "<p>3 rows × 48 columns</p>\n",
       "</div>"
      ],
      "text/plain": [
       "                          change                 date             last_day  \\\n",
       "002600.XSHE_2017-08-15  1.060044  2017-08-15 00:00:00  2017-08-14 00:00:00   \n",
       "300198.XSHE_2017-09-06  1.099644  2017-09-06 00:00:00  2017-09-05 00:00:00   \n",
       "002761.XSHE_2017-06-20  1.017061  2017-06-20 00:00:00  2017-06-19 00:00:00   \n",
       "\n",
       "                              stock  close0  high0  high_limit0   low0  open0  \\\n",
       "002600.XSHE_2017-08-15  002600.XSHE    7.57   7.57         7.57   7.57   7.57   \n",
       "300198.XSHE_2017-09-06  300198.XSHE    6.96   6.96         6.96   6.96   6.96   \n",
       "002761.XSHE_2017-06-20  002761.XSHE   30.03  30.03        30.03  30.03  30.03   \n",
       "\n",
       "                          volume0  \\\n",
       "002600.XSHE_2017-08-15  6788526.0   \n",
       "300198.XSHE_2017-09-06  1162500.0   \n",
       "002761.XSHE_2017-06-20   713403.0   \n",
       "\n",
       "                                            ...                        wave  \\\n",
       "002600.XSHE_2017-08-15                      ...                           0   \n",
       "300198.XSHE_2017-09-06                      ...                           0   \n",
       "002761.XSHE_2017-06-20                      ...                           0   \n",
       "\n",
       "                        top_count      vol5   volume_mean  recent_high  \\\n",
       "002600.XSHE_2017-08-15          1  0.100800  3.947593e+07         6.88   \n",
       "300198.XSHE_2017-09-06          1  0.100870  1.449597e+07         7.79   \n",
       "002761.XSHE_2017-06-20          3  0.100233  1.469499e+06        64.94   \n",
       "\n",
       "                        volume_high  recent_low     st  isnew  \\\n",
       "002600.XSHE_2017-08-15  122896765.0        4.50  False  False   \n",
       "300198.XSHE_2017-09-06   57085568.0        5.61  False  False   \n",
       "002761.XSHE_2017-06-20    9689654.0       27.30  False  False   \n",
       "\n",
       "                                                               filter  \n",
       "002600.XSHE_2017-08-15           small_volume2-yz0-~yz1-top1-opentop1  \n",
       "300198.XSHE_2017-09-06           small_volume2-yz0-~yz1-top1-opentop1  \n",
       "002761.XSHE_2017-06-20  jump2-~foot1-small_volume2-yz0-~opentop1-top1  \n",
       "\n",
       "[3 rows x 48 columns]"
      ]
     },
     "execution_count": 24,
     "metadata": {},
     "output_type": "execute_result"
    }
   ],
   "source": [
    "df.head(3)"
   ]
  },
  {
   "cell_type": "code",
   "execution_count": null,
   "metadata": {
    "collapsed": true
   },
   "outputs": [],
   "source": []
  }
 ],
 "metadata": {
  "kernelspec": {
   "display_name": "Python 2",
   "language": "python",
   "name": "python2"
  },
  "language_info": {
   "codemirror_mode": {
    "name": "ipython",
    "version": 2
   },
   "file_extension": ".py",
   "mimetype": "text/x-python",
   "name": "python",
   "nbconvert_exporter": "python",
   "pygments_lexer": "ipython2",
   "version": "2.7.11"
  }
 },
 "nbformat": 4,
 "nbformat_minor": 0
}
