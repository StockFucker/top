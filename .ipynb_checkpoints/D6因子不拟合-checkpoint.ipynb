{
 "cells": [
  {
   "cell_type": "code",
   "execution_count": 1,
   "metadata": {
    "collapsed": true
   },
   "outputs": [],
   "source": [
    "import pandas as pd\n",
    "from utils import *\n",
    "from constant import *"
   ]
  },
  {
   "cell_type": "code",
   "execution_count": 6,
   "metadata": {
    "collapsed": false
   },
   "outputs": [
    {
     "name": "stderr",
     "output_type": "stream",
     "text": [
      "/Users/sgcy/anaconda/lib/python2.7/site-packages/ipykernel/__main__.py:3: UserWarning: Boolean Series key will be reindexed to match DataFrame index.\n",
      "  app.launch_new_instance()\n"
     ]
    }
   ],
   "source": [
    "valid_df = data_df\n",
    "valid_df = valid_df[valid_df[\"volume1\"] / valid_df[\"volume0\"] > 1.2]\n",
    "valid_df = valid_df[~yz0]\n",
    "valid_df = valid_df[valid_df[\"last_recent\"] > 2]\n",
    "valid_df = valid_df[(valid_df[\"minute\"] < \"10:30:00\")]"
   ]
  },
  {
   "cell_type": "code",
   "execution_count": 7,
   "metadata": {
    "collapsed": false
   },
   "outputs": [
    {
     "name": "stdout",
     "output_type": "stream",
     "text": [
      "            mean  count\n",
      "recent                 \n",
      "1.0     0.992402      6\n",
      "0.5 10 1.0070494994\n"
     ]
    }
   ],
   "source": [
    "valid_df = valid_df.sort_values(\"minute\")\n",
    "valid_df = valid_df.groupby(\"date\").first()\n",
    "result(valid_df)"
   ]
  },
  {
   "cell_type": "code",
   "execution_count": null,
   "metadata": {
    "collapsed": true
   },
   "outputs": [],
   "source": []
  },
  {
   "cell_type": "code",
   "execution_count": null,
   "metadata": {
    "collapsed": true
   },
   "outputs": [],
   "source": []
  },
  {
   "cell_type": "markdown",
   "metadata": {},
   "source": [
    "# 拟合出的因子"
   ]
  },
  {
   "cell_type": "code",
   "execution_count": 2,
   "metadata": {
    "collapsed": false
   },
   "outputs": [
    {
     "name": "stderr",
     "output_type": "stream",
     "text": [
      "/Users/sgcy/anaconda/lib/python2.7/site-packages/ipykernel/__main__.py:5: UserWarning: Boolean Series key will be reindexed to match DataFrame index.\n",
      "/Users/sgcy/anaconda/lib/python2.7/site-packages/ipykernel/__main__.py:10: SettingWithCopyWarning: \n",
      "A value is trying to be set on a copy of a slice from a DataFrame.\n",
      "Try using .loc[row_indexer,col_indexer] = value instead\n",
      "\n",
      "See the caveats in the documentation: http://pandas.pydata.org/pandas-docs/stable/indexing.html#indexing-view-versus-copy\n"
     ]
    },
    {
     "name": "stdout",
     "output_type": "stream",
     "text": [
      "small_volume2-yz0-~yz1-top1-opentop1 1.07984389812 1.0 2\n",
      "----\n",
      "jump2-~foot1-small_volume2-yz0-~opentop1-top1 1.08937153029 1.0 3\n",
      "----\n",
      "foot2-small_volume3-yz0-~opentop1-top1 0.977390075726 0.5 2\n",
      "----\n",
      "~foot1-speedup2-jump1-jump2-small_volume-yz0 1.04740354923 0.666666666667 3\n",
      "----\n",
      "~opentop2-jump1-jump2-small_volume-yz0 1.01680115994 0.6 5\n",
      "----\n",
      "~opentop2-~speedup1-small_volume-top1-opentop1 1.07984389812 1.0 2\n",
      "----\n",
      "~speedup1-~jump1-speedup2-~jump2-foot2-small_volume-top0 1.00247011492 0.666666666667 3\n",
      "----\n",
      "~speedup1-~jump1-jump2-~foot2-small_volume-top0-reachtop1-~isnew-~opentop2 0.988372093023 0.0 1\n",
      "----\n",
      "~speedup1-~speedup2-jump2-~foot1-~isnew-small_volume-top0-~opentop1-reachtop1 1.05708245243 1.0 1\n",
      "----\n"
     ]
    }
   ],
   "source": [
    "dfs = []\n",
    "for filters in filterss:\n",
    "    for filter_key in filters:\n",
    "        to_filter = getFilter(filter_key) & ~yz2\n",
    "        sub_df = data_df[to_filter]\n",
    "        if len(sub_df) > 0:\n",
    "            mean = sub_df.change.mean()\n",
    "            win_df = sub_df[sub_df[\"change\"] > 1.0]\n",
    "            win_ratio = float(len(win_df))/len(sub_df)\n",
    "            sub_df[\"filter\"] = filter_key\n",
    "            print filter_key,mean,win_ratio,len(sub_df)\n",
    "#             print sub_df\n",
    "            print \"----\"\n",
    "            dfs.append(sub_df)\n",
    "df = pd.concat(dfs)"
   ]
  },
  {
   "cell_type": "code",
   "execution_count": 3,
   "metadata": {
    "collapsed": false
   },
   "outputs": [
    {
     "name": "stdout",
     "output_type": "stream",
     "text": [
      "1.02636613928 0.615384615385\n"
     ]
    }
   ],
   "source": [
    "df = df[~df.index.duplicated()] \n",
    "df = df.sort_values(\"minute\")\n",
    "df = df.groupby(\"date\").first()\n",
    "win_df = df[df[\"change\"] > 1.0]\n",
    "win_ratio = float(len(win_df))/len(df)\n",
    "print df.change.mean(),win_ratio"
   ]
  },
  {
   "cell_type": "code",
   "execution_count": null,
   "metadata": {
    "collapsed": true
   },
   "outputs": [],
   "source": []
  }
 ],
 "metadata": {
  "kernelspec": {
   "display_name": "Python 2",
   "language": "python",
   "name": "python2"
  },
  "language_info": {
   "codemirror_mode": {
    "name": "ipython",
    "version": 2
   },
   "file_extension": ".py",
   "mimetype": "text/x-python",
   "name": "python",
   "nbconvert_exporter": "python",
   "pygments_lexer": "ipython2",
   "version": "2.7.11"
  }
 },
 "nbformat": 4,
 "nbformat_minor": 0
}
