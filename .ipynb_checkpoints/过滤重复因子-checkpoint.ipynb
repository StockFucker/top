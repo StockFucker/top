{
 "cells": [
  {
   "cell_type": "code",
   "execution_count": 1,
   "metadata": {
    "collapsed": false
   },
   "outputs": [],
   "source": [
    "import pandas as pd\n",
    "from utils import *\n",
    "from constant import *"
   ]
  },
  {
   "cell_type": "code",
   "execution_count": 11,
   "metadata": {
    "collapsed": false
   },
   "outputs": [
    {
     "data": {
      "text/html": [
       "<div>\n",
       "<table border=\"1\" class=\"dataframe\">\n",
       "  <thead>\n",
       "    <tr style=\"text-align: right;\">\n",
       "      <th></th>\n",
       "      <th>win_ratio</th>\n",
       "      <th>mean</th>\n",
       "      <th>count</th>\n",
       "    </tr>\n",
       "  </thead>\n",
       "  <tbody>\n",
       "    <tr>\n",
       "      <th>jump2-~yz0-top0-opentop0-~opentop1-top1</th>\n",
       "      <td>0.677419</td>\n",
       "      <td>1.038783</td>\n",
       "      <td>31</td>\n",
       "    </tr>\n",
       "    <tr>\n",
       "      <th>small_volume-yz0-~yz1-top1-opentop1</th>\n",
       "      <td>0.791667</td>\n",
       "      <td>1.032884</td>\n",
       "      <td>48</td>\n",
       "    </tr>\n",
       "    <tr>\n",
       "      <th>small_volume-yz0-~opentop1-top1</th>\n",
       "      <td>0.654545</td>\n",
       "      <td>1.026615</td>\n",
       "      <td>55</td>\n",
       "    </tr>\n",
       "  </tbody>\n",
       "</table>\n",
       "</div>"
      ],
      "text/plain": [
       "                                         win_ratio      mean  count\n",
       "jump2-~yz0-top0-opentop0-~opentop1-top1   0.677419  1.038783     31\n",
       "small_volume-yz0-~yz1-top1-opentop1       0.791667  1.032884     48\n",
       "small_volume-yz0-~opentop1-top1           0.654545  1.026615     55"
      ]
     },
     "execution_count": 11,
     "metadata": {},
     "output_type": "execute_result"
    }
   ],
   "source": [
    "df = pd.read_csv(\"output6.csv\",index_col=0)\n",
    "df = df[~df[\"mean\"].duplicated()]\n",
    "# df[\"recent\"] = df.index.str.slice(-1)\n",
    "df = df[df[\"count\"] > 30]\n",
    "df.head(3)"
   ]
  },
  {
   "cell_type": "code",
   "execution_count": 3,
   "metadata": {
    "collapsed": false
   },
   "outputs": [],
   "source": [
    "df = df[(df.index == \"small_volume-yz0-~opentop1-top1\") | (df.index == \"small_volume-yz0-~yz1-top1-opentop1\")]"
   ]
  },
  {
   "cell_type": "code",
   "execution_count": 4,
   "metadata": {
    "collapsed": false
   },
   "outputs": [
    {
     "data": {
      "text/html": [
       "<div>\n",
       "<table border=\"1\" class=\"dataframe\">\n",
       "  <thead>\n",
       "    <tr style=\"text-align: right;\">\n",
       "      <th></th>\n",
       "      <th>win_ratio</th>\n",
       "      <th>mean</th>\n",
       "      <th>count</th>\n",
       "    </tr>\n",
       "  </thead>\n",
       "  <tbody>\n",
       "    <tr>\n",
       "      <th>small_volume-yz0-~yz1-top1-opentop1</th>\n",
       "      <td>0.791667</td>\n",
       "      <td>1.032884</td>\n",
       "      <td>48</td>\n",
       "    </tr>\n",
       "    <tr>\n",
       "      <th>small_volume-yz0-~opentop1-top1</th>\n",
       "      <td>0.654545</td>\n",
       "      <td>1.026615</td>\n",
       "      <td>55</td>\n",
       "    </tr>\n",
       "  </tbody>\n",
       "</table>\n",
       "</div>"
      ],
      "text/plain": [
       "                                     win_ratio      mean  count\n",
       "small_volume-yz0-~yz1-top1-opentop1   0.791667  1.032884     48\n",
       "small_volume-yz0-~opentop1-top1       0.654545  1.026615     55"
      ]
     },
     "execution_count": 4,
     "metadata": {},
     "output_type": "execute_result"
    }
   ],
   "source": [
    "df"
   ]
  },
  {
   "cell_type": "code",
   "execution_count": 9,
   "metadata": {
    "collapsed": false
   },
   "outputs": [
    {
     "name": "stdout",
     "output_type": "stream",
     "text": [
      "1.03637549283 0.791666666667\n",
      "1.02578202149 0.654545454545\n",
      "1.03637549283 0.791666666667\n",
      "1.03637549283 0.791666666667\n",
      "1.02578202149 0.654545454545\n",
      "1.03637549283 0.791666666667\n",
      "1.02578202149 0.654545454545\n",
      "1.02578202149 0.654545454545\n"
     ]
    },
    {
     "name": "stderr",
     "output_type": "stream",
     "text": [
      "/usr/local/lib/python2.7/site-packages/ipykernel/__main__.py:13: UserWarning: Boolean Series key will be reindexed to match DataFrame index.\n",
      "/usr/local/lib/python2.7/site-packages/ipykernel/__main__.py:14: UserWarning: Boolean Series key will be reindexed to match DataFrame index.\n"
     ]
    }
   ],
   "source": [
    "valid_keys = remove_invalid(df)"
   ]
  },
  {
   "cell_type": "code",
   "execution_count": 10,
   "metadata": {
    "collapsed": false
   },
   "outputs": [
    {
     "data": {
      "text/plain": [
       "{'small_volume-yz0-~opentop1-top1', 'small_volume-yz0-~yz1-top1-opentop1'}"
      ]
     },
     "execution_count": 10,
     "metadata": {},
     "output_type": "execute_result"
    }
   ],
   "source": [
    "valid_keys"
   ]
  },
  {
   "cell_type": "code",
   "execution_count": 17,
   "metadata": {
    "collapsed": false
   },
   "outputs": [
    {
     "data": {
      "text/plain": [
       "{'jump1-~foot2-~isnew-small_volume-yz0-~yz1-top1-opentop1',\n",
       " '~opentop2-jump1-speedup2-jump2-foot2-~isnew-small_volume-~opentop1-top1',\n",
       " '~opentop2-~jump1-isnew-small_volume-~opentop1-top1',\n",
       " '~opentop2-~speedup1-jump1-speedup2-jump2-foot2-small_volume-~opentop1-top1',\n",
       " '~opentop2-~speedup2-~foot1-isnew-small_volume-~opentop1-top1',\n",
       " '~speedup1-jump1-~speedup2-jump2-~foot0-~foot1-~foot2-~opentop1-top1',\n",
       " '~speedup1-~jump2-foot0-~foot1-~foot2-isnew-~small_volume',\n",
       " '~speedup1-~jump2-foot2-small_volume-~top1'}"
      ]
     },
     "execution_count": 17,
     "metadata": {},
     "output_type": "execute_result"
    }
   ],
   "source": [
    "valid_keys"
   ]
  },
  {
   "cell_type": "code",
   "execution_count": 8,
   "metadata": {
    "collapsed": false
   },
   "outputs": [
    {
     "name": "stderr",
     "output_type": "stream",
     "text": [
      "/usr/local/lib/python2.7/site-packages/ipykernel/__main__.py:14: UserWarning: Boolean Series key will be reindexed to match DataFrame index.\n",
      "/usr/local/lib/python2.7/site-packages/ipykernel/__main__.py:15: UserWarning: Boolean Series key will be reindexed to match DataFrame index.\n"
     ]
    },
    {
     "name": "stdout",
     "output_type": "stream",
     "text": [
      "set(['~opentop2-~speedup1-jump1-~jump2-foot1-small_volume-2', 'speedup1-speedup2-jump2-~foot1-~small_volume-~opentop1-top1-2', 'speedup1-~jump1-~foot1-isnew-2', '~opentop2-~speedup1-jump1-speedup2-~foot0-~foot1-~foot2-2', 'opentop2-foot0-~small_volume-2', '~opentop2-~jump1-isnew-small_volume-2', '~speedup1-jump1-jump2-~foot1-~isnew-small_volume-2', 'jump1-isnew-yz1-2'])\n",
      "8 231 2\n",
      "--------\n",
      "set(['~speedup1-speedup2-~foot1-foot2-small_volume-3', 'jump1-~speedup2-jump2-~foot1-foot2-~small_volume-3', '~opentop2-~speedup1-foot1-~foot2-small_volume-~opentop1-top1-3', '~speedup1-~speedup2-foot0-~foot1-~yz1-top1-opentop1-3', '~opentop2-~foot0-~small_volume-~yz0-top0-opentop0-3', '~opentop2-jump2-foot0-foot2-small_volume-3', '~opentop2-speedup1-foot1-foot2-small_volume-3', 'speedup1-~foot2-isnew-small_volume-~opentop1-top1-3', 'opentop2-~speedup1-~foot0-3', 'jump1-speedup2-jump2-~foot0-foot1-3', '~foot1-small_volume-yz0-3'])\n",
      "11 600 3\n",
      "--------\n",
      "set(['jump1-~foot0-~foot2-~isnew-small_volume-~opentop0-top0-~yz1-top1-opentop1-4', '~opentop2-~speedup1-jump1-~speedup2-~foot1-~foot2-small_volume-~opentop1-top1-4', '~speedup2-jump2-~foot0-~foot1-~isnew-~opentop0-top0-4', '~opentop2-~speedup1-~jump2-~foot1-~foot2-small_volume-~opentop0-top0-~opentop1-top1-4', '~foot1-isnew-~opentop0-top0-4', '~opentop2-jump1-foot2-~isnew-4', 'opentop2-foot0-~small_volume-4', '~speedup1-jump1-~speedup2-~foot1-~foot2-~isnew-small_volume-4', '~speedup1-jump1-~speedup2-~foot0-~isnew-small_volume-~opentop0-top0-4', '~opentop2-~speedup1-jump1-~jump2-~isnew-small_volume-~opentop0-top0-4', '~opentop2-~speedup2-~foot0-foot1-~foot2-~isnew-small_volume-~opentop0-top0-~opentop1-top1-4', '~speedup1-~jump2-~foot1-~foot2-~isnew-small_volume-~opentop0-top0-~opentop1-top1-4'])\n",
      "12 1505 4\n",
      "--------\n",
      "set(['jump1-~speedup2-~foot0-~foot2-small_volume-~opentop0-top0-5', '~speedup1-~jump1-~foot0-~foot1-small_volume-5', 'jump1-~foot1-~foot2-small_volume-~yz1-top1-opentop1-5', '~jump1-~speedup2-~jump2-~foot0-~small_volume-5'])\n",
      "4 147 5\n",
      "--------\n",
      "set(['jump2-~foot2-~isnew-small_volume-yz0-yz1-6', 'opentop2-~jump2-~isnew-yz1-6', 'jump2-~foot0-~foot2-small_volume-~opentop1-top1-6'])\n",
      "3 84 6\n",
      "--------\n",
      "set(['~speedup1-jump1-~foot2-~isnew-small_volume-7'])\n",
      "1 29 7\n",
      "--------\n"
     ]
    }
   ],
   "source": [
    "for i in range(2,8):\n",
    "    sub_df = df[df[\"recent\"] == str(i)]\n",
    "    valid_keys = remove_invalid(sub_df,i)\n",
    "    print valid_keys\n",
    "    print len(valid_keys),len(sub_df),i\n",
    "    print \"--------\""
   ]
  },
  {
   "cell_type": "code",
   "execution_count": 6,
   "metadata": {
    "collapsed": true
   },
   "outputs": [],
   "source": [
    "def remove_invalid(output_df):\n",
    "    keys = output_df.index\n",
    "    valid_keys = set(keys)\n",
    "    for keyA in keys:\n",
    "        if not keyA in valid_keys:\n",
    "            continue\n",
    "        filterA = getFilter(keyA)\n",
    "#         filter_recent = recent(day,data_df)\n",
    "        for keyB in keys:\n",
    "            if not keyB in valid_keys or keyA == keyB:\n",
    "                continue\n",
    "            filterB = getFilter(keyB)\n",
    "            sub_dfA = data_df[filterA & ~filterB & ~yz2]\n",
    "            sub_dfB = data_df[filterB & ~filterA & ~yz2]\n",
    "#             print output_df.head(3)\n",
    "            to_remove,to_break = shouldRemove(keyA,keyB,sub_dfA,sub_dfB,output_df)\n",
    "            if to_remove is not None:\n",
    "#                 if to_remove == \"small_volume-yz0-~opentop1-top1\":\n",
    "#                     print keyA,keyB\n",
    "                valid_keys.remove(to_remove)\n",
    "            if to_break:\n",
    "                break            \n",
    "    return valid_keys"
   ]
  },
  {
   "cell_type": "code",
   "execution_count": 13,
   "metadata": {
    "collapsed": false
   },
   "outputs": [],
   "source": [
    "def remove_invalid(output_df,day):\n",
    "    keys = output_df.index\n",
    "    valid_keys = set(keys)\n",
    "    for keyA in keys:\n",
    "        if not keyA in valid_keys:\n",
    "            continue\n",
    "        filterA = getFilter(keyA)\n",
    "        filter_recent = recent(day,data_df)\n",
    "        for keyB in keys:\n",
    "            if not keyB in valid_keys or keyA == keyB:\n",
    "                continue\n",
    "            print keyA + \"--\" + keyB\n",
    "            filterB = getFilter(keyB)\n",
    "            sub_dfA = data_df[filter_recent & filterA & ~filterB & ~yz2]\n",
    "            sub_dfB = data_df[filter_recent & filterB & ~filterA & ~yz2]\n",
    "            to_remove,to_break = shouldRemove(keyA,keyB,sub_dfA,sub_dfB,output_df)\n",
    "            if to_remove is not None:\n",
    "                valid_keys.remove(to_remove)\n",
    "            if to_break:\n",
    "                break            \n",
    "    return valid_keys"
   ]
  },
  {
   "cell_type": "code",
   "execution_count": 8,
   "metadata": {
    "collapsed": false
   },
   "outputs": [],
   "source": [
    "def shouldRemove(keyA,keyB,sub_dfA,sub_dfB,output_df):\n",
    "    if is_valid(sub_dfA) and not is_valid(sub_dfB):\n",
    "        print \"B not valid\"\n",
    "        return keyB,False\n",
    "    elif not is_valid(sub_dfA) and is_valid(sub_dfB):\n",
    "        print \"A not valid\"\n",
    "        return keyA,True\n",
    "    elif not is_valid(sub_dfA) and not is_valid(sub_dfB):\n",
    "        if output_df[\"count\"][keyA] > output_df[\"count\"][keyB]:\n",
    "            print \"count A > count B\"\n",
    "            return keyB,False\n",
    "        elif output_df[\"count\"][keyA] < output_df[\"count\"][keyB]:\n",
    "            print \"count A < count B\"\n",
    "            return keyA,True\n",
    "        else:\n",
    "            if keyA.split(\"-\") < keyB.split(\"-\"):\n",
    "                return keyB,False\n",
    "            elif keyA.split(\"-\") > keyB.split(\"-\"):\n",
    "                return keyA,True\n",
    "            else:\n",
    "                if output_df[\"win_ratio\"][keyA] >= output_df[\"win_ratio\"][keyB]:\n",
    "                    return keyB,False\n",
    "                else:\n",
    "                    return keyA,True\n",
    "    else:\n",
    "        return None,False"
   ]
  },
  {
   "cell_type": "code",
   "execution_count": 7,
   "metadata": {
    "collapsed": true
   },
   "outputs": [],
   "source": [
    "def is_valid(sub_df):\n",
    "    sub_df = sub_df.sort_values(\"minute\")\n",
    "    sub_df = sub_df.groupby(\"date\").first()\n",
    "    count = len(sub_df)\n",
    "    mean = sub_df.change.mean()\n",
    "    if mean < 1.015 or count < 2:\n",
    "        print mean,count\n",
    "        return False \n",
    "    win_df = sub_df[sub_df[\"change\"] > 1.0]\n",
    "    win_ratio = float(len(win_df))/len(sub_df)\n",
    "    print mean,win_ratio\n",
    "    if count < 10:\n",
    "        return mean > 1.025 and win_ratio > 0.75\n",
    "    else:\n",
    "        return mean > 1.02 and win_ratio > 0.6"
   ]
  },
  {
   "cell_type": "code",
   "execution_count": null,
   "metadata": {
    "collapsed": false
   },
   "outputs": [],
   "source": []
  },
  {
   "cell_type": "code",
   "execution_count": null,
   "metadata": {
    "collapsed": true
   },
   "outputs": [],
   "source": []
  },
  {
   "cell_type": "code",
   "execution_count": null,
   "metadata": {
    "collapsed": true
   },
   "outputs": [],
   "source": []
  },
  {
   "cell_type": "code",
   "execution_count": 7,
   "metadata": {
    "collapsed": false
   },
   "outputs": [
    {
     "name": "stderr",
     "output_type": "stream",
     "text": [
      "/usr/local/lib/python2.7/site-packages/ipykernel/__main__.py:7: UserWarning: Boolean Series key will be reindexed to match DataFrame index.\n"
     ]
    }
   ],
   "source": [
    "win_ratio_se = pd.Series()\n",
    "mean_se = pd.Series()\n",
    "for filters in filterss:\n",
    "    each_filters = []\n",
    "    for filter_key in filters:\n",
    "        filter_a = getFilter(filter_key,True)\n",
    "        sub_df = data_df[filter_a]\n",
    "        sub_df = sub_df.sort_values(\"minute\")\n",
    "        sub_df = sub_df.groupby(\"date\").first()\n",
    "        count = len(sub_df)\n",
    "        mean = sub_df.change.mean()\n",
    "        win_df = sub_df[sub_df[\"change\"] > 1.0]\n",
    "        win_ratio = float(len(win_df))/len(sub_df)\n",
    "        win_ratio_se[filter_key] = win_ratio\n",
    "        mean_se[filter_key] = mean\n",
    "df = pd.DataFrame()\n",
    "df[\"win_ratio\"] = win_ratio_se\n",
    "df[\"mean\"] = mean_se\n",
    "df.to_csv(\"output4.csv\")"
   ]
  },
  {
   "cell_type": "code",
   "execution_count": null,
   "metadata": {
    "collapsed": true
   },
   "outputs": [],
   "source": []
  },
  {
   "cell_type": "code",
   "execution_count": null,
   "metadata": {
    "collapsed": true
   },
   "outputs": [],
   "source": []
  }
 ],
 "metadata": {
  "kernelspec": {
   "display_name": "Python 2",
   "language": "python",
   "name": "python2"
  },
  "language_info": {
   "codemirror_mode": {
    "name": "ipython",
    "version": 2
   },
   "file_extension": ".py",
   "mimetype": "text/x-python",
   "name": "python",
   "nbconvert_exporter": "python",
   "pygments_lexer": "ipython2",
   "version": "2.7.11"
  }
 },
 "nbformat": 4,
 "nbformat_minor": 0
}
