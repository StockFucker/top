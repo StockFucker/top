{
 "cells": [
  {
   "cell_type": "code",
   "execution_count": 1,
   "metadata": {
    "collapsed": true
   },
   "outputs": [],
   "source": [
    "import pandas as pd\n",
    "from utils import *"
   ]
  },
  {
   "cell_type": "code",
   "execution_count": 105,
   "metadata": {
    "collapsed": false
   },
   "outputs": [],
   "source": [
    "valid_df = data_df\n",
    "valid_df = valid_df[valid_df.vol5 > 0.06]\n",
    "valid_df = valid_df[valid_df.vol5 < 0.07]\n",
    "valid_df = valid_df[valid_df.wave > 1]\n",
    "valid_df = valid_df[valid_df.recent == 1]\n",
    "\n",
    "# valid_df = valid_df[valid_df[\"high_limit2\"]/valid_df[\"open2\"] > 1.08]\n",
    "# valid_df = valid_df[valid_df[\"high_limit2\"]/valid_df[\"open2\"] < 1.07]\n",
    "# valid_df = valid_df[valid_df.vol20 < 0.03]"
   ]
  },
  {
   "cell_type": "code",
   "execution_count": 106,
   "metadata": {
    "collapsed": false
   },
   "outputs": [
    {
     "name": "stdout",
     "output_type": "stream",
     "text": [
      "            mean  count\n",
      "recent                 \n",
      "1.0     1.018148     12\n",
      "0.666666666667 12 1.0181475988\n"
     ]
    }
   ],
   "source": [
    "valid_df = valid_df.sort_values(\"minute\")\n",
    "valid_df = valid_df.groupby(\"date\").first()\n",
    "result(valid_df)"
   ]
  },
  {
   "cell_type": "code",
   "execution_count": 84,
   "metadata": {
    "collapsed": true
   },
   "outputs": [],
   "source": [
    "def get_date(name):\n",
    "    se = valid_df.ix[name]\n",
    "    return se[\"change\"],se[\"high_limit2\"]/se[\"open2\"],se[\"nearby\"],se[\"wave\"],se[\"vol5\"],se[\"vol20\"]"
   ]
  },
  {
   "cell_type": "code",
   "execution_count": 85,
   "metadata": {
    "collapsed": false
   },
   "outputs": [],
   "source": [
    "# indexs = [\"000856.XSHE_2017-04-28\"]\n",
    "# output_df = pd.DataFrame(columns = [\"change\",\"high2/open2\",\"nearby\",\"wave\",\"vol5\",\"vol20\"])\n",
    "# for index in indexs:\n",
    "#     output = get_date(index)\n",
    "#     output_df.ix[index] = output\n",
    "# output_df"
   ]
  },
  {
   "cell_type": "code",
   "execution_count": 90,
   "metadata": {
    "collapsed": false
   },
   "outputs": [
    {
     "data": {
      "text/html": [
       "<div>\n",
       "<table border=\"1\" class=\"dataframe\">\n",
       "  <thead>\n",
       "    <tr style=\"text-align: right;\">\n",
       "      <th></th>\n",
       "      <th>change</th>\n",
       "      <th>last_day</th>\n",
       "      <th>stock</th>\n",
       "      <th>close0</th>\n",
       "      <th>high0</th>\n",
       "      <th>high_limit0</th>\n",
       "      <th>low0</th>\n",
       "      <th>open0</th>\n",
       "      <th>volume0</th>\n",
       "      <th>day0</th>\n",
       "      <th>...</th>\n",
       "      <th>volume_mean</th>\n",
       "      <th>last_recent</th>\n",
       "      <th>recent_low</th>\n",
       "      <th>recent_high_idx</th>\n",
       "      <th>gap_low</th>\n",
       "      <th>vol20</th>\n",
       "      <th>vol60</th>\n",
       "      <th>vol5</th>\n",
       "      <th>st</th>\n",
       "      <th>isnew</th>\n",
       "    </tr>\n",
       "    <tr>\n",
       "      <th>date</th>\n",
       "      <th></th>\n",
       "      <th></th>\n",
       "      <th></th>\n",
       "      <th></th>\n",
       "      <th></th>\n",
       "      <th></th>\n",
       "      <th></th>\n",
       "      <th></th>\n",
       "      <th></th>\n",
       "      <th></th>\n",
       "      <th></th>\n",
       "      <th></th>\n",
       "      <th></th>\n",
       "      <th></th>\n",
       "      <th></th>\n",
       "      <th></th>\n",
       "      <th></th>\n",
       "      <th></th>\n",
       "      <th></th>\n",
       "      <th></th>\n",
       "      <th></th>\n",
       "    </tr>\n",
       "  </thead>\n",
       "  <tbody>\n",
       "    <tr>\n",
       "      <th>2013-11-19 00:00:00</th>\n",
       "      <td>1.019599</td>\n",
       "      <td>2013-11-18 00:00:00</td>\n",
       "      <td>300191.XSHE</td>\n",
       "      <td>20.63</td>\n",
       "      <td>22.36</td>\n",
       "      <td>22.36</td>\n",
       "      <td>20.21</td>\n",
       "      <td>20.24</td>\n",
       "      <td>17997631.0</td>\n",
       "      <td>436.0</td>\n",
       "      <td>...</td>\n",
       "      <td>8.180037e+06</td>\n",
       "      <td>1.0</td>\n",
       "      <td>7.94</td>\n",
       "      <td>22.0</td>\n",
       "      <td>19.11</td>\n",
       "      <td>0.100418</td>\n",
       "      <td>0.100599</td>\n",
       "      <td>0.034641</td>\n",
       "      <td>False</td>\n",
       "      <td>0.0</td>\n",
       "    </tr>\n",
       "    <tr>\n",
       "      <th>2015-05-08 00:00:00</th>\n",
       "      <td>1.033537</td>\n",
       "      <td>2015-05-07 00:00:00</td>\n",
       "      <td>300018.XSHE</td>\n",
       "      <td>24.01</td>\n",
       "      <td>25.78</td>\n",
       "      <td>25.78</td>\n",
       "      <td>23.55</td>\n",
       "      <td>24.26</td>\n",
       "      <td>18692929.0</td>\n",
       "      <td>743.0</td>\n",
       "      <td>...</td>\n",
       "      <td>1.498867e+07</td>\n",
       "      <td>1.0</td>\n",
       "      <td>6.55</td>\n",
       "      <td>6.0</td>\n",
       "      <td>21.76</td>\n",
       "      <td>0.100364</td>\n",
       "      <td>0.101010</td>\n",
       "      <td>0.035354</td>\n",
       "      <td>False</td>\n",
       "      <td>0.0</td>\n",
       "    </tr>\n",
       "    <tr>\n",
       "      <th>2015-07-29 00:00:00</th>\n",
       "      <td>1.014950</td>\n",
       "      <td>2015-07-28 00:00:00</td>\n",
       "      <td>000838.XSHE</td>\n",
       "      <td>5.59</td>\n",
       "      <td>6.10</td>\n",
       "      <td>6.10</td>\n",
       "      <td>5.41</td>\n",
       "      <td>5.60</td>\n",
       "      <td>53911101.0</td>\n",
       "      <td>847.0</td>\n",
       "      <td>...</td>\n",
       "      <td>2.066213e+07</td>\n",
       "      <td>1.0</td>\n",
       "      <td>3.27</td>\n",
       "      <td>38.0</td>\n",
       "      <td>3.27</td>\n",
       "      <td>0.101313</td>\n",
       "      <td>0.101351</td>\n",
       "      <td>0.038261</td>\n",
       "      <td>False</td>\n",
       "      <td>0.0</td>\n",
       "    </tr>\n",
       "    <tr>\n",
       "      <th>2016-07-05 00:00:00</th>\n",
       "      <td>1.040442</td>\n",
       "      <td>2016-07-04 00:00:00</td>\n",
       "      <td>300410.XSHE</td>\n",
       "      <td>51.18</td>\n",
       "      <td>54.18</td>\n",
       "      <td>54.18</td>\n",
       "      <td>49.01</td>\n",
       "      <td>49.01</td>\n",
       "      <td>10679591.0</td>\n",
       "      <td>214.0</td>\n",
       "      <td>...</td>\n",
       "      <td>7.341206e+06</td>\n",
       "      <td>1.0</td>\n",
       "      <td>37.06</td>\n",
       "      <td>13.0</td>\n",
       "      <td>42.00</td>\n",
       "      <td>0.100025</td>\n",
       "      <td>0.100234</td>\n",
       "      <td>0.039188</td>\n",
       "      <td>False</td>\n",
       "      <td>0.0</td>\n",
       "    </tr>\n",
       "  </tbody>\n",
       "</table>\n",
       "<p>4 rows × 50 columns</p>\n",
       "</div>"
      ],
      "text/plain": [
       "                       change             last_day        stock  close0  \\\n",
       "date                                                                      \n",
       "2013-11-19 00:00:00  1.019599  2013-11-18 00:00:00  300191.XSHE   20.63   \n",
       "2015-05-08 00:00:00  1.033537  2015-05-07 00:00:00  300018.XSHE   24.01   \n",
       "2015-07-29 00:00:00  1.014950  2015-07-28 00:00:00  000838.XSHE    5.59   \n",
       "2016-07-05 00:00:00  1.040442  2016-07-04 00:00:00  300410.XSHE   51.18   \n",
       "\n",
       "                     high0  high_limit0   low0  open0     volume0   day0  \\\n",
       "date                                                                       \n",
       "2013-11-19 00:00:00  22.36        22.36  20.21  20.24  17997631.0  436.0   \n",
       "2015-05-08 00:00:00  25.78        25.78  23.55  24.26  18692929.0  743.0   \n",
       "2015-07-29 00:00:00   6.10         6.10   5.41   5.60  53911101.0  847.0   \n",
       "2016-07-05 00:00:00  54.18        54.18  49.01  49.01  10679591.0  214.0   \n",
       "\n",
       "                     ...     volume_mean  last_recent  recent_low  \\\n",
       "date                 ...                                            \n",
       "2013-11-19 00:00:00  ...    8.180037e+06          1.0        7.94   \n",
       "2015-05-08 00:00:00  ...    1.498867e+07          1.0        6.55   \n",
       "2015-07-29 00:00:00  ...    2.066213e+07          1.0        3.27   \n",
       "2016-07-05 00:00:00  ...    7.341206e+06          1.0       37.06   \n",
       "\n",
       "                     recent_high_idx  gap_low     vol20     vol60      vol5  \\\n",
       "date                                                                          \n",
       "2013-11-19 00:00:00             22.0    19.11  0.100418  0.100599  0.034641   \n",
       "2015-05-08 00:00:00              6.0    21.76  0.100364  0.101010  0.035354   \n",
       "2015-07-29 00:00:00             38.0     3.27  0.101313  0.101351  0.038261   \n",
       "2016-07-05 00:00:00             13.0    42.00  0.100025  0.100234  0.039188   \n",
       "\n",
       "                        st  isnew  \n",
       "date                               \n",
       "2013-11-19 00:00:00  False    0.0  \n",
       "2015-05-08 00:00:00  False    0.0  \n",
       "2015-07-29 00:00:00  False    0.0  \n",
       "2016-07-05 00:00:00  False    0.0  \n",
       "\n",
       "[4 rows x 50 columns]"
      ]
     },
     "execution_count": 90,
     "metadata": {},
     "output_type": "execute_result"
    }
   ],
   "source": [
    "valid_df"
   ]
  },
  {
   "cell_type": "code",
   "execution_count": null,
   "metadata": {
    "collapsed": true
   },
   "outputs": [],
   "source": []
  }
 ],
 "metadata": {
  "kernelspec": {
   "display_name": "Python 2",
   "language": "python",
   "name": "python2"
  },
  "language_info": {
   "codemirror_mode": {
    "name": "ipython",
    "version": 2
   },
   "file_extension": ".py",
   "mimetype": "text/x-python",
   "name": "python",
   "nbconvert_exporter": "python",
   "pygments_lexer": "ipython2",
   "version": "2.7.11"
  }
 },
 "nbformat": 4,
 "nbformat_minor": 0
}
