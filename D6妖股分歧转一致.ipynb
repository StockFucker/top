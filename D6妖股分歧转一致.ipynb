{
 "cells": [
  {
   "cell_type": "code",
   "execution_count": 1,
   "metadata": {
    "collapsed": false
   },
   "outputs": [],
   "source": [
    "import pandas as pd\n",
    "from utils import *"
   ]
  },
  {
   "cell_type": "code",
   "execution_count": 2,
   "metadata": {
    "collapsed": false
   },
   "outputs": [
    {
     "name": "stderr",
     "output_type": "stream",
     "text": [
      "/usr/local/lib/python2.7/site-packages/ipykernel/__main__.py:2: UserWarning: Boolean Series key will be reindexed to match DataFrame index.\n",
      "  from ipykernel import kernelapp as app\n",
      "/usr/local/lib/python2.7/site-packages/ipykernel/__main__.py:3: UserWarning: Boolean Series key will be reindexed to match DataFrame index.\n",
      "  app.launch_new_instance()\n",
      "/usr/local/lib/python2.7/site-packages/ipykernel/__main__.py:4: UserWarning: Boolean Series key will be reindexed to match DataFrame index.\n",
      "/usr/local/lib/python2.7/site-packages/ipykernel/__main__.py:5: UserWarning: Boolean Series key will be reindexed to match DataFrame index.\n",
      "/usr/local/lib/python2.7/site-packages/ipykernel/__main__.py:6: UserWarning: Boolean Series key will be reindexed to match DataFrame index.\n"
     ]
    }
   ],
   "source": [
    "valid_df = data_df[data_df[\"volume1\"] / data_df[\"volume0\"] > 1.3]\n",
    "valid_df = valid_df[data_df[\"minute_volume\"] / data_df[\"volume1\"] < 0.65]\n",
    "valid_df = valid_df[data_df[\"minute_volume\"] / data_df[\"volume1\"] > 0.3]\n",
    "valid_df = valid_df[data_df[\"low2\"] / data_df[\"close1\"] < 1.1]\n",
    "valid_df = valid_df[data_df[\"minute\"] > \"09:40:00\"]\n",
    "valid_df = valid_df[data_df[\"minute\"] < \"10:10:00\"]"
   ]
  },
  {
   "cell_type": "code",
   "execution_count": 5,
   "metadata": {
    "collapsed": false
   },
   "outputs": [
    {
     "name": "stdout",
     "output_type": "stream",
     "text": [
      "\n"
     ]
    }
   ],
   "source": [
    "def get_date(name):\n",
    "    se = valid_df.ix[name]\n",
    "    print se[\"change\"],se[\"volume1\"]/se[\"volume0\"],se[\"minute_volume\"]/se[\"volume1\"],se[\"low2\"]/se[\"close1\"],se[\"minute\"],se.nearby,se.wave"
   ]
  },
  {
   "cell_type": "code",
   "execution_count": 6,
   "metadata": {
    "collapsed": false
   },
   "outputs": [
    {
     "name": "stdout",
     "output_type": "stream",
     "text": [
      "1.09982014388 2.09528178743 0.355640870283 0.983179419525 09:44:00 7.0 1\n",
      "1.03294367694 1.31202142485 0.624988521336 0.962590600888 10:07:00 12.0 2\n",
      "0.971345665579 1.43781706506 0.303986534103 0.982043096568 09:42:00 7.0 1\n",
      "1.05494505495 1.57106221689 0.376707666779 1.0088638195 09:43:00 0.0 0\n",
      "0.902649414664 1.36339843603 0.485454615676 0.970847457627 09:42:00 3.0 1\n"
     ]
    }
   ],
   "source": [
    "get_date(\"601116.XSHG_2016-12-07\")\n",
    "get_date(\"601116.XSHG_2016-12-14\")\n",
    "get_date(\"601116.XSHG_2016-12-01\")\n",
    "get_date(\"002300.XSHE_2017-01-06\")\n",
    "get_date(\"002300.XSHE_2017-01-10\")"
   ]
  },
  {
   "cell_type": "code",
   "execution_count": 7,
   "metadata": {
    "collapsed": false
   },
   "outputs": [
    {
     "name": "stdout",
     "output_type": "stream",
     "text": [
      "            mean  count\n",
      "recent                 \n",
      "1.0     0.998064    247\n",
      "2.0     1.006416    432\n",
      "3.0     1.013035     56\n",
      "4.0     1.029606     15\n",
      "5.0     0.987180      8\n",
      "6.0     1.119588      3\n",
      "7.0     1.005628      3\n",
      "8.0     0.991964      3\n",
      "10.0    0.981265      2\n",
      "14.0    1.002968      2\n",
      "17.0    1.046127      2\n",
      "0.541827541828 777 1.00491296165\n"
     ]
    }
   ],
   "source": [
    "valid_df = valid_df.sort_values(\"minute\")\n",
    "valid_df = valid_df.groupby(\"date\").first()\n",
    "result(valid_df)"
   ]
  },
  {
   "cell_type": "code",
   "execution_count": 8,
   "metadata": {
    "collapsed": false
   },
   "outputs": [
    {
     "data": {
      "text/html": [
       "<div>\n",
       "<table border=\"1\" class=\"dataframe\">\n",
       "  <thead>\n",
       "    <tr style=\"text-align: right;\">\n",
       "      <th></th>\n",
       "      <th>change</th>\n",
       "      <th>last_day</th>\n",
       "      <th>stock</th>\n",
       "      <th>close0</th>\n",
       "      <th>high0</th>\n",
       "      <th>high_limit0</th>\n",
       "      <th>low0</th>\n",
       "      <th>open0</th>\n",
       "      <th>volume0</th>\n",
       "      <th>day0</th>\n",
       "      <th>...</th>\n",
       "      <th>recent</th>\n",
       "      <th>minute_low</th>\n",
       "      <th>minute_volume</th>\n",
       "      <th>minute</th>\n",
       "      <th>nearby</th>\n",
       "      <th>wave</th>\n",
       "      <th>top_count</th>\n",
       "      <th>st</th>\n",
       "      <th>circap</th>\n",
       "      <th>isnew</th>\n",
       "    </tr>\n",
       "    <tr>\n",
       "      <th>date</th>\n",
       "      <th></th>\n",
       "      <th></th>\n",
       "      <th></th>\n",
       "      <th></th>\n",
       "      <th></th>\n",
       "      <th></th>\n",
       "      <th></th>\n",
       "      <th></th>\n",
       "      <th></th>\n",
       "      <th></th>\n",
       "      <th></th>\n",
       "      <th></th>\n",
       "      <th></th>\n",
       "      <th></th>\n",
       "      <th></th>\n",
       "      <th></th>\n",
       "      <th></th>\n",
       "      <th></th>\n",
       "      <th></th>\n",
       "      <th></th>\n",
       "      <th></th>\n",
       "    </tr>\n",
       "  </thead>\n",
       "  <tbody>\n",
       "    <tr>\n",
       "      <th>2017-05-18 00:00:00</th>\n",
       "      <td>0.918459</td>\n",
       "      <td>2017-05-17 00:00:00</td>\n",
       "      <td>300407.XSHE</td>\n",
       "      <td>19.35</td>\n",
       "      <td>19.35</td>\n",
       "      <td>19.35</td>\n",
       "      <td>17.31</td>\n",
       "      <td>17.36</td>\n",
       "      <td>17079367.0</td>\n",
       "      <td>477.0</td>\n",
       "      <td>...</td>\n",
       "      <td>1.0</td>\n",
       "      <td>20.00</td>\n",
       "      <td>18282200.0</td>\n",
       "      <td>10:09:00</td>\n",
       "      <td>4.0</td>\n",
       "      <td>1</td>\n",
       "      <td>0</td>\n",
       "      <td>False</td>\n",
       "      <td>750.0</td>\n",
       "      <td>0.0</td>\n",
       "    </tr>\n",
       "    <tr>\n",
       "      <th>2017-05-19 00:00:00</th>\n",
       "      <td>0.931780</td>\n",
       "      <td>2017-05-18 00:00:00</td>\n",
       "      <td>300370.XSHE</td>\n",
       "      <td>5.58</td>\n",
       "      <td>5.58</td>\n",
       "      <td>5.58</td>\n",
       "      <td>5.58</td>\n",
       "      <td>5.58</td>\n",
       "      <td>6698387.0</td>\n",
       "      <td>712.0</td>\n",
       "      <td>...</td>\n",
       "      <td>1.0</td>\n",
       "      <td>5.51</td>\n",
       "      <td>20183000.0</td>\n",
       "      <td>09:41:00</td>\n",
       "      <td>2.0</td>\n",
       "      <td>1</td>\n",
       "      <td>0</td>\n",
       "      <td>False</td>\n",
       "      <td>801.0</td>\n",
       "      <td>0.0</td>\n",
       "    </tr>\n",
       "    <tr>\n",
       "      <th>2017-05-26 00:00:00</th>\n",
       "      <td>0.923037</td>\n",
       "      <td>2017-05-25 00:00:00</td>\n",
       "      <td>603126.XSHG</td>\n",
       "      <td>16.39</td>\n",
       "      <td>16.39</td>\n",
       "      <td>16.39</td>\n",
       "      <td>14.36</td>\n",
       "      <td>14.55</td>\n",
       "      <td>37759935.0</td>\n",
       "      <td>684.0</td>\n",
       "      <td>...</td>\n",
       "      <td>1.0</td>\n",
       "      <td>17.03</td>\n",
       "      <td>56267498.0</td>\n",
       "      <td>09:56:00</td>\n",
       "      <td>5.0</td>\n",
       "      <td>1</td>\n",
       "      <td>0</td>\n",
       "      <td>False</td>\n",
       "      <td>1376.0</td>\n",
       "      <td>0.0</td>\n",
       "    </tr>\n",
       "  </tbody>\n",
       "</table>\n",
       "<p>3 rows × 41 columns</p>\n",
       "</div>"
      ],
      "text/plain": [
       "                       change             last_day        stock  close0  \\\n",
       "date                                                                      \n",
       "2017-05-18 00:00:00  0.918459  2017-05-17 00:00:00  300407.XSHE   19.35   \n",
       "2017-05-19 00:00:00  0.931780  2017-05-18 00:00:00  300370.XSHE    5.58   \n",
       "2017-05-26 00:00:00  0.923037  2017-05-25 00:00:00  603126.XSHG   16.39   \n",
       "\n",
       "                     high0  high_limit0   low0  open0     volume0   day0  \\\n",
       "date                                                                       \n",
       "2017-05-18 00:00:00  19.35        19.35  17.31  17.36  17079367.0  477.0   \n",
       "2017-05-19 00:00:00   5.58         5.58   5.58   5.58   6698387.0  712.0   \n",
       "2017-05-26 00:00:00  16.39        16.39  14.36  14.55  37759935.0  684.0   \n",
       "\n",
       "                     ...    recent  minute_low  minute_volume    minute  \\\n",
       "date                 ...                                                  \n",
       "2017-05-18 00:00:00  ...       1.0       20.00     18282200.0  10:09:00   \n",
       "2017-05-19 00:00:00  ...       1.0        5.51     20183000.0  09:41:00   \n",
       "2017-05-26 00:00:00  ...       1.0       17.03     56267498.0  09:56:00   \n",
       "\n",
       "                     nearby  wave  top_count     st  circap  isnew  \n",
       "date                                                                \n",
       "2017-05-18 00:00:00     4.0     1          0  False   750.0    0.0  \n",
       "2017-05-19 00:00:00     2.0     1          0  False   801.0    0.0  \n",
       "2017-05-26 00:00:00     5.0     1          0  False  1376.0    0.0  \n",
       "\n",
       "[3 rows x 41 columns]"
      ]
     },
     "execution_count": 8,
     "metadata": {},
     "output_type": "execute_result"
    }
   ],
   "source": [
    "valid_df.tail(3)"
   ]
  },
  {
   "cell_type": "code",
   "execution_count": null,
   "metadata": {
    "collapsed": true
   },
   "outputs": [],
   "source": []
  }
 ],
 "metadata": {
  "kernelspec": {
   "display_name": "Python 2",
   "language": "python",
   "name": "python2"
  },
  "language_info": {
   "codemirror_mode": {
    "name": "ipython",
    "version": 2
   },
   "file_extension": ".py",
   "mimetype": "text/x-python",
   "name": "python",
   "nbconvert_exporter": "python",
   "pygments_lexer": "ipython2",
   "version": "2.7.11"
  }
 },
 "nbformat": 4,
 "nbformat_minor": 0
}
