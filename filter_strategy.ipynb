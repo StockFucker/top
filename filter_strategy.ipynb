{
 "cells": [
  {
   "cell_type": "code",
   "execution_count": 33,
   "metadata": {
    "collapsed": false
   },
   "outputs": [],
   "source": [
    "import pandas as pd\n",
    "from utils import *"
   ]
  },
  {
   "cell_type": "code",
   "execution_count": 37,
   "metadata": {
    "collapsed": false
   },
   "outputs": [
    {
     "data": {
      "text/html": [
       "<div>\n",
       "<table border=\"1\" class=\"dataframe\">\n",
       "  <thead>\n",
       "    <tr style=\"text-align: right;\">\n",
       "      <th></th>\n",
       "      <th>win_ratio</th>\n",
       "      <th>mean</th>\n",
       "      <th>count</th>\n",
       "      <th>recent</th>\n",
       "    </tr>\n",
       "  </thead>\n",
       "  <tbody>\n",
       "    <tr>\n",
       "      <th>~speedup1-~opentop0-top0-~yz1-top1-opentop1-4</th>\n",
       "      <td>0.650000</td>\n",
       "      <td>1.020381</td>\n",
       "      <td>40</td>\n",
       "      <td>4</td>\n",
       "    </tr>\n",
       "    <tr>\n",
       "      <th>jump1-yz0-~opentop1-top1-3</th>\n",
       "      <td>0.617978</td>\n",
       "      <td>1.021005</td>\n",
       "      <td>89</td>\n",
       "      <td>3</td>\n",
       "    </tr>\n",
       "    <tr>\n",
       "      <th>speedup2-~yz0-top0-opentop0-~top1-1</th>\n",
       "      <td>0.617647</td>\n",
       "      <td>1.020963</td>\n",
       "      <td>34</td>\n",
       "      <td>1</td>\n",
       "    </tr>\n",
       "  </tbody>\n",
       "</table>\n",
       "</div>"
      ],
      "text/plain": [
       "                                               win_ratio      mean  count  \\\n",
       "~speedup1-~opentop0-top0-~yz1-top1-opentop1-4   0.650000  1.020381     40   \n",
       "jump1-yz0-~opentop1-top1-3                      0.617978  1.021005     89   \n",
       "speedup2-~yz0-top0-opentop0-~top1-1             0.617647  1.020963     34   \n",
       "\n",
       "                                              recent  \n",
       "~speedup1-~opentop0-top0-~yz1-top1-opentop1-4      4  \n",
       "jump1-yz0-~opentop1-top1-3                         3  \n",
       "speedup2-~yz0-top0-opentop0-~top1-1                1  "
      ]
     },
     "execution_count": 37,
     "metadata": {},
     "output_type": "execute_result"
    }
   ],
   "source": [
    "df = pd.read_csv(\"output3.csv\",index_col=0)\n",
    "df = df[~df[\"mean\"].duplicated()]\n",
    "df[\"recent\"] = df.index.str.slice(-1)\n",
    "df = df[df[\"count\"] > 20]\n",
    "df.head(3)"
   ]
  },
  {
   "cell_type": "code",
   "execution_count": 38,
   "metadata": {
    "collapsed": false
   },
   "outputs": [
    {
     "data": {
      "text/html": [
       "<div>\n",
       "<table border=\"1\" class=\"dataframe\">\n",
       "  <thead>\n",
       "    <tr style=\"text-align: right;\">\n",
       "      <th></th>\n",
       "      <th>win_ratio</th>\n",
       "      <th>mean</th>\n",
       "      <th>count</th>\n",
       "      <th>recent</th>\n",
       "    </tr>\n",
       "  </thead>\n",
       "  <tbody>\n",
       "    <tr>\n",
       "      <th>~opentop2-small_volume-yz1-2</th>\n",
       "      <td>0.657143</td>\n",
       "      <td>1.026360</td>\n",
       "      <td>35</td>\n",
       "      <td>2</td>\n",
       "    </tr>\n",
       "    <tr>\n",
       "      <th>~opentop2-speedup1-small_volume-yz1-2</th>\n",
       "      <td>0.657143</td>\n",
       "      <td>1.026462</td>\n",
       "      <td>35</td>\n",
       "      <td>2</td>\n",
       "    </tr>\n",
       "    <tr>\n",
       "      <th>~opentop2-jump1-small_volume-yz1-2</th>\n",
       "      <td>0.625000</td>\n",
       "      <td>1.023453</td>\n",
       "      <td>32</td>\n",
       "      <td>2</td>\n",
       "    </tr>\n",
       "  </tbody>\n",
       "</table>\n",
       "</div>"
      ],
      "text/plain": [
       "                                       win_ratio      mean  count recent\n",
       "~opentop2-small_volume-yz1-2            0.657143  1.026360     35      2\n",
       "~opentop2-speedup1-small_volume-yz1-2   0.657143  1.026462     35      2\n",
       "~opentop2-jump1-small_volume-yz1-2      0.625000  1.023453     32      2"
      ]
     },
     "execution_count": 38,
     "metadata": {},
     "output_type": "execute_result"
    }
   ],
   "source": [
    "df[df.index.isin(keys) == True]"
   ]
  },
  {
   "cell_type": "code",
   "execution_count": 39,
   "metadata": {
    "collapsed": false
   },
   "outputs": [
    {
     "data": {
      "text/plain": [
       "{'~opentop2-small_volume-yz1-2'}"
      ]
     },
     "execution_count": 39,
     "metadata": {},
     "output_type": "execute_result"
    }
   ],
   "source": [
    "keys = [\"~opentop2-small_volume-yz1-2\",\"~opentop2-speedup1-small_volume-yz1-2\",\"~opentop2-jump1-small_volume-yz1-2\"]\n",
    "valid_keysB = remove_invalid(df[df.index.isin(keys) == True],2)\n",
    "valid_keysB"
   ]
  },
  {
   "cell_type": "code",
   "execution_count": 40,
   "metadata": {
    "collapsed": false
   },
   "outputs": [
    {
     "name": "stdout",
     "output_type": "stream",
     "text": [
      "set(['~opentop2-~speedup1-jump1-jump2-~foot1-~isnew-minute-small_volume-2', '~opentop2-small_volume-yz1-2', 'opentop2-~speedup1-~jump1-~speedup2-foot0-~foot1-small_capq-minute-2', '~opentop2-speedup1-~jump1-foot0-~foot2-~small_capq-minute-2', '~opentop2-speedup1-jump2-foot1-foot2-minute-small_volume-~opentop1-top1-2', 'opentop2-foot0-foot1-~small_volume-2', 'speedup1-speedup2-jump2-foot0-~foot2-~isnew-small_capq-small_volume-2', '~jump1-jump2-~foot0-~foot1-~yz1-top1-opentop1-2', '~opentop2-speedup1-~jump1-jump2-foot0-~foot2-~isnew-small_volume-~opentop1-top1-2', '~speedup1-~jump1-speedup2-foot0-foot1-~isnew-~small_capq-minute-2', '~opentop2-~speedup1-~speedup2-foot1-~foot2-isnew-minute-2', '~opentop2-~jump2-~foot0-~foot2-isnew-small_volume-2', '~opentop2-~speedup1-~jump1-speedup2-~foot0-foot1-~small_capq-small_volume-2'])\n",
      "13 291 2\n",
      "--------\n",
      "set(['~speedup1-jump1-foot0-~foot1-foot2-small_capq-minute-~opentop1-top1-3', '~speedup1-~speedup2-foot0-~foot1-~foot2-small_capq-minute-~small_volume-~yz1-top1-opentop1-3', 'jump1-jump2-~foot0-~foot1-foot2-~small_capq-minute-~opentop1-top1-3', '~opentop2-~speedup1-jump1-speedup2-~foot1-foot2-minute-~opentop1-top1-3', 'opentop2-~speedup1-jump1-~foot1-~opentop1-top1-3', '~jump1-~foot0-~foot1-~foot2-~small_capq-small_volume-3', '~opentop2-~speedup1-~speedup2-foot1-small_capq-small_volume-~opentop1-top1-3', 'jump1-~foot1-~isnew-small_capq-minute-small_volume-yz0-~opentop1-top1-3', '~opentop2-jump2-foot0-~foot1-~foot2-~isnew-~small_capq-small_volume-3', 'jump1-~foot1-~foot2-~isnew-minute-small_volume-yz0-~opentop1-top1-3', '~opentop2-~jump2-foot0-~foot1-~foot2-small_capq-minute-small_volume-~yz1-top1-opentop1-3', '~speedup1-jump1-~jump2-foot0-~isnew-minute-~small_volume-~opentop0-top0-~opentop1-top1-3', 'opentop2-speedup1-~jump1-~foot0-~foot1-~isnew-~opentop1-top1-3', 'jump1-~speedup2-~foot1-~foot2-~isnew-minute-small_volume-yz0-3', '~opentop2-jump1-jump2-~foot1-foot2-~small_capq-minute-~opentop1-top1-3', '~opentop2-speedup1-foot0-~foot2-~isnew-~small_capq-minute-small_volume-3'])\n",
      "16 1270 3\n",
      "--------\n",
      "set(['~opentop2-~speedup1-jump1-~jump2-small_capq-minute-small_volume-~opentop0-top0-4', '~foot1-isnew-small_capq-4', '~opentop2-minute-small_volume-~yz1-top1-opentop1-4', '~speedup1-jump1-~jump2-foot0-~foot1-small_capq-minute-small_volume-4', '~speedup1-~foot0-~foot2-~isnew-~small_capq-minute-~opentop1-top1-4', '~opentop2-jump2-small_volume-yz0-4', '~opentop2-jump1-jump2-~foot0-~foot1-foot2-small_capq-4', '~opentop2-~speedup1-jump1-foot0-~foot1-~foot2-minute-small_volume-4', '~speedup1-jump1-~speedup2-~foot0-~foot1-~isnew-minute-~opentop0-top0-4', '~opentop2-~speedup1-~foot0-~foot1-foot2-small_capq-4', '~speedup1-~jump2-small_capq-minute-small_volume-~yz1-top1-opentop1-4', '~opentop2-~speedup2-jump2-foot2-small_capq-minute-4', '~opentop2-~speedup1-~speedup2-~foot1-~foot2-~small_capq-minute-4', '~opentop2-jump1-~speedup2-jump2-foot1-small_volume-4', '~speedup1-~speedup2-foot0-minute-small_volume-~yz1-top1-opentop1-4', '~speedup1-jump1-~speedup2-~foot0-~isnew-small_capq-small_volume-~opentop0-top0-~opentop1-top1-4', '~opentop2-jump1-~speedup2-~foot1-~isnew-small_capq-minute-small_volume-yz0-4', '~opentop2-~speedup2-jump2-~foot0-small_capq-small_volume-4'])\n",
      "18 3927 4\n",
      "--------\n",
      "set(['~opentop2-~speedup1-~jump2-foot0-~foot2-small_capq-small_volume-5', '~jump2-foot0-~foot1-~foot2-~isnew-minute-small_volume-~yz1-top1-opentop1-5', 'jump1-~foot0-~foot1-~foot2-~isnew-minute-~yz1-top1-opentop1-5', 'jump2-~foot0-~foot1-minute-small_volume-~yz0-top0-opentop0-~opentop1-top1-5', '~opentop2-~speedup1-jump1-~speedup2-~foot0-~isnew-minute-~opentop0-top0-~opentop1-top1-5', '~opentop2-~jump1-~jump2-~foot1-~foot2-small_capq-small_volume-5', '~speedup1-~jump1-speedup2-~foot0-~foot1-small_volume-~opentop1-top1-5'])\n",
      "7 679 5\n",
      "--------\n",
      "set(['~opentop2-~jump1-~speedup2-~jump2-~foot1-minute-6', 'foot0-~foot1-~foot2-~isnew-small_capq-minute-small_volume-6', '~opentop2-jump1-jump2-~foot2-minute-small_volume-6'])\n",
      "3 981 6\n",
      "--------\n",
      "set(['~opentop2-jump1-foot0-~foot1-~foot2-~isnew-small_capq-minute-7', '~opentop2-~speedup2-foot0-~foot1-~foot2-~isnew-small_capq-minute-7'])\n",
      "2 375 7\n",
      "--------\n"
     ]
    }
   ],
   "source": [
    "for i in range(2,8):\n",
    "    sub_df = df[df[\"recent\"] == str(i)]\n",
    "    valid_keys = remove_invalid(sub_df,i)\n",
    "    print valid_keys\n",
    "    print len(valid_keys),len(sub_df),i\n",
    "    print \"--------\""
   ]
  },
  {
   "cell_type": "code",
   "execution_count": 30,
   "metadata": {
    "collapsed": false
   },
   "outputs": [
    {
     "data": {
      "text/plain": [
       "7"
      ]
     },
     "execution_count": 30,
     "metadata": {},
     "output_type": "execute_result"
    }
   ],
   "source": [
    "len(valid_keys)"
   ]
  },
  {
   "cell_type": "code",
   "execution_count": 26,
   "metadata": {
    "collapsed": false
   },
   "outputs": [],
   "source": [
    "def remove_invalid(output_df,day):\n",
    "    keys = output_df.index\n",
    "    valid_keys = set(keys)\n",
    "    for keyA in keys:\n",
    "        if not keyA in valid_keys:\n",
    "            continue\n",
    "        filterA = getFilter(keyA)\n",
    "        filter_recent = recent(day,data_df)\n",
    "        for keyB in keys:\n",
    "            if not keyB in valid_keys or keyA == keyB:\n",
    "                continue\n",
    "#             print keyA + \"--\" + keyB\n",
    "            filterB = getFilter(keyB)\n",
    "            sub_dfA = data_df[filter_recent & filterA & ~filterB]\n",
    "            sub_dfB = data_df[filter_recent & filterB & ~filterA]\n",
    "            to_remove,to_break = shouldRemove(keyA,keyB,sub_dfA,sub_dfB,output_df)\n",
    "            if to_remove is not None:\n",
    "                valid_keys.remove(to_remove)\n",
    "            if to_break:\n",
    "                break            \n",
    "    return valid_keys"
   ]
  },
  {
   "cell_type": "code",
   "execution_count": 27,
   "metadata": {
    "collapsed": false
   },
   "outputs": [],
   "source": [
    "def shouldRemove(keyA,keyB,sub_dfA,sub_dfB,output_df):\n",
    "    if is_valid(sub_dfA) and not is_valid(sub_dfB):\n",
    "        return keyB,False\n",
    "    elif not is_valid(sub_dfA) and is_valid(sub_dfB):\n",
    "        return keyA,True\n",
    "    elif not is_valid(sub_dfA) and not is_valid(sub_dfB):\n",
    "        if output_df[\"count\"][keyA] > output_df[\"count\"][keyB]:\n",
    "            return keyB,False\n",
    "        elif output_df[\"count\"][keyA] < output_df[\"count\"][keyB]:\n",
    "            return keyA,True\n",
    "        else:\n",
    "            if keyA.split(\"-\") < keyB.split(\"-\"):\n",
    "                return keyB,False\n",
    "            elif keyA.split(\"-\") > keyB.split(\"-\"):\n",
    "                return keyA,True\n",
    "            else:\n",
    "                if output_df[\"win_ratio\"][keyA] >= output_df[\"win_ratio\"][keyB]:\n",
    "                    return keyB,False\n",
    "                else:\n",
    "                    return keyA,True\n",
    "    else:\n",
    "        return None,False"
   ]
  },
  {
   "cell_type": "code",
   "execution_count": 10,
   "metadata": {
    "collapsed": true
   },
   "outputs": [],
   "source": [
    "def is_valid(sub_df):\n",
    "    sub_df = sub_df.sort_values(\"minute\")\n",
    "    sub_df = sub_df.groupby(\"date\").first()\n",
    "    count = len(sub_df)\n",
    "    mean = sub_df.change.mean()\n",
    "    if mean < 1.015 or count < 2:\n",
    "        return False \n",
    "    win_df = sub_df[sub_df[\"change\"] > 1.0]\n",
    "    win_ratio = float(len(win_df))/len(sub_df)\n",
    "    if count < 10:\n",
    "        return mean > 1.025 and win_ratio > 0.75\n",
    "    else:\n",
    "        return mean > 1.02 and win_ratio > 0.6"
   ]
  },
  {
   "cell_type": "code",
   "execution_count": 11,
   "metadata": {
    "collapsed": false
   },
   "outputs": [],
   "source": []
  },
  {
   "cell_type": "code",
   "execution_count": null,
   "metadata": {
    "collapsed": true
   },
   "outputs": [],
   "source": []
  }
 ],
 "metadata": {
  "kernelspec": {
   "display_name": "Python 2",
   "language": "python",
   "name": "python2"
  },
  "language_info": {
   "codemirror_mode": {
    "name": "ipython",
    "version": 2
   },
   "file_extension": ".py",
   "mimetype": "text/x-python",
   "name": "python",
   "nbconvert_exporter": "python",
   "pygments_lexer": "ipython2",
   "version": "2.7.11"
  }
 },
 "nbformat": 4,
 "nbformat_minor": 0
}
