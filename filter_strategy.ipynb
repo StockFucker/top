{
 "cells": [
  {
   "cell_type": "code",
   "execution_count": 2,
   "metadata": {
    "collapsed": true
   },
   "outputs": [],
   "source": [
    "import pandas as pd"
   ]
  },
  {
   "cell_type": "code",
   "execution_count": 18,
   "metadata": {
    "collapsed": false
   },
   "outputs": [
    {
     "data": {
      "text/html": [
       "<div>\n",
       "<table border=\"1\" class=\"dataframe\">\n",
       "  <thead>\n",
       "    <tr style=\"text-align: right;\">\n",
       "      <th></th>\n",
       "      <th>win_ratio</th>\n",
       "      <th>mean</th>\n",
       "      <th>count</th>\n",
       "      <th>recent</th>\n",
       "    </tr>\n",
       "  </thead>\n",
       "  <tbody>\n",
       "    <tr>\n",
       "      <th>~speedup1-~opentop0-top0-~yz1-top1-opentop1-4</th>\n",
       "      <td>0.650000</td>\n",
       "      <td>1.020381</td>\n",
       "      <td>40</td>\n",
       "      <td>4</td>\n",
       "    </tr>\n",
       "    <tr>\n",
       "      <th>jump1-yz0-~opentop1-top1-3</th>\n",
       "      <td>0.617978</td>\n",
       "      <td>1.021005</td>\n",
       "      <td>89</td>\n",
       "      <td>3</td>\n",
       "    </tr>\n",
       "    <tr>\n",
       "      <th>speedup2-~yz0-top0-opentop0-~top1-1</th>\n",
       "      <td>0.617647</td>\n",
       "      <td>1.020963</td>\n",
       "      <td>34</td>\n",
       "      <td>1</td>\n",
       "    </tr>\n",
       "  </tbody>\n",
       "</table>\n",
       "</div>"
      ],
      "text/plain": [
       "                                               win_ratio      mean  count  \\\n",
       "~speedup1-~opentop0-top0-~yz1-top1-opentop1-4   0.650000  1.020381     40   \n",
       "jump1-yz0-~opentop1-top1-3                      0.617978  1.021005     89   \n",
       "speedup2-~yz0-top0-opentop0-~top1-1             0.617647  1.020963     34   \n",
       "\n",
       "                                              recent  \n",
       "~speedup1-~opentop0-top0-~yz1-top1-opentop1-4      4  \n",
       "jump1-yz0-~opentop1-top1-3                         3  \n",
       "speedup2-~yz0-top0-opentop0-~top1-1                1  "
      ]
     },
     "execution_count": 18,
     "metadata": {},
     "output_type": "execute_result"
    }
   ],
   "source": [
    "df = pd.read_csv(\"output3.csv\",index_col=0)\n",
    "df = df[~df[\"mean\"].duplicated()]\n",
    "df[\"recent\"] = df.index.str.slice(-1)\n",
    "df = df[df[\"count\"] > 30]\n",
    "df.head(3)"
   ]
  },
  {
   "cell_type": "code",
   "execution_count": 55,
   "metadata": {
    "collapsed": false
   },
   "outputs": [
    {
     "data": {
      "text/html": [
       "<div>\n",
       "<table border=\"1\" class=\"dataframe\">\n",
       "  <thead>\n",
       "    <tr style=\"text-align: right;\">\n",
       "      <th></th>\n",
       "      <th>win_ratio</th>\n",
       "      <th>mean</th>\n",
       "      <th>count</th>\n",
       "      <th>recent</th>\n",
       "    </tr>\n",
       "  </thead>\n",
       "  <tbody>\n",
       "    <tr>\n",
       "      <th>~opentop2-small_volume-yz1-2</th>\n",
       "      <td>0.657143</td>\n",
       "      <td>1.026360</td>\n",
       "      <td>35</td>\n",
       "      <td>2</td>\n",
       "    </tr>\n",
       "    <tr>\n",
       "      <th>~opentop2-speedup1-small_volume-yz1-2</th>\n",
       "      <td>0.657143</td>\n",
       "      <td>1.026462</td>\n",
       "      <td>35</td>\n",
       "      <td>2</td>\n",
       "    </tr>\n",
       "    <tr>\n",
       "      <th>~opentop2-jump1-small_volume-yz1-2</th>\n",
       "      <td>0.625000</td>\n",
       "      <td>1.023453</td>\n",
       "      <td>32</td>\n",
       "      <td>2</td>\n",
       "    </tr>\n",
       "    <tr>\n",
       "      <th>~opentop2-~speedup2-small_volume-yz1-2</th>\n",
       "      <td>0.676471</td>\n",
       "      <td>1.028356</td>\n",
       "      <td>34</td>\n",
       "      <td>2</td>\n",
       "    </tr>\n",
       "    <tr>\n",
       "      <th>~opentop2-~foot0-small_volume-yz1-2</th>\n",
       "      <td>0.612903</td>\n",
       "      <td>1.023296</td>\n",
       "      <td>31</td>\n",
       "      <td>2</td>\n",
       "    </tr>\n",
       "    <tr>\n",
       "      <th>speedup2-~foot0-small_capq-~yz1-top1-opentop1-2</th>\n",
       "      <td>0.705882</td>\n",
       "      <td>1.022490</td>\n",
       "      <td>34</td>\n",
       "      <td>2</td>\n",
       "    </tr>\n",
       "    <tr>\n",
       "      <th>speedup2-small_capq-small_volume-~yz1-top1-opentop1-2</th>\n",
       "      <td>0.666667</td>\n",
       "      <td>1.022768</td>\n",
       "      <td>39</td>\n",
       "      <td>2</td>\n",
       "    </tr>\n",
       "    <tr>\n",
       "      <th>~opentop2-jump1-~speedup2-small_volume-yz1-2</th>\n",
       "      <td>0.645161</td>\n",
       "      <td>1.025663</td>\n",
       "      <td>31</td>\n",
       "      <td>2</td>\n",
       "    </tr>\n",
       "    <tr>\n",
       "      <th>~opentop2-jump1-~foot2-small_volume-~yz1-top1-opentop1-2</th>\n",
       "      <td>0.622222</td>\n",
       "      <td>1.020907</td>\n",
       "      <td>45</td>\n",
       "      <td>2</td>\n",
       "    </tr>\n",
       "    <tr>\n",
       "      <th>~opentop2-~foot0-~foot2-small_volume-~yz1-top1-opentop1-2</th>\n",
       "      <td>0.625000</td>\n",
       "      <td>1.020322</td>\n",
       "      <td>56</td>\n",
       "      <td>2</td>\n",
       "    </tr>\n",
       "  </tbody>\n",
       "</table>\n",
       "</div>"
      ],
      "text/plain": [
       "                                                    win_ratio      mean  \\\n",
       "~opentop2-small_volume-yz1-2                         0.657143  1.026360   \n",
       "~opentop2-speedup1-small_volume-yz1-2                0.657143  1.026462   \n",
       "~opentop2-jump1-small_volume-yz1-2                   0.625000  1.023453   \n",
       "~opentop2-~speedup2-small_volume-yz1-2               0.676471  1.028356   \n",
       "~opentop2-~foot0-small_volume-yz1-2                  0.612903  1.023296   \n",
       "speedup2-~foot0-small_capq-~yz1-top1-opentop1-2      0.705882  1.022490   \n",
       "speedup2-small_capq-small_volume-~yz1-top1-open...   0.666667  1.022768   \n",
       "~opentop2-jump1-~speedup2-small_volume-yz1-2         0.645161  1.025663   \n",
       "~opentop2-jump1-~foot2-small_volume-~yz1-top1-o...   0.622222  1.020907   \n",
       "~opentop2-~foot0-~foot2-small_volume-~yz1-top1-...   0.625000  1.020322   \n",
       "\n",
       "                                                    count recent  \n",
       "~opentop2-small_volume-yz1-2                           35      2  \n",
       "~opentop2-speedup1-small_volume-yz1-2                  35      2  \n",
       "~opentop2-jump1-small_volume-yz1-2                     32      2  \n",
       "~opentop2-~speedup2-small_volume-yz1-2                 34      2  \n",
       "~opentop2-~foot0-small_volume-yz1-2                    31      2  \n",
       "speedup2-~foot0-small_capq-~yz1-top1-opentop1-2        34      2  \n",
       "speedup2-small_capq-small_volume-~yz1-top1-open...     39      2  \n",
       "~opentop2-jump1-~speedup2-small_volume-yz1-2           31      2  \n",
       "~opentop2-jump1-~foot2-small_volume-~yz1-top1-o...     45      2  \n",
       "~opentop2-~foot0-~foot2-small_volume-~yz1-top1-...     56      2  "
      ]
     },
     "execution_count": 55,
     "metadata": {},
     "output_type": "execute_result"
    }
   ],
   "source": [
    "sub_df = df[df.index.isin(valid_keys) == True]\n",
    "sub_df.head(10)"
   ]
  },
  {
   "cell_type": "code",
   "execution_count": 78,
   "metadata": {
    "collapsed": false
   },
   "outputs": [
    {
     "name": "stdout",
     "output_type": "stream",
     "text": [
      "~opentop2-small_volume-yz1-2--~opentop2-speedup1-small_volume-yz1-2\n",
      "~opentop2-small_volume-yz1-2\n",
      "~opentop2-speedup1-small_volume-yz1-2--~opentop2-jump1-small_volume-yz1-2\n"
     ]
    },
    {
     "data": {
      "text/plain": [
       "{'~opentop2-speedup1-small_volume-yz1-2'}"
      ]
     },
     "execution_count": 78,
     "metadata": {},
     "output_type": "execute_result"
    }
   ],
   "source": [
    "keys = [\"~opentop2-small_volume-yz1-2\",\"~opentop2-speedup1-small_volume-yz1-2\",\"~opentop2-jump1-small_volume-yz1-2\"]\n",
    "valid_keysB = remove_invalid(df[df.index.isin(keys) == True],i)\n",
    "valid_keysB"
   ]
  },
  {
   "cell_type": "code",
   "execution_count": null,
   "metadata": {
    "collapsed": true
   },
   "outputs": [],
   "source": []
  },
  {
   "cell_type": "code",
   "execution_count": 52,
   "metadata": {
    "collapsed": false
   },
   "outputs": [
    {
     "name": "stdout",
     "output_type": "stream",
     "text": [
      "108 2\n",
      "set(['speedup2-jump2-~foot0-~foot1-small_capq-~yz1-top1-opentop1-2', '~opentop2-jump1-small_volume-yz1-2', '~opentop2-~speedup2-small_volume-yz1-2', '~speedup1-~jump1-~speedup2-foot1-isnew-minute-2', 'speedup2-small_capq-small_volume-~yz1-top1-opentop1-2', '~opentop2-speedup1-jump1-~speedup2-small_volume-yz1-2', '~opentop2-small_volume-yz1-2', '~opentop2-speedup1-small_volume-yz1-2', 'speedup2-jump2-small_capq-minute-small_volume-~yz1-top1-opentop1-2', 'jump2-~foot0-~foot1-~foot2-small_capq-small_volume-~yz1-top1-opentop1-2', '~opentop2-jump1-~foot2-small_volume-~yz1-top1-opentop1-2', '~speedup1-~jump1-speedup2-foot0-foot1-~isnew-~small_capq-2', 'speedup2-~foot0-small_capq-minute-~yz1-top1-opentop1-2', 'speedup2-jump2-~foot0-~foot1-minute-small_volume-~yz1-top1-opentop1-2', 'speedup2-~foot0-~foot1-small_capq-~yz1-top1-opentop1-2', '~opentop2-speedup1-~jump1-speedup2-jump2-foot0-small_volume-2', 'speedup2-~foot0-small_capq-~yz1-top1-opentop1-2', 'speedup2-jump2-~foot0-small_capq-small_volume-~yz1-top1-opentop1-2', 'speedup2-~foot1-small_capq-small_volume-~yz1-top1-opentop1-2', 'speedup1-speedup2-jump2-foot0-~foot2-small_capq-small_volume-2', 'speedup2-small_capq-minute-small_volume-~yz1-top1-opentop1-2', '~opentop2-~speedup1-~speedup2-~jump2-foot1-isnew-minute-2', 'speedup2-~foot0-~foot1-minute-small_volume-~yz1-top1-opentop1-2', 'jump2-~foot1-~foot2-small_capq-small_volume-~yz1-top1-opentop1-2', '~speedup1-~jump1-~speedup2-foot1-~foot2-isnew-minute-2', '~opentop2-jump1-~foot0-~foot2-small_volume-~yz1-top1-opentop1-2', 'speedup2-~foot1-small_capq-minute-~yz1-top1-opentop1-2', 'speedup1-speedup2-jump2-foot0-~foot2-~isnew-small_capq-small_volume-2', 'speedup1-~jump1-speedup2-foot0-~foot2-~isnew-small_volume-2', 'speedup2-jump2-~foot0-small_capq-minute-~yz1-top1-opentop1-2', 'speedup2-jump2-~foot1-small_capq-minute-small_volume-~yz1-top1-opentop1-2', '~speedup1-~jump1-speedup2-jump2-foot0-foot1-~small_capq-2', '~speedup1-~speedup2-foot1-isnew-minute-2', '~speedup1-~speedup2-foot1-~foot2-isnew-minute-2', '~opentop2-jump1-~foot1-~foot2-small_volume-~yz1-top1-opentop1-2', '~speedup1-~jump1-speedup2-jump2-foot0-foot1-~small_capq-minute-2', 'speedup2-~foot0-small_capq-small_volume-~yz1-top1-opentop1-2', '~speedup1-~jump1-speedup2-foot0-foot1-~foot2-~small_capq-2', '~speedup1-~jump1-speedup2-foot0-foot1-~isnew-~small_capq-minute-2', '~opentop2-~speedup1-~jump1-speedup2-~foot0-foot1-~small_capq-small_volume-2', 'speedup2-~foot0-~foot1-small_capq-minute-~yz1-top1-opentop1-2', 'speedup2-jump2-small_capq-small_volume-~yz1-top1-opentop1-2', '~opentop2-~speedup1-~jump1-speedup2-foot1-~small_capq-small_volume-2', '~opentop2-~speedup1-~speedup2-foot1-~foot2-isnew-minute-2', 'speedup2-jump2-~foot0-small_capq-~yz1-top1-opentop1-2', '~opentop2-~speedup1-jump1-speedup2-~foot1-~foot2-2', 'speedup2-jump2-~foot1-minute-small_volume-~yz1-top1-opentop1-2', '~opentop2-~speedup1-~speedup2-foot1-isnew-minute-2', '~speedup1-~jump1-speedup2-foot0-foot1-~small_capq-minute-2', '~opentop2-~foot0-small_volume-yz1-2', 'speedup2-~foot1-small_capq-minute-small_volume-~yz1-top1-opentop1-2', 'speedup1-speedup2-foot0-~foot2-~isnew-small_capq-small_volume-2', '~opentop2-~speedup1-~jump1-~speedup2-foot1-isnew-minute-2', 'speedup2-~foot0-~foot1-small_capq-small_volume-~yz1-top1-opentop1-2', '~speedup1-~jump1-speedup2-foot0-foot1-~foot2-~isnew-~small_capq-2', 'speedup2-~foot0-small_capq-minute-small_volume-~yz1-top1-opentop1-2', 'speedup2-jump2-~foot0-~foot1-small_capq-small_volume-~yz1-top1-opentop1-2', '~opentop2-~foot0-~foot2-small_volume-~yz1-top1-opentop1-2', '~opentop2-jump1-~speedup2-small_volume-yz1-2', 'speedup2-~foot0-~foot1-small_volume-~yz1-top1-opentop1-2'])\n"
     ]
    }
   ],
   "source": [
    "for i in range(2,3):\n",
    "    sub_df = df[df[\"recent\"] == str(i)]\n",
    "    print len(sub_df),i\n",
    "    valid_keys = remove_invalid(sub_df,i)\n",
    "    print valid_keys"
   ]
  },
  {
   "cell_type": "code",
   "execution_count": 77,
   "metadata": {
    "collapsed": false
   },
   "outputs": [],
   "source": [
    "def remove_invalid(output_df,day):\n",
    "    keys = output_df.index\n",
    "    valid_keys = set(keys)\n",
    "    for keyA in keys:\n",
    "        if not keyA in valid_keys:\n",
    "            continue\n",
    "        filterA = getFilter(keyA)\n",
    "        filter_recent = recent(day,data_df)\n",
    "        for keyB in keys:\n",
    "            if not keyB in valid_keys or keyA == keyB:\n",
    "                continue\n",
    "            print keyA + \"--\" + keyB\n",
    "            filterB = getFilter(keyB)\n",
    "            sub_dfA = data_df[filter_recent & filterA & ~filterB]\n",
    "            sub_dfB = data_df[filter_recent & filterB & ~filterA]\n",
    "            if is_valid(sub_dfA) and not is_valid(sub_dfB):\n",
    "                valid_keys.remove(keyB)\n",
    "            elif not is_valid(sub_dfA) and is_valid(sub_dfB):\n",
    "                valid_keys.remove(keyA)\n",
    "                break\n",
    "            elif not is_valid(sub_dfA) and not is_valid(sub_dfB):\n",
    "                if output_df[\"count\"][keyA] > output_df[\"count\"][keyB]:\n",
    "                    print keyB\n",
    "                    valid_keys.remove(keyB)\n",
    "                elif output_df[\"count\"][keyA] < output_df[\"count\"][keyB]:\n",
    "                    print keyA\n",
    "                    valid_keys.remove(keyA)\n",
    "                    break\n",
    "                else:\n",
    "                    if keyA.split(\"-\") > keyB.split(\"-\"):\n",
    "                        valid_keys.remove(keyB)\n",
    "                    elif keyA.split(\"-\") < keyB.split(\"-\"):\n",
    "                        valid_keys.remove(keyA)\n",
    "                        break\n",
    "                    else:\n",
    "                        if \n",
    "                        \n",
    "    return valid_keys"
   ]
  },
  {
   "cell_type": "code",
   "execution_count": 64,
   "metadata": {
    "collapsed": true
   },
   "outputs": [],
   "source": [
    "def is_valid(sub_df):\n",
    "    sub_df = sub_df.sort_values(\"minute\")\n",
    "    sub_df = sub_df.groupby(\"date\").first()\n",
    "    count = len(sub_df)\n",
    "    mean = sub_df.change.mean()\n",
    "    if mean < 1.015 or count < 2:\n",
    "        return False \n",
    "    win_df = sub_df[sub_df[\"change\"] > 1.0]\n",
    "    win_ratio = float(len(win_df))/len(sub_df)\n",
    "    if count < 10:\n",
    "        return mean > 1.025 and win_ratio > 0.75\n",
    "    else:\n",
    "        return mean > 1.02 and win_ratio > 0.6"
   ]
  },
  {
   "cell_type": "code",
   "execution_count": 32,
   "metadata": {
    "collapsed": false
   },
   "outputs": [],
   "source": [
    "data_df = pd.read_csv(\"top2.csv\",index_col=0, parse_dates=True)\n",
    "data_df = data_df[data_df[\"change\"] < 1.22]\n",
    "data_df = data_df[~data_df[\"minute_low\"].isnull()]\n",
    "\n",
    "\n",
    "def low(day):\n",
    "    return \"minute_low\" if day == 2 else \"low\" + str(day)\n",
    "def yz(day):\n",
    "    return (data_df[low(day)] == data_df[\"high_limit\" + str(day)])\n",
    "def notyz(day):\n",
    "    return (data_df[low(day)] < data_df[\"high_limit\" + str(day)])\n",
    "def top(day):\n",
    "    return (data_df[\"close\" + str(day)] == data_df[\"high_limit\" + str(day)])\n",
    "def nottop(day):\n",
    "    return (data_df[\"close\" + str(day)] < data_df[\"high_limit\" + str(day)])\n",
    "def opentop(day):\n",
    "    return (data_df[\"open\" + str(day)] == data_df[\"high_limit\" + str(day)])\n",
    "def jump(day):\n",
    "    return (data_df[low(day)] > data_df[\"high\" + str(day - 1)]) \n",
    "def foot(day,degree = 1.0):\n",
    "    return (data_df[low(day)] >= data_df[\"open\" + str(day)] * degree)\n",
    "def speedup(day):\n",
    "    return (data_df[\"high\" + str(day)] - data_df[low(day)] < data_df[\"high\" + str(day - 1)] - data_df[low(day - 1)])\n",
    "def recent(day,valid_data_df):\n",
    "    return valid_data_df[\"recent\"] == day\n",
    "\n",
    "\n",
    "isnew = data_df[\"isnew\"] == 1\n",
    "small_capq = data_df[\"capq\"] < 0.5\n",
    "small_cap = data_df[\"circap\"] < 200\n",
    "minute = (data_df[\"minute\"] < \"11:00:00\")\n",
    "small_volume = (data_df[\"minute_volume\"] < data_df[\"volume1\"] * 0.5)\n",
    "\n",
    "#前天/昨天/今天开盘涨停\n",
    "opentop0 = opentop(0)\n",
    "opentop1 = opentop(1)\n",
    "opentop2 = opentop(2)\n",
    "\n",
    "# 前天/昨天/今天是/不是一字板\n",
    "yz0 = yz(0)\n",
    "yz1 = yz(1)\n",
    "yz2 = yz(2)\n",
    "\n",
    "# 前天/昨天是/否涨停\n",
    "top0 = top(0)\n",
    "top1 = top(1)\n",
    "\n",
    "# 前天/昨天/今天 光脚\n",
    "foot0 = foot(0,0.995)\n",
    "foot1 = foot(1,0.995)\n",
    "foot2 = foot(2,0.995)\n",
    "\n",
    "# 昨天/今天 跳高\n",
    "jump1 = jump(1)\n",
    "jump2 = jump(2)\n",
    "\n",
    "#昨天/今天 加速\n",
    "speedup1 = speedup(1)\n",
    "speedup2 = speedup(2)\n",
    "\n",
    "def __eval(filter_name):\n",
    "    if filter_name[0] == \"~\":\n",
    "        return ~eval(filter_name[1:])\n",
    "    else:\n",
    "        return eval(filter_name)\n",
    "\n",
    "def combineFilters(filters):\n",
    "    return reduce(lambda x, y: x & y, [__eval(filter_name) for filter_name in filters] + [~yz2])\n",
    "\n",
    "def getFilter(filter_key):\n",
    "    filter_names = filter_key.split(\"-\")[:-1]\n",
    "    the_filter = combineFilters(filter_names)\n",
    "    return the_filter"
   ]
  },
  {
   "cell_type": "code",
   "execution_count": null,
   "metadata": {
    "collapsed": true
   },
   "outputs": [],
   "source": []
  }
 ],
 "metadata": {
  "kernelspec": {
   "display_name": "Python 2",
   "language": "python",
   "name": "python2"
  },
  "language_info": {
   "codemirror_mode": {
    "name": "ipython",
    "version": 2
   },
   "file_extension": ".py",
   "mimetype": "text/x-python",
   "name": "python",
   "nbconvert_exporter": "python",
   "pygments_lexer": "ipython2",
   "version": "2.7.11"
  }
 },
 "nbformat": 4,
 "nbformat_minor": 0
}
